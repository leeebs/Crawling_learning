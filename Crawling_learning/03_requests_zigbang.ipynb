{
 "cells": [
  {
   "cell_type": "markdown",
   "id": "cbf3322e",
   "metadata": {},
   "source": [
    "### 직방 서비스 원룸 데이터 수집\n",
    "- 복잡한 데이터 수집 방법\n",
    "- 동이름 입력 -> 매물정보를 데이터프레임으로 수집"
   ]
  },
  {
   "cell_type": "markdown",
   "id": "f16c3c0e",
   "metadata": {},
   "source": [
    "#### 절차\n",
    " - 동이름 입력 -> 위도, 경도\n",
    " - 위도, 경도 -> geohash code(지역범위)\n",
    " - geohash -> 매물 아이디 가져오기\n",
    " - 매물 아이디 -> 매물 정보 가져오기"
   ]
  },
  {
   "cell_type": "code",
   "execution_count": 1,
   "id": "ea24459f",
   "metadata": {},
   "outputs": [],
   "source": [
    "import requests\n",
    "import pandas as pd"
   ]
  },
  {
   "cell_type": "markdown",
   "id": "1c4adca4",
   "metadata": {},
   "source": [
    "### 1. 동이름으로 위도 경도 가져오기"
   ]
  },
  {
   "cell_type": "code",
   "execution_count": 5,
   "id": "f77a8f0c",
   "metadata": {},
   "outputs": [
    {
     "data": {
      "text/plain": [
       "(37.141143798828125, 127.07926177978516)"
      ]
     },
     "execution_count": 5,
     "metadata": {},
     "output_type": "execute_result"
    }
   ],
   "source": [
    "query = \"오산시 원동\"\n",
    "url = f\"https://apis.zigbang.com/v2/search?leaseYn=N&q={query}&serviceType=원룸\"\n",
    "response = requests.get(url)\n",
    "datas = response.json()['items'][0]\n",
    "lat, lng = datas['lat'], datas['lng']\n",
    "lat, lng"
   ]
  },
  {
   "cell_type": "markdown",
   "id": "8171d654",
   "metadata": {},
   "source": [
    "### 2. 위도 경도로 geohash code 가져오기"
   ]
  },
  {
   "cell_type": "code",
   "execution_count": 6,
   "id": "701c2881",
   "metadata": {
    "scrolled": true
   },
   "outputs": [
    {
     "name": "stdout",
     "output_type": "stream",
     "text": [
      "Collecting geohash2\n",
      "  Downloading geohash2-1.1.tar.gz (15 kB)\n",
      "Requirement already satisfied: docutils>=0.3 in c:\\users\\user\\anaconda3\\lib\\site-packages (from geohash2) (0.17)\n",
      "Building wheels for collected packages: geohash2\n",
      "  Building wheel for geohash2 (setup.py): started\n",
      "  Building wheel for geohash2 (setup.py): finished with status 'done'\n",
      "  Created wheel for geohash2: filename=geohash2-1.1-py3-none-any.whl size=15544 sha256=3fa56be6cbfa43ee23a4e15a05fb7af9d19ace219936317b11af7e7235e5a648\n",
      "  Stored in directory: c:\\users\\user\\appdata\\local\\pip\\cache\\wheels\\2d\\0c\\66\\dcd768c9e7c26fc81ec59bfe24af9d780fc9dbdf7f90b0cf00\n",
      "Successfully built geohash2\n",
      "Installing collected packages: geohash2\n",
      "Successfully installed geohash2-1.1\n"
     ]
    }
   ],
   "source": [
    "!pip install geohash2"
   ]
  },
  {
   "cell_type": "code",
   "execution_count": 8,
   "id": "d1f02644",
   "metadata": {},
   "outputs": [],
   "source": [
    "import geohash2"
   ]
  },
  {
   "cell_type": "code",
   "execution_count": 11,
   "id": "dd135123",
   "metadata": {},
   "outputs": [
    {
     "data": {
      "text/plain": [
       "'wyd77'"
      ]
     },
     "execution_count": 11,
     "metadata": {},
     "output_type": "execute_result"
    }
   ],
   "source": [
    "# precision 영역 값이 커질수록 영역이 작아짐\n",
    "code = geohash2.encode(lat, lng, precision=5)\n",
    "code"
   ]
  },
  {
   "cell_type": "markdown",
   "id": "fd8f873a",
   "metadata": {},
   "source": [
    "### 3. geohash로 매물아이디 가져오기"
   ]
  },
  {
   "cell_type": "code",
   "execution_count": 13,
   "id": "083b3351",
   "metadata": {},
   "outputs": [
    {
     "data": {
      "text/plain": [
       "<Response [200]>"
      ]
     },
     "execution_count": 13,
     "metadata": {},
     "output_type": "execute_result"
    }
   ],
   "source": [
    "url = f\"https://apis.zigbang.com/v2/items?deposit_gteq=0&domain=zigbang\\\n",
    "&geohash={code}&needHasNoFiltered=true&rent_gteq=0&sales_type_in=전세|월세&service_type_eq=원룸\"\n",
    "response = requests.get(url)\n",
    "response"
   ]
  },
  {
   "cell_type": "code",
   "execution_count": 17,
   "id": "a47a0644",
   "metadata": {},
   "outputs": [
    {
     "data": {
      "text/plain": [
       "[{'lat': 37.13412263086823, 'lng': 127.08478867100307, 'item_id': 30708429},\n",
       " {'lat': 37.13368456578751, 'lng': 127.08457983681409, 'item_id': 30217883},\n",
       " {'lat': 37.135224407213244, 'lng': 127.08369620861865, 'item_id': 30474918}]"
      ]
     },
     "execution_count": 17,
     "metadata": {},
     "output_type": "execute_result"
    }
   ],
   "source": [
    "datas = response.json()[\"items\"]\n",
    "datas[:3]"
   ]
  },
  {
   "cell_type": "code",
   "execution_count": 19,
   "id": "a526450e",
   "metadata": {},
   "outputs": [
    {
     "data": {
      "text/plain": [
       "[30708429, 30217883, 30474918, 30681715, 30666077]"
      ]
     },
     "execution_count": 19,
     "metadata": {},
     "output_type": "execute_result"
    }
   ],
   "source": [
    "ids = []\n",
    "for data in datas:\n",
    "    ids.append(data['item_id'])\n",
    "\n",
    "ids[:5]"
   ]
  },
  {
   "cell_type": "code",
   "execution_count": 20,
   "id": "44c66e96",
   "metadata": {},
   "outputs": [
    {
     "data": {
      "text/plain": [
       "[30708429, 30217883, 30474918, 30681715]"
      ]
     },
     "execution_count": 20,
     "metadata": {},
     "output_type": "execute_result"
    }
   ],
   "source": [
    "ids = [data['item_id'] for data in datas]\n",
    "ids[:4]"
   ]
  },
  {
   "cell_type": "code",
   "execution_count": 23,
   "id": "a074c43c",
   "metadata": {},
   "outputs": [
    {
     "data": {
      "text/plain": [
       "[1, 9, 25, 49, 81]"
      ]
     },
     "execution_count": 23,
     "metadata": {},
     "output_type": "execute_result"
    }
   ],
   "source": [
    "# list comprehension : 간단한 리스트 데이터를 만들때 주로 사용\n",
    "# 홀수 데이터만 제곱해서 리스트로 만들어 출력\n",
    "# for문보다 list comprehension이 더 효율적이다\n",
    "\n",
    "d1 = range(10)\n",
    "list(d1)\n",
    "\n",
    "d2 = [ data**2 for data in d1 if data%2!=0]\n",
    "d2"
   ]
  },
  {
   "cell_type": "markdown",
   "id": "3225dc81",
   "metadata": {},
   "source": [
    "### 4. 매물 아이디 -> 매물 정보 가져오기"
   ]
  },
  {
   "cell_type": "code",
   "execution_count": 25,
   "id": "4dad38ad",
   "metadata": {},
   "outputs": [
    {
     "data": {
      "text/plain": [
       "[30708429, 30217883]"
      ]
     },
     "execution_count": 25,
     "metadata": {},
     "output_type": "execute_result"
    }
   ],
   "source": [
    "ids[:2]"
   ]
  },
  {
   "cell_type": "code",
   "execution_count": 26,
   "id": "e9164bdc",
   "metadata": {},
   "outputs": [
    {
     "data": {
      "text/plain": [
       "<Response [200]>"
      ]
     },
     "execution_count": 26,
     "metadata": {},
     "output_type": "execute_result"
    }
   ],
   "source": [
    "url = 'https://apis.zigbang.com/v2/items/list'\n",
    "params = {\"domain\": \"zigbang\", \n",
    "         \"withCoalition\": \"true\",\n",
    "         \"item_ids\" : ids,\n",
    "         }\n",
    "response = requests.post(url, params)\n",
    "response"
   ]
  },
  {
   "cell_type": "code",
   "execution_count": 43,
   "id": "436f5575",
   "metadata": {},
   "outputs": [
    {
     "data": {
      "text/html": [
       "<div>\n",
       "<style scoped>\n",
       "    .dataframe tbody tr th:only-of-type {\n",
       "        vertical-align: middle;\n",
       "    }\n",
       "\n",
       "    .dataframe tbody tr th {\n",
       "        vertical-align: top;\n",
       "    }\n",
       "\n",
       "    .dataframe thead th {\n",
       "        text-align: right;\n",
       "    }\n",
       "</style>\n",
       "<table border=\"1\" class=\"dataframe\">\n",
       "  <thead>\n",
       "    <tr style=\"text-align: right;\">\n",
       "      <th></th>\n",
       "      <th>section_type</th>\n",
       "      <th>item_id</th>\n",
       "      <th>images_thumbnail</th>\n",
       "      <th>sales_type</th>\n",
       "      <th>sales_title</th>\n",
       "      <th>deposit</th>\n",
       "      <th>rent</th>\n",
       "      <th>size_m2</th>\n",
       "      <th>공급면적</th>\n",
       "      <th>전용면적</th>\n",
       "      <th>...</th>\n",
       "      <th>is_zzim</th>\n",
       "      <th>status</th>\n",
       "      <th>service_type</th>\n",
       "      <th>tags</th>\n",
       "      <th>address1</th>\n",
       "      <th>address2</th>\n",
       "      <th>address3</th>\n",
       "      <th>manage_cost</th>\n",
       "      <th>reg_date</th>\n",
       "      <th>is_new</th>\n",
       "    </tr>\n",
       "  </thead>\n",
       "  <tbody>\n",
       "    <tr>\n",
       "      <th>870</th>\n",
       "      <td>None</td>\n",
       "      <td>30536348</td>\n",
       "      <td>https://ic.zigbang.com/ic/items/30536348/1.jpg</td>\n",
       "      <td>전세</td>\n",
       "      <td>전세</td>\n",
       "      <td>22000</td>\n",
       "      <td>0</td>\n",
       "      <td>72.73</td>\n",
       "      <td>{'m2': 72.73, 'p': '22'}</td>\n",
       "      <td>{'m2': 66.12, 'p': '20'}</td>\n",
       "      <td>...</td>\n",
       "      <td>False</td>\n",
       "      <td>True</td>\n",
       "      <td>빌라</td>\n",
       "      <td>[추천]</td>\n",
       "      <td>경기도 오산시 금암동</td>\n",
       "      <td>None</td>\n",
       "      <td>None</td>\n",
       "      <td>7</td>\n",
       "      <td>2022-02-19T00:54:01+09:00</td>\n",
       "      <td>False</td>\n",
       "    </tr>\n",
       "    <tr>\n",
       "      <th>871</th>\n",
       "      <td>None</td>\n",
       "      <td>30720941</td>\n",
       "      <td>https://ic.zigbang.com/ic/items/30720941/1.jpg</td>\n",
       "      <td>월세</td>\n",
       "      <td>월세</td>\n",
       "      <td>300</td>\n",
       "      <td>39</td>\n",
       "      <td>23.14</td>\n",
       "      <td>{'m2': 23.14, 'p': '7'}</td>\n",
       "      <td>{'m2': 23.14, 'p': '7'}</td>\n",
       "      <td>...</td>\n",
       "      <td>False</td>\n",
       "      <td>True</td>\n",
       "      <td>원룸</td>\n",
       "      <td>[]</td>\n",
       "      <td>경기도 오산시 내삼미동</td>\n",
       "      <td>None</td>\n",
       "      <td>None</td>\n",
       "      <td>6</td>\n",
       "      <td>2022-02-20T22:17:51+09:00</td>\n",
       "      <td>True</td>\n",
       "    </tr>\n",
       "  </tbody>\n",
       "</table>\n",
       "<p>2 rows × 30 columns</p>\n",
       "</div>"
      ],
      "text/plain": [
       "    section_type   item_id                                images_thumbnail  \\\n",
       "870         None  30536348  https://ic.zigbang.com/ic/items/30536348/1.jpg   \n",
       "871         None  30720941  https://ic.zigbang.com/ic/items/30720941/1.jpg   \n",
       "\n",
       "    sales_type sales_title  deposit  rent  size_m2                      공급면적  \\\n",
       "870         전세          전세    22000     0    72.73  {'m2': 72.73, 'p': '22'}   \n",
       "871         월세          월세      300    39    23.14   {'m2': 23.14, 'p': '7'}   \n",
       "\n",
       "                         전용면적  ... is_zzim status service_type  tags  \\\n",
       "870  {'m2': 66.12, 'p': '20'}  ...   False   True           빌라  [추천]   \n",
       "871   {'m2': 23.14, 'p': '7'}  ...   False   True           원룸    []   \n",
       "\n",
       "         address1 address2 address3 manage_cost                   reg_date  \\\n",
       "870   경기도 오산시 금암동     None     None           7  2022-02-19T00:54:01+09:00   \n",
       "871  경기도 오산시 내삼미동     None     None           6  2022-02-20T22:17:51+09:00   \n",
       "\n",
       "    is_new  \n",
       "870  False  \n",
       "871   True  \n",
       "\n",
       "[2 rows x 30 columns]"
      ]
     },
     "execution_count": 43,
     "metadata": {},
     "output_type": "execute_result"
    }
   ],
   "source": [
    "items = response.json()[\"items\"]\n",
    "item_df = pd.DataFrame(items)\n",
    "item_df.tail(2)"
   ]
  },
  {
   "cell_type": "code",
   "execution_count": 46,
   "id": "b845424f",
   "metadata": {},
   "outputs": [
    {
     "data": {
      "text/plain": [
       "Index(['section_type', 'item_id', 'images_thumbnail', 'sales_type',\n",
       "       'sales_title', 'deposit', 'rent', 'size_m2', '공급면적', '전용면적', '계약면적',\n",
       "       'room_type_title', 'floor', 'floor_string', 'building_floor', 'title',\n",
       "       'is_first_movein', 'room_type', 'address', 'random_location', 'is_zzim',\n",
       "       'status', 'service_type', 'tags', 'address1', 'address2', 'address3',\n",
       "       'manage_cost', 'reg_date', 'is_new'],\n",
       "      dtype='object')"
      ]
     },
     "execution_count": 46,
     "metadata": {},
     "output_type": "execute_result"
    }
   ],
   "source": [
    "item_df.columns"
   ]
  },
  {
   "cell_type": "code",
   "execution_count": 47,
   "id": "f433882c",
   "metadata": {},
   "outputs": [],
   "source": [
    "columns = ['sales_type', 'deposit', 'rent','address','size_m2', 'manage_cost']"
   ]
  },
  {
   "cell_type": "code",
   "execution_count": 48,
   "id": "d414e238",
   "metadata": {},
   "outputs": [
    {
     "data": {
      "text/html": [
       "<div>\n",
       "<style scoped>\n",
       "    .dataframe tbody tr th:only-of-type {\n",
       "        vertical-align: middle;\n",
       "    }\n",
       "\n",
       "    .dataframe tbody tr th {\n",
       "        vertical-align: top;\n",
       "    }\n",
       "\n",
       "    .dataframe thead th {\n",
       "        text-align: right;\n",
       "    }\n",
       "</style>\n",
       "<table border=\"1\" class=\"dataframe\">\n",
       "  <thead>\n",
       "    <tr style=\"text-align: right;\">\n",
       "      <th></th>\n",
       "      <th>sales_type</th>\n",
       "      <th>deposit</th>\n",
       "      <th>rent</th>\n",
       "      <th>address</th>\n",
       "      <th>size_m2</th>\n",
       "      <th>manage_cost</th>\n",
       "    </tr>\n",
       "  </thead>\n",
       "  <tbody>\n",
       "    <tr>\n",
       "      <th>0</th>\n",
       "      <td>전세</td>\n",
       "      <td>5500</td>\n",
       "      <td>0</td>\n",
       "      <td>오산시 고현동</td>\n",
       "      <td>23.1400</td>\n",
       "      <td>6</td>\n",
       "    </tr>\n",
       "    <tr>\n",
       "      <th>1</th>\n",
       "      <td>월세</td>\n",
       "      <td>300</td>\n",
       "      <td>30</td>\n",
       "      <td>오산시 고현동</td>\n",
       "      <td>19.8347</td>\n",
       "      <td>5</td>\n",
       "    </tr>\n",
       "    <tr>\n",
       "      <th>2</th>\n",
       "      <td>월세</td>\n",
       "      <td>500</td>\n",
       "      <td>50</td>\n",
       "      <td>오산시 고현동</td>\n",
       "      <td>26.4400</td>\n",
       "      <td>6</td>\n",
       "    </tr>\n",
       "    <tr>\n",
       "      <th>3</th>\n",
       "      <td>월세</td>\n",
       "      <td>300</td>\n",
       "      <td>42</td>\n",
       "      <td>오산시 고현동</td>\n",
       "      <td>26.4500</td>\n",
       "      <td>6</td>\n",
       "    </tr>\n",
       "    <tr>\n",
       "      <th>4</th>\n",
       "      <td>월세</td>\n",
       "      <td>300</td>\n",
       "      <td>35</td>\n",
       "      <td>오산시 고현동</td>\n",
       "      <td>19.8300</td>\n",
       "      <td>5</td>\n",
       "    </tr>\n",
       "    <tr>\n",
       "      <th>...</th>\n",
       "      <td>...</td>\n",
       "      <td>...</td>\n",
       "      <td>...</td>\n",
       "      <td>...</td>\n",
       "      <td>...</td>\n",
       "      <td>...</td>\n",
       "    </tr>\n",
       "    <tr>\n",
       "      <th>867</th>\n",
       "      <td>월세</td>\n",
       "      <td>50</td>\n",
       "      <td>43</td>\n",
       "      <td>오산시 내삼미동</td>\n",
       "      <td>33.0600</td>\n",
       "      <td>7</td>\n",
       "    </tr>\n",
       "    <tr>\n",
       "      <th>868</th>\n",
       "      <td>월세</td>\n",
       "      <td>300</td>\n",
       "      <td>35</td>\n",
       "      <td>오산시 내삼미동</td>\n",
       "      <td>19.8300</td>\n",
       "      <td>6</td>\n",
       "    </tr>\n",
       "    <tr>\n",
       "      <th>869</th>\n",
       "      <td>전세</td>\n",
       "      <td>22000</td>\n",
       "      <td>0</td>\n",
       "      <td>오산시 금암동</td>\n",
       "      <td>72.7300</td>\n",
       "      <td>7</td>\n",
       "    </tr>\n",
       "    <tr>\n",
       "      <th>870</th>\n",
       "      <td>전세</td>\n",
       "      <td>22000</td>\n",
       "      <td>0</td>\n",
       "      <td>오산시 금암동</td>\n",
       "      <td>72.7300</td>\n",
       "      <td>7</td>\n",
       "    </tr>\n",
       "    <tr>\n",
       "      <th>871</th>\n",
       "      <td>월세</td>\n",
       "      <td>300</td>\n",
       "      <td>39</td>\n",
       "      <td>오산시 내삼미동</td>\n",
       "      <td>23.1400</td>\n",
       "      <td>6</td>\n",
       "    </tr>\n",
       "  </tbody>\n",
       "</table>\n",
       "<p>872 rows × 6 columns</p>\n",
       "</div>"
      ],
      "text/plain": [
       "    sales_type  deposit  rent   address  size_m2 manage_cost\n",
       "0           전세     5500     0   오산시 고현동  23.1400           6\n",
       "1           월세      300    30   오산시 고현동  19.8347           5\n",
       "2           월세      500    50   오산시 고현동  26.4400           6\n",
       "3           월세      300    42   오산시 고현동  26.4500           6\n",
       "4           월세      300    35   오산시 고현동  19.8300           5\n",
       "..         ...      ...   ...       ...      ...         ...\n",
       "867         월세       50    43  오산시 내삼미동  33.0600           7\n",
       "868         월세      300    35  오산시 내삼미동  19.8300           6\n",
       "869         전세    22000     0   오산시 금암동  72.7300           7\n",
       "870         전세    22000     0   오산시 금암동  72.7300           7\n",
       "871         월세      300    39  오산시 내삼미동  23.1400           6\n",
       "\n",
       "[872 rows x 6 columns]"
      ]
     },
     "execution_count": 48,
     "metadata": {},
     "output_type": "execute_result"
    }
   ],
   "source": [
    "result_df = pd.DataFrame(items)[columns]\n",
    "result_df"
   ]
  },
  {
   "cell_type": "code",
   "execution_count": 52,
   "id": "134eebb3",
   "metadata": {},
   "outputs": [
    {
     "data": {
      "text/html": [
       "<div>\n",
       "<style scoped>\n",
       "    .dataframe tbody tr th:only-of-type {\n",
       "        vertical-align: middle;\n",
       "    }\n",
       "\n",
       "    .dataframe tbody tr th {\n",
       "        vertical-align: top;\n",
       "    }\n",
       "\n",
       "    .dataframe thead th {\n",
       "        text-align: right;\n",
       "    }\n",
       "</style>\n",
       "<table border=\"1\" class=\"dataframe\">\n",
       "  <thead>\n",
       "    <tr style=\"text-align: right;\">\n",
       "      <th></th>\n",
       "      <th>sales_type</th>\n",
       "      <th>deposit</th>\n",
       "      <th>rent</th>\n",
       "      <th>address</th>\n",
       "      <th>size_m2</th>\n",
       "      <th>manage_cost</th>\n",
       "    </tr>\n",
       "  </thead>\n",
       "  <tbody>\n",
       "    <tr>\n",
       "      <th>0</th>\n",
       "      <td>월세</td>\n",
       "      <td>500</td>\n",
       "      <td>35</td>\n",
       "      <td>오산시 원동</td>\n",
       "      <td>23.14</td>\n",
       "      <td>6</td>\n",
       "    </tr>\n",
       "    <tr>\n",
       "      <th>1</th>\n",
       "      <td>월세</td>\n",
       "      <td>50</td>\n",
       "      <td>34</td>\n",
       "      <td>오산시 원동</td>\n",
       "      <td>19.83</td>\n",
       "      <td>6</td>\n",
       "    </tr>\n",
       "    <tr>\n",
       "      <th>2</th>\n",
       "      <td>월세</td>\n",
       "      <td>300</td>\n",
       "      <td>40</td>\n",
       "      <td>오산시 원동</td>\n",
       "      <td>19.83</td>\n",
       "      <td>6</td>\n",
       "    </tr>\n",
       "    <tr>\n",
       "      <th>3</th>\n",
       "      <td>월세</td>\n",
       "      <td>200</td>\n",
       "      <td>29</td>\n",
       "      <td>오산시 원동</td>\n",
       "      <td>26.45</td>\n",
       "      <td>3</td>\n",
       "    </tr>\n",
       "    <tr>\n",
       "      <th>4</th>\n",
       "      <td>월세</td>\n",
       "      <td>300</td>\n",
       "      <td>25</td>\n",
       "      <td>오산시 원동</td>\n",
       "      <td>19.83</td>\n",
       "      <td>3.5</td>\n",
       "    </tr>\n",
       "    <tr>\n",
       "      <th>...</th>\n",
       "      <td>...</td>\n",
       "      <td>...</td>\n",
       "      <td>...</td>\n",
       "      <td>...</td>\n",
       "      <td>...</td>\n",
       "      <td>...</td>\n",
       "    </tr>\n",
       "    <tr>\n",
       "      <th>108</th>\n",
       "      <td>전세</td>\n",
       "      <td>5000</td>\n",
       "      <td>0</td>\n",
       "      <td>오산시 원동</td>\n",
       "      <td>23.14</td>\n",
       "      <td>6</td>\n",
       "    </tr>\n",
       "    <tr>\n",
       "      <th>109</th>\n",
       "      <td>전세</td>\n",
       "      <td>5000</td>\n",
       "      <td>0</td>\n",
       "      <td>오산시 원동</td>\n",
       "      <td>23.14</td>\n",
       "      <td>6</td>\n",
       "    </tr>\n",
       "    <tr>\n",
       "      <th>110</th>\n",
       "      <td>전세</td>\n",
       "      <td>5000</td>\n",
       "      <td>0</td>\n",
       "      <td>오산시 원동</td>\n",
       "      <td>23.14</td>\n",
       "      <td>6</td>\n",
       "    </tr>\n",
       "    <tr>\n",
       "      <th>111</th>\n",
       "      <td>전세</td>\n",
       "      <td>5000</td>\n",
       "      <td>0</td>\n",
       "      <td>오산시 원동</td>\n",
       "      <td>26.45</td>\n",
       "      <td>6</td>\n",
       "    </tr>\n",
       "    <tr>\n",
       "      <th>112</th>\n",
       "      <td>월세</td>\n",
       "      <td>500</td>\n",
       "      <td>35</td>\n",
       "      <td>오산시 원동</td>\n",
       "      <td>18.18</td>\n",
       "      <td>7</td>\n",
       "    </tr>\n",
       "  </tbody>\n",
       "</table>\n",
       "<p>113 rows × 6 columns</p>\n",
       "</div>"
      ],
      "text/plain": [
       "    sales_type  deposit  rent address  size_m2 manage_cost\n",
       "0           월세      500    35  오산시 원동    23.14           6\n",
       "1           월세       50    34  오산시 원동    19.83           6\n",
       "2           월세      300    40  오산시 원동    19.83           6\n",
       "3           월세      200    29  오산시 원동    26.45           3\n",
       "4           월세      300    25  오산시 원동    19.83         3.5\n",
       "..         ...      ...   ...     ...      ...         ...\n",
       "108         전세     5000     0  오산시 원동    23.14           6\n",
       "109         전세     5000     0  오산시 원동    23.14           6\n",
       "110         전세     5000     0  오산시 원동    23.14           6\n",
       "111         전세     5000     0  오산시 원동    26.45           6\n",
       "112         월세      500    35  오산시 원동    18.18           7\n",
       "\n",
       "[113 rows x 6 columns]"
      ]
     },
     "execution_count": 52,
     "metadata": {},
     "output_type": "execute_result"
    }
   ],
   "source": [
    "#result_df['address'].str.contains(query)\n",
    "result_df = result_df[result_df['address'].str.contains(query)]\n",
    "result_df = result_df.reset_index(drop=True)\n",
    "result_df"
   ]
  },
  {
   "cell_type": "code",
   "execution_count": 55,
   "id": "a839d132",
   "metadata": {},
   "outputs": [
    {
     "data": {
      "text/html": [
       "<div>\n",
       "<style scoped>\n",
       "    .dataframe tbody tr th:only-of-type {\n",
       "        vertical-align: middle;\n",
       "    }\n",
       "\n",
       "    .dataframe tbody tr th {\n",
       "        vertical-align: top;\n",
       "    }\n",
       "\n",
       "    .dataframe thead th {\n",
       "        text-align: right;\n",
       "    }\n",
       "</style>\n",
       "<table border=\"1\" class=\"dataframe\">\n",
       "  <thead>\n",
       "    <tr style=\"text-align: right;\">\n",
       "      <th></th>\n",
       "      <th>sales_type</th>\n",
       "      <th>deposit</th>\n",
       "      <th>rent</th>\n",
       "      <th>address</th>\n",
       "      <th>size_m2</th>\n",
       "      <th>manage_cost</th>\n",
       "    </tr>\n",
       "  </thead>\n",
       "  <tbody>\n",
       "    <tr>\n",
       "      <th>2</th>\n",
       "      <td>월세</td>\n",
       "      <td>300</td>\n",
       "      <td>40</td>\n",
       "      <td>오산시 원동</td>\n",
       "      <td>19.83</td>\n",
       "      <td>6</td>\n",
       "    </tr>\n",
       "    <tr>\n",
       "      <th>7</th>\n",
       "      <td>월세</td>\n",
       "      <td>500</td>\n",
       "      <td>45</td>\n",
       "      <td>오산시 원동</td>\n",
       "      <td>46.28</td>\n",
       "      <td>7</td>\n",
       "    </tr>\n",
       "    <tr>\n",
       "      <th>8</th>\n",
       "      <td>월세</td>\n",
       "      <td>500</td>\n",
       "      <td>48</td>\n",
       "      <td>오산시 원동</td>\n",
       "      <td>26.45</td>\n",
       "      <td>4.5</td>\n",
       "    </tr>\n",
       "    <tr>\n",
       "      <th>9</th>\n",
       "      <td>월세</td>\n",
       "      <td>500</td>\n",
       "      <td>48</td>\n",
       "      <td>오산시 원동</td>\n",
       "      <td>26.45</td>\n",
       "      <td>6</td>\n",
       "    </tr>\n",
       "    <tr>\n",
       "      <th>10</th>\n",
       "      <td>월세</td>\n",
       "      <td>300</td>\n",
       "      <td>45</td>\n",
       "      <td>오산시 원동</td>\n",
       "      <td>54.45</td>\n",
       "      <td>4.5</td>\n",
       "    </tr>\n",
       "    <tr>\n",
       "      <th>...</th>\n",
       "      <td>...</td>\n",
       "      <td>...</td>\n",
       "      <td>...</td>\n",
       "      <td>...</td>\n",
       "      <td>...</td>\n",
       "      <td>...</td>\n",
       "    </tr>\n",
       "    <tr>\n",
       "      <th>101</th>\n",
       "      <td>월세</td>\n",
       "      <td>500</td>\n",
       "      <td>38</td>\n",
       "      <td>오산시 원동</td>\n",
       "      <td>23.14</td>\n",
       "      <td>6</td>\n",
       "    </tr>\n",
       "    <tr>\n",
       "      <th>102</th>\n",
       "      <td>월세</td>\n",
       "      <td>500</td>\n",
       "      <td>38</td>\n",
       "      <td>오산시 원동</td>\n",
       "      <td>23.14</td>\n",
       "      <td>6</td>\n",
       "    </tr>\n",
       "    <tr>\n",
       "      <th>103</th>\n",
       "      <td>월세</td>\n",
       "      <td>500</td>\n",
       "      <td>38</td>\n",
       "      <td>오산시 원동</td>\n",
       "      <td>23.14</td>\n",
       "      <td>6</td>\n",
       "    </tr>\n",
       "    <tr>\n",
       "      <th>104</th>\n",
       "      <td>월세</td>\n",
       "      <td>500</td>\n",
       "      <td>38</td>\n",
       "      <td>오산시 원동</td>\n",
       "      <td>25.00</td>\n",
       "      <td>6</td>\n",
       "    </tr>\n",
       "    <tr>\n",
       "      <th>107</th>\n",
       "      <td>월세</td>\n",
       "      <td>100</td>\n",
       "      <td>42</td>\n",
       "      <td>오산시 원동</td>\n",
       "      <td>25.00</td>\n",
       "      <td>6</td>\n",
       "    </tr>\n",
       "  </tbody>\n",
       "</table>\n",
       "<p>80 rows × 6 columns</p>\n",
       "</div>"
      ],
      "text/plain": [
       "    sales_type  deposit  rent address  size_m2 manage_cost\n",
       "2           월세      300    40  오산시 원동    19.83           6\n",
       "7           월세      500    45  오산시 원동    46.28           7\n",
       "8           월세      500    48  오산시 원동    26.45         4.5\n",
       "9           월세      500    48  오산시 원동    26.45           6\n",
       "10          월세      300    45  오산시 원동    54.45         4.5\n",
       "..         ...      ...   ...     ...      ...         ...\n",
       "101         월세      500    38  오산시 원동    23.14           6\n",
       "102         월세      500    38  오산시 원동    23.14           6\n",
       "103         월세      500    38  오산시 원동    23.14           6\n",
       "104         월세      500    38  오산시 원동    25.00           6\n",
       "107         월세      100    42  오산시 원동    25.00           6\n",
       "\n",
       "[80 rows x 6 columns]"
      ]
     },
     "execution_count": 55,
     "metadata": {},
     "output_type": "execute_result"
    }
   ],
   "source": [
    "# 보증금 1억 이하, 월세 100만원 이하 매물을 찾고 싶다\n",
    "result_df[(result_df['deposit'] <= 10000) & (result_df['rent'] >= 37 )]"
   ]
  },
  {
   "cell_type": "code",
   "execution_count": 70,
   "id": "ae0e7d93",
   "metadata": {},
   "outputs": [],
   "source": [
    "def oneroom(address):\n",
    "    url = f\"https://apis.zigbang.com/v2/search?leaseYn=N&q={address}&serviceType=원룸\"\n",
    "    response = requests.get(url)\n",
    "    datas = response.json()['items'][0]\n",
    "    lat, lng = datas['lat'], datas['lng']\n",
    "    code = geohash2.encode(lat, lng, precision=5)\n",
    "    \n",
    "    url = f\"https://apis.zigbang.com/v2/items?deposit_gteq=0&domain=zigbang\\\n",
    "&geohash={code}&needHasNoFiltered=true&rent_gteq=0&sales_type_in=전세|월세&service_type_eq=원룸\"\n",
    "    response = requests.get(url)\n",
    "    datas = response.json()[\"items\"]\n",
    "    \n",
    "    ids = [data['item_id'] for data in datas]\n",
    "    \n",
    "    url = 'https://apis.zigbang.com/v2/items/list'\n",
    "    params = {\n",
    "         \"domain\": \"zigbang\", \n",
    "         \"withCoalition\": \"true\",\n",
    "         \"item_ids\" : ids[:998],\n",
    "         }\n",
    "    response = requests.post(url, params)\n",
    "    items = response.json()[\"items\"]\n",
    "    item_df = pd.DataFrame(items)\n",
    "    \n",
    "    columns = ['sales_type', 'deposit', 'rent','address'\n",
    "               ,'size_m2', 'manage_cost']\n",
    "    \n",
    "    result_df = item_df[columns]\n",
    "    result_df = result_df[result_df['address'].str.contains(address)]\n",
    "    return result_df.reset_index(drop=True)"
   ]
  },
  {
   "cell_type": "code",
   "execution_count": 71,
   "id": "99959719",
   "metadata": {},
   "outputs": [
    {
     "data": {
      "text/html": [
       "<div>\n",
       "<style scoped>\n",
       "    .dataframe tbody tr th:only-of-type {\n",
       "        vertical-align: middle;\n",
       "    }\n",
       "\n",
       "    .dataframe tbody tr th {\n",
       "        vertical-align: top;\n",
       "    }\n",
       "\n",
       "    .dataframe thead th {\n",
       "        text-align: right;\n",
       "    }\n",
       "</style>\n",
       "<table border=\"1\" class=\"dataframe\">\n",
       "  <thead>\n",
       "    <tr style=\"text-align: right;\">\n",
       "      <th></th>\n",
       "      <th>sales_type</th>\n",
       "      <th>deposit</th>\n",
       "      <th>rent</th>\n",
       "      <th>address</th>\n",
       "      <th>size_m2</th>\n",
       "      <th>manage_cost</th>\n",
       "    </tr>\n",
       "  </thead>\n",
       "  <tbody>\n",
       "    <tr>\n",
       "      <th>0</th>\n",
       "      <td>월세</td>\n",
       "      <td>500</td>\n",
       "      <td>35</td>\n",
       "      <td>오산시 원동</td>\n",
       "      <td>23.14</td>\n",
       "      <td>6</td>\n",
       "    </tr>\n",
       "    <tr>\n",
       "      <th>1</th>\n",
       "      <td>월세</td>\n",
       "      <td>50</td>\n",
       "      <td>34</td>\n",
       "      <td>오산시 원동</td>\n",
       "      <td>19.83</td>\n",
       "      <td>6</td>\n",
       "    </tr>\n",
       "    <tr>\n",
       "      <th>2</th>\n",
       "      <td>월세</td>\n",
       "      <td>300</td>\n",
       "      <td>40</td>\n",
       "      <td>오산시 원동</td>\n",
       "      <td>19.83</td>\n",
       "      <td>6</td>\n",
       "    </tr>\n",
       "    <tr>\n",
       "      <th>3</th>\n",
       "      <td>월세</td>\n",
       "      <td>200</td>\n",
       "      <td>29</td>\n",
       "      <td>오산시 원동</td>\n",
       "      <td>26.45</td>\n",
       "      <td>3</td>\n",
       "    </tr>\n",
       "    <tr>\n",
       "      <th>4</th>\n",
       "      <td>월세</td>\n",
       "      <td>300</td>\n",
       "      <td>25</td>\n",
       "      <td>오산시 원동</td>\n",
       "      <td>19.83</td>\n",
       "      <td>3.5</td>\n",
       "    </tr>\n",
       "    <tr>\n",
       "      <th>...</th>\n",
       "      <td>...</td>\n",
       "      <td>...</td>\n",
       "      <td>...</td>\n",
       "      <td>...</td>\n",
       "      <td>...</td>\n",
       "      <td>...</td>\n",
       "    </tr>\n",
       "    <tr>\n",
       "      <th>108</th>\n",
       "      <td>전세</td>\n",
       "      <td>5000</td>\n",
       "      <td>0</td>\n",
       "      <td>오산시 원동</td>\n",
       "      <td>23.14</td>\n",
       "      <td>6</td>\n",
       "    </tr>\n",
       "    <tr>\n",
       "      <th>109</th>\n",
       "      <td>전세</td>\n",
       "      <td>5000</td>\n",
       "      <td>0</td>\n",
       "      <td>오산시 원동</td>\n",
       "      <td>23.14</td>\n",
       "      <td>6</td>\n",
       "    </tr>\n",
       "    <tr>\n",
       "      <th>110</th>\n",
       "      <td>전세</td>\n",
       "      <td>5000</td>\n",
       "      <td>0</td>\n",
       "      <td>오산시 원동</td>\n",
       "      <td>23.14</td>\n",
       "      <td>6</td>\n",
       "    </tr>\n",
       "    <tr>\n",
       "      <th>111</th>\n",
       "      <td>전세</td>\n",
       "      <td>5000</td>\n",
       "      <td>0</td>\n",
       "      <td>오산시 원동</td>\n",
       "      <td>26.45</td>\n",
       "      <td>6</td>\n",
       "    </tr>\n",
       "    <tr>\n",
       "      <th>112</th>\n",
       "      <td>월세</td>\n",
       "      <td>500</td>\n",
       "      <td>35</td>\n",
       "      <td>오산시 원동</td>\n",
       "      <td>18.18</td>\n",
       "      <td>7</td>\n",
       "    </tr>\n",
       "  </tbody>\n",
       "</table>\n",
       "<p>113 rows × 6 columns</p>\n",
       "</div>"
      ],
      "text/plain": [
       "    sales_type  deposit  rent address  size_m2 manage_cost\n",
       "0           월세      500    35  오산시 원동    23.14           6\n",
       "1           월세       50    34  오산시 원동    19.83           6\n",
       "2           월세      300    40  오산시 원동    19.83           6\n",
       "3           월세      200    29  오산시 원동    26.45           3\n",
       "4           월세      300    25  오산시 원동    19.83         3.5\n",
       "..         ...      ...   ...     ...      ...         ...\n",
       "108         전세     5000     0  오산시 원동    23.14           6\n",
       "109         전세     5000     0  오산시 원동    23.14           6\n",
       "110         전세     5000     0  오산시 원동    23.14           6\n",
       "111         전세     5000     0  오산시 원동    26.45           6\n",
       "112         월세      500    35  오산시 원동    18.18           7\n",
       "\n",
       "[113 rows x 6 columns]"
      ]
     },
     "execution_count": 71,
     "metadata": {},
     "output_type": "execute_result"
    }
   ],
   "source": [
    "oneroom(\"오산시 원동\")\n"
   ]
  },
  {
   "cell_type": "code",
   "execution_count": null,
   "id": "f7fe4456",
   "metadata": {},
   "outputs": [],
   "source": []
  }
 ],
 "metadata": {
  "kernelspec": {
   "display_name": "Python 3",
   "language": "python",
   "name": "python3"
  },
  "language_info": {
   "codemirror_mode": {
    "name": "ipython",
    "version": 3
   },
   "file_extension": ".py",
   "mimetype": "text/x-python",
   "name": "python",
   "nbconvert_exporter": "python",
   "pygments_lexer": "ipython3",
   "version": "3.8.8"
  }
 },
 "nbformat": 4,
 "nbformat_minor": 5
}
