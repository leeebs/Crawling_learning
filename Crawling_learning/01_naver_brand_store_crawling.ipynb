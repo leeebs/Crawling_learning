{
 "cells": [
  {
   "cell_type": "markdown",
   "id": "2a4b61d6",
   "metadata": {},
   "source": [
    "### 네이버 브랜드스토어 데이터 수집\n",
    "- 네이버 브랜드스토어의 상품 데이터나 리뷰 데이터등을 수집 및 분석\n",
    "- 조별로 관심있는 분야의 상품 데이터를 수집후 자율적으로 분석수행\n",
    "- 여러개의 상품을 수집해서 비교 분석해도 되고, 특정 상품을 수집해서 아래의 예시와 같이 분석해도 됩니다."
   ]
  },
  {
   "cell_type": "markdown",
   "id": "e1ed1d18",
   "metadata": {},
   "source": [
    "#### 예시\n",
    "- 상하목장 네이버 스토어 페이지 리뷰 데이터 수집\n",
    "    - 매일유업 스토어 페이지 : https://brand.naver.com/maeil\n",
    "    - 데이터 수집 상품 : 유기농[상하목장]\n",
    "    - 상품 페이지 : https://brand.naver.com/maeil/products/4568404023"
   ]
  },
  {
   "cell_type": "code",
   "execution_count": 1,
   "id": "d559b335",
   "metadata": {},
   "outputs": [],
   "source": [
    "import time\n",
    "import requests\n",
    "import numpy as np\n",
    "import pandas as pd"
   ]
  },
  {
   "cell_type": "code",
   "execution_count": 2,
   "id": "843e1932",
   "metadata": {},
   "outputs": [],
   "source": [
    "# 1. 데이터 수집"
   ]
  },
  {
   "cell_type": "code",
   "execution_count": 2,
   "id": "37baee7b",
   "metadata": {
    "colab": {
     "base_uri": "https://localhost:8080/"
    },
    "executionInfo": {
     "elapsed": 1513,
     "status": "ok",
     "timestamp": 1638781207715,
     "user": {
      "displayName": "Doojin Park",
      "photoUrl": "https://lh3.googleusercontent.com/a/default-user=s64",
      "userId": "13081019711214908217"
     },
     "user_tz": -540
    },
    "id": "37baee7b",
    "outputId": "d813e40c-d039-4660-95fd-403a634758e5"
   },
   "outputs": [
    {
     "data": {
      "text/plain": [
       "<Response [200]>"
      ]
     },
     "execution_count": 2,
     "metadata": {},
     "output_type": "execute_result"
    }
   ],
   "source": [
    "page, page_size = 1, 30\n",
    "url = f\"https://brand.naver.com/n/v1/reviews/paged-reviews?page={page}&pageSize={page_size}&merchantNo=510133398&originProductNo=4558447772&sortType=REVIEW_CREATE_DATE_DESC\"\n",
    "response = requests.get(url)\n",
    "response"
   ]
  },
  {
   "cell_type": "code",
   "execution_count": 33,
   "id": "1ad81c7e",
   "metadata": {},
   "outputs": [],
   "source": [
    "# 2. 데이터 전처리"
   ]
  },
  {
   "cell_type": "code",
   "execution_count": 3,
   "id": "474b7e94",
   "metadata": {
    "colab": {
     "base_uri": "https://localhost:8080/",
     "height": 112
    },
    "executionInfo": {
     "elapsed": 288,
     "status": "ok",
     "timestamp": 1638781211059,
     "user": {
      "displayName": "Doojin Park",
      "photoUrl": "https://lh3.googleusercontent.com/a/default-user=s64",
      "userId": "13081019711214908217"
     },
     "user_tz": -540
    },
    "id": "474b7e94",
    "outputId": "4149ba47-ab13-456a-a252-27d7ba8dcab3"
   },
   "outputs": [
    {
     "data": {
      "text/html": [
       "<div>\n",
       "<style scoped>\n",
       "    .dataframe tbody tr th:only-of-type {\n",
       "        vertical-align: middle;\n",
       "    }\n",
       "\n",
       "    .dataframe tbody tr th {\n",
       "        vertical-align: top;\n",
       "    }\n",
       "\n",
       "    .dataframe thead th {\n",
       "        text-align: right;\n",
       "    }\n",
       "</style>\n",
       "<table border=\"1\" class=\"dataframe\">\n",
       "  <thead>\n",
       "    <tr style=\"text-align: right;\">\n",
       "      <th></th>\n",
       "      <th>id</th>\n",
       "      <th>reviewContent</th>\n",
       "      <th>createDate</th>\n",
       "      <th>reviewScore</th>\n",
       "      <th>createTime</th>\n",
       "    </tr>\n",
       "  </thead>\n",
       "  <tbody>\n",
       "    <tr>\n",
       "      <th>28</th>\n",
       "      <td>3373901827</td>\n",
       "      <td>딸아이가 너무 좋아하는 우유예요~^^</td>\n",
       "      <td>2022-02-23</td>\n",
       "      <td>5</td>\n",
       "      <td>06:10:41</td>\n",
       "    </tr>\n",
       "    <tr>\n",
       "      <th>29</th>\n",
       "      <td>3373887201</td>\n",
       "      <td>이가 매일 3개씩 먹고있어요</td>\n",
       "      <td>2022-02-23</td>\n",
       "      <td>5</td>\n",
       "      <td>05:52:55</td>\n",
       "    </tr>\n",
       "  </tbody>\n",
       "</table>\n",
       "</div>"
      ],
      "text/plain": [
       "            id         reviewContent  createDate  reviewScore createTime\n",
       "28  3373901827  딸아이가 너무 좋아하는 우유예요~^^  2022-02-23            5   06:10:41\n",
       "29  3373887201       이가 매일 3개씩 먹고있어요  2022-02-23            5   05:52:55"
      ]
     },
     "execution_count": 3,
     "metadata": {},
     "output_type": "execute_result"
    }
   ],
   "source": [
    "columns = [\"id\", \"reviewContent\", \"createDate\", \"reviewScore\"]\n",
    "datas = response.json()[\"contents\"]\n",
    "df = pd.DataFrame(datas)[columns]\n",
    "df[\"createTime\"] = df[\"createDate\"].apply(lambda data:data[11:19])\n",
    "df[\"createDate\"] = df[\"createDate\"].apply(lambda data:data[:10])\n",
    "df.tail(2)"
   ]
  },
  {
   "cell_type": "code",
   "execution_count": 35,
   "id": "d96e8069",
   "metadata": {},
   "outputs": [],
   "source": [
    "# 3. 함수로 만들기"
   ]
  },
  {
   "cell_type": "code",
   "execution_count": 4,
   "id": "d5a82242",
   "metadata": {
    "executionInfo": {
     "elapsed": 284,
     "status": "ok",
     "timestamp": 1638781231728,
     "user": {
      "displayName": "Doojin Park",
      "photoUrl": "https://lh3.googleusercontent.com/a/default-user=s64",
      "userId": "13081019711214908217"
     },
     "user_tz": -540
    },
    "id": "d5a82242"
   },
   "outputs": [],
   "source": [
    "def sanghafarm(page=1, page_size=30):\n",
    "    url = f\"https://brand.naver.com/n/v1/reviews/paged-reviews?page={page}&pageSize={page_size}&merchantNo=510133398&originProductNo=4558447772&sortType=REVIEW_CREATE_DATE_DESC\"\n",
    "    response = requests.get(url)\n",
    "    columns = [\"id\", \"reviewContent\", \"createDate\", \"reviewScore\"]\n",
    "    datas = response.json()[\"contents\"]\n",
    "    df = pd.DataFrame(datas)[columns]\n",
    "    df[\"createTime\"] = df[\"createDate\"].apply(lambda data:data[11:19])\n",
    "    df[\"createDate\"] = df[\"createDate\"].apply(lambda data:data[:10])\n",
    "    return df"
   ]
  },
  {
   "cell_type": "code",
   "execution_count": 13,
   "id": "51e98f4d",
   "metadata": {},
   "outputs": [],
   "source": [
    "# 4. 반복문으로 데이터 수집 : 최근 데이터 600개"
   ]
  },
  {
   "cell_type": "code",
   "execution_count": 5,
   "id": "857cbec1",
   "metadata": {
    "colab": {
     "base_uri": "https://localhost:8080/"
    },
    "executionInfo": {
     "elapsed": 282249,
     "status": "ok",
     "timestamp": 1638781529834,
     "user": {
      "displayName": "Doojin Park",
      "photoUrl": "https://lh3.googleusercontent.com/a/default-user=s64",
      "userId": "13081019711214908217"
     },
     "user_tz": -540
    },
    "id": "857cbec1",
    "outputId": "1a8e292c-3d7b-4ef9-bdcd-1994ad38dfbb"
   },
   "outputs": [
    {
     "name": "stdout",
     "output_type": "stream",
     "text": [
      "1 2 3 4 5 6 7 8 9 10 11 12 13 14 15 16 17 18 19 Wall time: 45.8 s\n"
     ]
    }
   ],
   "source": [
    "%%time\n",
    "dfs = []\n",
    "for page in range(1, 20):\n",
    "    print(page, end=\" \")\n",
    "    dfs.append(sanghafarm(page=1, page_size=30))\n",
    "    time.sleep(np.random.randint(1, 4))\n",
    "    \n",
    "review_df = pd.concat(dfs, ignore_index=True)\n",
    "review_df.tail(2)\n",
    "review_df.to_csv(\"datas/reviews.csv\", index=False)"
   ]
  },
  {
   "cell_type": "code",
   "execution_count": 7,
   "id": "89b26641",
   "metadata": {
    "executionInfo": {
     "elapsed": 518,
     "status": "ok",
     "timestamp": 1638781556251,
     "user": {
      "displayName": "Doojin Park",
      "photoUrl": "https://lh3.googleusercontent.com/a/default-user=s64",
      "userId": "13081019711214908217"
     },
     "user_tz": -540
    },
    "id": "89b26641"
   },
   "outputs": [
    {
     "data": {
      "text/html": [
       "<div>\n",
       "<style scoped>\n",
       "    .dataframe tbody tr th:only-of-type {\n",
       "        vertical-align: middle;\n",
       "    }\n",
       "\n",
       "    .dataframe tbody tr th {\n",
       "        vertical-align: top;\n",
       "    }\n",
       "\n",
       "    .dataframe thead th {\n",
       "        text-align: right;\n",
       "    }\n",
       "</style>\n",
       "<table border=\"1\" class=\"dataframe\">\n",
       "  <thead>\n",
       "    <tr style=\"text-align: right;\">\n",
       "      <th></th>\n",
       "      <th>id</th>\n",
       "      <th>reviewContent</th>\n",
       "      <th>createDate</th>\n",
       "      <th>reviewScore</th>\n",
       "      <th>createTime</th>\n",
       "    </tr>\n",
       "  </thead>\n",
       "  <tbody>\n",
       "    <tr>\n",
       "      <th>565</th>\n",
       "      <td>3373980697</td>\n",
       "      <td>상하목장 유기농 담백하고 부담없어요</td>\n",
       "      <td>2022-02-23</td>\n",
       "      <td>3</td>\n",
       "      <td>07:42:36</td>\n",
       "    </tr>\n",
       "    <tr>\n",
       "      <th>566</th>\n",
       "      <td>3373953021</td>\n",
       "      <td>원래 먹던우유예요 ㅡ아들이 시키다가 이번에ㅡ다시시켔는데즈좋아요</td>\n",
       "      <td>2022-02-23</td>\n",
       "      <td>5</td>\n",
       "      <td>07:11:43</td>\n",
       "    </tr>\n",
       "    <tr>\n",
       "      <th>567</th>\n",
       "      <td>3373915963</td>\n",
       "      <td>잘 받았습니다 빠른 배송 감사합니다</td>\n",
       "      <td>2022-02-23</td>\n",
       "      <td>5</td>\n",
       "      <td>06:27:41</td>\n",
       "    </tr>\n",
       "    <tr>\n",
       "      <th>568</th>\n",
       "      <td>3373901827</td>\n",
       "      <td>딸아이가 너무 좋아하는 우유예요~^^</td>\n",
       "      <td>2022-02-23</td>\n",
       "      <td>5</td>\n",
       "      <td>06:10:41</td>\n",
       "    </tr>\n",
       "    <tr>\n",
       "      <th>569</th>\n",
       "      <td>3373887201</td>\n",
       "      <td>이가 매일 3개씩 먹고있어요</td>\n",
       "      <td>2022-02-23</td>\n",
       "      <td>5</td>\n",
       "      <td>05:52:55</td>\n",
       "    </tr>\n",
       "  </tbody>\n",
       "</table>\n",
       "</div>"
      ],
      "text/plain": [
       "             id                       reviewContent  createDate  reviewScore  \\\n",
       "565  3373980697                 상하목장 유기농 담백하고 부담없어요  2022-02-23            3   \n",
       "566  3373953021  원래 먹던우유예요 ㅡ아들이 시키다가 이번에ㅡ다시시켔는데즈좋아요  2022-02-23            5   \n",
       "567  3373915963                 잘 받았습니다 빠른 배송 감사합니다  2022-02-23            5   \n",
       "568  3373901827                딸아이가 너무 좋아하는 우유예요~^^  2022-02-23            5   \n",
       "569  3373887201                     이가 매일 3개씩 먹고있어요  2022-02-23            5   \n",
       "\n",
       "    createTime  \n",
       "565   07:42:36  \n",
       "566   07:11:43  \n",
       "567   06:27:41  \n",
       "568   06:10:41  \n",
       "569   05:52:55  "
      ]
     },
     "execution_count": 7,
     "metadata": {},
     "output_type": "execute_result"
    }
   ],
   "source": [
    "# 상품페이지에 있는 리뷰 데이터 수집\n",
    "review_df = pd.read_csv(\"datas/reviews.csv\")\n",
    "review_df.tail()"
   ]
  },
  {
   "cell_type": "code",
   "execution_count": 8,
   "id": "2c1e8746",
   "metadata": {},
   "outputs": [
    {
     "data": {
      "text/plain": [
       "'2538027516'"
      ]
     },
     "execution_count": 8,
     "metadata": {},
     "output_type": "execute_result"
    }
   ],
   "source": [
    "import requests, re\n",
    "from bs4 import BeautifulSoup\n",
    "\n",
    "product_no = 2540929238\n",
    "url = f\"https://brand.naver.com/maeil/products/{product_no}\"\n",
    "response = requests.get(url)\n",
    "origin_product_no = re.findall('DiscountPolicyNo\":\"SE_([0-9]+)\",', response.text)[0]\n",
    "origin_product_no"
   ]
  },
  {
   "cell_type": "code",
   "execution_count": null,
   "id": "7cf7f52e",
   "metadata": {},
   "outputs": [],
   "source": []
  }
 ],
 "metadata": {
  "kernelspec": {
   "display_name": "Python 3",
   "language": "python",
   "name": "python3"
  },
  "language_info": {
   "codemirror_mode": {
    "name": "ipython",
    "version": 3
   },
   "file_extension": ".py",
   "mimetype": "text/x-python",
   "name": "python",
   "nbconvert_exporter": "python",
   "pygments_lexer": "ipython3",
   "version": "3.8.8"
  },
  "toc": {
   "base_numbering": 1,
   "nav_menu": {},
   "number_sections": false,
   "sideBar": true,
   "skip_h1_title": false,
   "title_cell": "Table of Contents",
   "title_sidebar": "Contents",
   "toc_cell": false,
   "toc_position": {},
   "toc_section_display": true,
   "toc_window_display": false
  }
 },
 "nbformat": 4,
 "nbformat_minor": 5
}
