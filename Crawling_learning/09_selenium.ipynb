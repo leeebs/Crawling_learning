{
 "cells": [
  {
   "cell_type": "markdown",
   "id": "c112c0b0",
   "metadata": {},
   "source": [
    "### 웹크롤링 방법\n",
    "- 동적페이지 : json : response.json() : dict, list : DataFramw\n",
    "- 정적페이지 : html : bs: css-selector : text : DataFrame\n",
    "- selenium을 이용한 크롤링\n",
    "    - 동적페이지, 정적페이지, API의 방법으로 데이터를 수집할 수 없을 때 사용\n",
    "    - 파이썬 코드로 컨트롤할 수 있는 자동화된 브라우저 띄워서 크롤링할 페이지로 이동한 후에 브라우저에 있는 정보를 수집\n",
    "    - 웹서비스 테스트 자동화를 목적으로 만들어진 패키지, 다양한 언어로 사용 가능, 다양한 브라우저를 지원\n",
    "- 동적페이지 방법을 시행 > 안된다 > 정적페이지 방법 시행 > 안된다 > selenium 사용\n",
    "- selenium이 가장 느리다\n",
    "\n",
    "- 설정 : 크롬 브라우저 설치, 크롬드라이버 다운로드, selenium 설치\n",
    "    - 패키지 인스톨\n",
    "    - 크롬 드라이버 다운로드\n",
    "    - 압축해제\n",
    "    - 현재 디렉토리로 이동"
   ]
  },
  {
   "cell_type": "code",
   "execution_count": null,
   "id": "fee108d4",
   "metadata": {},
   "outputs": [],
   "source": [
    "# 패키지 인스톨"
   ]
  },
  {
   "cell_type": "code",
   "execution_count": 1,
   "id": "4e5225c1",
   "metadata": {
    "collapsed": true
   },
   "outputs": [
    {
     "name": "stdout",
     "output_type": "stream",
     "text": [
      "Collecting selenium\n",
      "  Downloading selenium-4.1.0-py3-none-any.whl (958 kB)\n",
      "Collecting trio-websocket~=0.9\n",
      "  Downloading trio_websocket-0.9.2-py3-none-any.whl (16 kB)\n",
      "Collecting trio~=0.17\n",
      "  Downloading trio-0.20.0-py3-none-any.whl (359 kB)\n",
      "Requirement already satisfied: urllib3[secure]~=1.26 in c:\\users\\user\\anaconda3\\lib\\site-packages (from selenium) (1.26.4)\n",
      "Requirement already satisfied: attrs>=19.2.0 in c:\\users\\user\\anaconda3\\lib\\site-packages (from trio~=0.17->selenium) (20.3.0)\n",
      "Requirement already satisfied: idna in c:\\users\\user\\anaconda3\\lib\\site-packages (from trio~=0.17->selenium) (2.10)\n",
      "Requirement already satisfied: sniffio in c:\\users\\user\\anaconda3\\lib\\site-packages (from trio~=0.17->selenium) (1.2.0)\n",
      "Requirement already satisfied: cffi>=1.14 in c:\\users\\user\\anaconda3\\lib\\site-packages (from trio~=0.17->selenium) (1.14.5)\n",
      "Collecting outcome\n",
      "  Downloading outcome-1.1.0-py2.py3-none-any.whl (9.7 kB)\n",
      "Requirement already satisfied: sortedcontainers in c:\\users\\user\\anaconda3\\lib\\site-packages (from trio~=0.17->selenium) (2.3.0)\n",
      "Requirement already satisfied: async-generator>=1.9 in c:\\users\\user\\anaconda3\\lib\\site-packages (from trio~=0.17->selenium) (1.10)\n",
      "Requirement already satisfied: pycparser in c:\\users\\user\\anaconda3\\lib\\site-packages (from cffi>=1.14->trio~=0.17->selenium) (2.20)\n",
      "Collecting wsproto>=0.14\n",
      "  Downloading wsproto-1.0.0-py3-none-any.whl (24 kB)\n",
      "Requirement already satisfied: certifi in c:\\users\\user\\anaconda3\\lib\\site-packages (from urllib3[secure]~=1.26->selenium) (2020.12.5)\n",
      "Requirement already satisfied: cryptography>=1.3.4 in c:\\users\\user\\anaconda3\\lib\\site-packages (from urllib3[secure]~=1.26->selenium) (3.4.7)\n",
      "Requirement already satisfied: pyOpenSSL>=0.14 in c:\\users\\user\\anaconda3\\lib\\site-packages (from urllib3[secure]~=1.26->selenium) (20.0.1)\n",
      "Requirement already satisfied: six>=1.5.2 in c:\\users\\user\\anaconda3\\lib\\site-packages (from pyOpenSSL>=0.14->urllib3[secure]~=1.26->selenium) (1.15.0)\n",
      "Collecting h11<1,>=0.9.0\n",
      "  Downloading h11-0.13.0-py3-none-any.whl (58 kB)\n",
      "Installing collected packages: outcome, h11, wsproto, trio, trio-websocket, selenium\n",
      "Successfully installed h11-0.13.0 outcome-1.1.0 selenium-4.1.0 trio-0.20.0 trio-websocket-0.9.2 wsproto-1.0.0\n"
     ]
    }
   ],
   "source": [
    "!pip install selenium"
   ]
  },
  {
   "cell_type": "code",
   "execution_count": 2,
   "id": "4be9231a",
   "metadata": {},
   "outputs": [],
   "source": [
    "import pandas as pd\n",
    "from selenium import webdriver"
   ]
  },
  {
   "cell_type": "code",
   "execution_count": 5,
   "id": "a7f0f06d",
   "metadata": {},
   "outputs": [],
   "source": [
    "driver = webdriver.Chrome()"
   ]
  },
  {
   "cell_type": "code",
   "execution_count": null,
   "id": "49f4e5db",
   "metadata": {},
   "outputs": [],
   "source": [
    "# 페이지 이동"
   ]
  },
  {
   "cell_type": "code",
   "execution_count": 6,
   "id": "2b731853",
   "metadata": {},
   "outputs": [],
   "source": [
    "driver.get(\"https://daum.net\")"
   ]
  },
  {
   "cell_type": "code",
   "execution_count": null,
   "id": "e0513615",
   "metadata": {},
   "outputs": [],
   "source": [
    "# 브라우저 사이즈 조절"
   ]
  },
  {
   "cell_type": "code",
   "execution_count": 7,
   "id": "5742ff16",
   "metadata": {},
   "outputs": [],
   "source": [
    "driver.set_window_size(800, 400)"
   ]
  },
  {
   "cell_type": "code",
   "execution_count": 8,
   "id": "192fd743",
   "metadata": {},
   "outputs": [],
   "source": [
    "# 브라우저 종료 : 메모리 100m 절약"
   ]
  },
  {
   "cell_type": "code",
   "execution_count": 9,
   "id": "0f553fb7",
   "metadata": {},
   "outputs": [],
   "source": [
    "driver.quit()"
   ]
  },
  {
   "cell_type": "code",
   "execution_count": 10,
   "id": "16a2d446",
   "metadata": {},
   "outputs": [],
   "source": [
    "### ted 사이트에서 영상 목록 데이터 수집"
   ]
  },
  {
   "cell_type": "markdown",
   "id": "1099927d",
   "metadata": {},
   "source": [
    "### 1. 브라우저 열기"
   ]
  },
  {
   "cell_type": "code",
   "execution_count": 30,
   "id": "804f4b42",
   "metadata": {},
   "outputs": [],
   "source": [
    "driver = webdriver.Chrome()"
   ]
  },
  {
   "cell_type": "markdown",
   "id": "fd4e7002",
   "metadata": {},
   "source": [
    "### 2. 테드 사이트로 이동하기"
   ]
  },
  {
   "cell_type": "code",
   "execution_count": 31,
   "id": "3ca71006",
   "metadata": {},
   "outputs": [],
   "source": [
    "driver.get(\"https://ted.com/talks\")"
   ]
  },
  {
   "cell_type": "markdown",
   "id": "0176a036",
   "metadata": {},
   "source": [
    "### 3. 타이틀 문자열 데이터 가져오기"
   ]
  },
  {
   "cell_type": "code",
   "execution_count": 32,
   "id": "6ab27db6",
   "metadata": {},
   "outputs": [],
   "source": [
    "# select : find_elements_by_css_selector \n",
    "# select_one : find_element_by css_selector"
   ]
  },
  {
   "cell_type": "code",
   "execution_count": 33,
   "id": "5c9a86dc",
   "metadata": {},
   "outputs": [],
   "source": [
    "import warnings\n",
    "warnings.filterwarnings(\"ignore\")"
   ]
  },
  {
   "cell_type": "code",
   "execution_count": 34,
   "id": "cab0369c",
   "metadata": {},
   "outputs": [
    {
     "data": {
      "text/plain": [
       "'Join TED Recommends to get the best ideas, selected just for you'"
      ]
     },
     "execution_count": 34,
     "metadata": {},
     "output_type": "execute_result"
    }
   ],
   "source": [
    "driver.find_element_by_css_selector(\"#banner-secondary\").text"
   ]
  },
  {
   "cell_type": "markdown",
   "id": "cbcb82d0",
   "metadata": {},
   "source": [
    "### 4. 영상의 제목 데이터 수집하기"
   ]
  },
  {
   "cell_type": "code",
   "execution_count": 35,
   "id": "8dc97465",
   "metadata": {},
   "outputs": [],
   "source": [
    "# 여러 개의 영상 elements 선택"
   ]
  },
  {
   "cell_type": "code",
   "execution_count": 36,
   "id": "77387221",
   "metadata": {},
   "outputs": [
    {
     "data": {
      "text/plain": [
       "36"
      ]
     },
     "execution_count": 36,
     "metadata": {},
     "output_type": "execute_result"
    }
   ],
   "source": [
    "selector = '#browse-results > div.row.row-sm-4up.row-lg-6up.row-skinny > div'\n",
    "elements = driver.find_elements_by_css_selector(selector)\n",
    "len(elements)"
   ]
  },
  {
   "cell_type": "code",
   "execution_count": 37,
   "id": "228dbbc1",
   "metadata": {},
   "outputs": [],
   "source": [
    "# 하나의 element에서 필요한 데이터 수집"
   ]
  },
  {
   "cell_type": "code",
   "execution_count": 39,
   "id": "fb53aae1",
   "metadata": {},
   "outputs": [
    {
     "data": {
      "text/plain": [
       "{'title': 'Climate action needs new frontline leadership',\n",
       " 'link': 'https://www.ted.com/talks/ozawa_bineshi_albert_climate_action_needs_new_frontline_leadership'}"
      ]
     },
     "execution_count": 39,
     "metadata": {},
     "output_type": "execute_result"
    }
   ],
   "source": [
    "element = elements[0]\n",
    "\n",
    "data = {\n",
    "    \"title\" : element.find_element_by_css_selector(\"h4 > .ga-link\").text,\n",
    "    \"link\" : element.find_element_by_css_selector(\"h4 > .ga-link\").get_attribute(\"href\"),\n",
    "}\n",
    "    \n",
    "data"
   ]
  },
  {
   "cell_type": "code",
   "execution_count": 42,
   "id": "a01ad6a7",
   "metadata": {},
   "outputs": [
    {
     "name": "stdout",
     "output_type": "stream",
     "text": [
      "Wall time: 1.86 s\n"
     ]
    },
    {
     "data": {
      "text/html": [
       "<div>\n",
       "<style scoped>\n",
       "    .dataframe tbody tr th:only-of-type {\n",
       "        vertical-align: middle;\n",
       "    }\n",
       "\n",
       "    .dataframe tbody tr th {\n",
       "        vertical-align: top;\n",
       "    }\n",
       "\n",
       "    .dataframe thead th {\n",
       "        text-align: right;\n",
       "    }\n",
       "</style>\n",
       "<table border=\"1\" class=\"dataframe\">\n",
       "  <thead>\n",
       "    <tr style=\"text-align: right;\">\n",
       "      <th></th>\n",
       "      <th>title</th>\n",
       "      <th>link</th>\n",
       "    </tr>\n",
       "  </thead>\n",
       "  <tbody>\n",
       "    <tr>\n",
       "      <th>0</th>\n",
       "      <td>Climate action needs new frontline leadership</td>\n",
       "      <td>https://www.ted.com/talks/ozawa_bineshi_albert...</td>\n",
       "    </tr>\n",
       "    <tr>\n",
       "      <th>1</th>\n",
       "      <td>The dark history of the overthrow of Hawaii</td>\n",
       "      <td>https://www.ted.com/talks/sydney_iaukea_the_da...</td>\n",
       "    </tr>\n",
       "    <tr>\n",
       "      <th>2</th>\n",
       "      <td>How play can spark new ideas for your business</td>\n",
       "      <td>https://www.ted.com/talks/martin_reeves_how_pl...</td>\n",
       "    </tr>\n",
       "    <tr>\n",
       "      <th>3</th>\n",
       "      <td>Why is China appointing judges to combat clima...</td>\n",
       "      <td>https://www.ted.com/talks/james_k_thornton_why...</td>\n",
       "    </tr>\n",
       "    <tr>\n",
       "      <th>4</th>\n",
       "      <td>Cement's carbon problem — and 2 ways to fix it</td>\n",
       "      <td>https://www.ted.com/talks/mahendra_singhi_ceme...</td>\n",
       "    </tr>\n",
       "  </tbody>\n",
       "</table>\n",
       "</div>"
      ],
      "text/plain": [
       "                                               title  \\\n",
       "0      Climate action needs new frontline leadership   \n",
       "1        The dark history of the overthrow of Hawaii   \n",
       "2     How play can spark new ideas for your business   \n",
       "3  Why is China appointing judges to combat clima...   \n",
       "4     Cement's carbon problem — and 2 ways to fix it   \n",
       "\n",
       "                                                link  \n",
       "0  https://www.ted.com/talks/ozawa_bineshi_albert...  \n",
       "1  https://www.ted.com/talks/sydney_iaukea_the_da...  \n",
       "2  https://www.ted.com/talks/martin_reeves_how_pl...  \n",
       "3  https://www.ted.com/talks/james_k_thornton_why...  \n",
       "4  https://www.ted.com/talks/mahendra_singhi_ceme...  "
      ]
     },
     "execution_count": 42,
     "metadata": {},
     "output_type": "execute_result"
    }
   ],
   "source": [
    "%%time\n",
    "datas = []\n",
    "for element in elements:\n",
    "    datas.append({\n",
    "        \"title\" : element.find_element_by_css_selector(\"h4 > .ga-link\").text,\n",
    "        \"link\" : element.find_element_by_css_selector(\"h4 > .ga-link\").get_attribute(\"href\"),\n",
    "    })\n",
    "    \n",
    "datas\n",
    "\n",
    "df = pd.DataFrame(datas)\n",
    "df.head()"
   ]
  },
  {
   "cell_type": "markdown",
   "id": "8f4afac4",
   "metadata": {},
   "source": [
    "### 5. 셀렉트 박스의 한국어 클릭하기"
   ]
  },
  {
   "cell_type": "code",
   "execution_count": 43,
   "id": "db5c1ed7",
   "metadata": {},
   "outputs": [],
   "source": [
    "driver.find_element_by_css_selector('[lang=\"ko\"]').click()"
   ]
  },
  {
   "cell_type": "markdown",
   "id": "5945199e",
   "metadata": {},
   "source": [
    "### 6. 출력된 영상의 제목 데이터 수집하기"
   ]
  },
  {
   "cell_type": "code",
   "execution_count": 44,
   "id": "631ee8f5",
   "metadata": {},
   "outputs": [],
   "source": [
    "selector = '#browse-results > div.row.row-sm-4up.row-lg-6up.row-skinny > div'\n",
    "elements = driver.find_elements_by_css_selector(selector)"
   ]
  },
  {
   "cell_type": "code",
   "execution_count": 45,
   "id": "60206677",
   "metadata": {},
   "outputs": [
    {
     "data": {
      "text/html": [
       "<div>\n",
       "<style scoped>\n",
       "    .dataframe tbody tr th:only-of-type {\n",
       "        vertical-align: middle;\n",
       "    }\n",
       "\n",
       "    .dataframe tbody tr th {\n",
       "        vertical-align: top;\n",
       "    }\n",
       "\n",
       "    .dataframe thead th {\n",
       "        text-align: right;\n",
       "    }\n",
       "</style>\n",
       "<table border=\"1\" class=\"dataframe\">\n",
       "  <thead>\n",
       "    <tr style=\"text-align: right;\">\n",
       "      <th></th>\n",
       "      <th>title</th>\n",
       "      <th>link</th>\n",
       "    </tr>\n",
       "  </thead>\n",
       "  <tbody>\n",
       "    <tr>\n",
       "      <th>0</th>\n",
       "      <td>나르키소스와 에코의 신화 - 이솔트 길레스피</td>\n",
       "      <td>https://www.ted.com/talks/iseult_gillespie_the...</td>\n",
       "    </tr>\n",
       "    <tr>\n",
       "      <th>1</th>\n",
       "      <td>제트 팩은 어떻게 작동할까요? 그리고 왜 모두가 쓰고 있지 않을까요? - 리처드 브...</td>\n",
       "      <td>https://www.ted.com/talks/richard_browning_how...</td>\n",
       "    </tr>\n",
       "    <tr>\n",
       "      <th>2</th>\n",
       "      <td>'정상'은 무엇이고 '다름'은 무엇일까요? - 야나 버러 타바니에(Yana Buhr...</td>\n",
       "      <td>https://www.ted.com/talks/yana_buhrer_tavanier...</td>\n",
       "    </tr>\n",
       "    <tr>\n",
       "      <th>3</th>\n",
       "      <td>한 국가를 분열시킨 오류의 해결책을 아시나요? - 엘리자베스 콕스</td>\n",
       "      <td>https://www.ted.com/talks/elizabeth_cox_can_yo...</td>\n",
       "    </tr>\n",
       "    <tr>\n",
       "      <th>4</th>\n",
       "      <td>교활한 거미 아난시 이야기 - 에밀리 조벨 마샬(Emily Zobel Marshall)</td>\n",
       "      <td>https://www.ted.com/talks/emily_zobel_marshall...</td>\n",
       "    </tr>\n",
       "  </tbody>\n",
       "</table>\n",
       "</div>"
      ],
      "text/plain": [
       "                                               title  \\\n",
       "0                           나르키소스와 에코의 신화 - 이솔트 길레스피   \n",
       "1  제트 팩은 어떻게 작동할까요? 그리고 왜 모두가 쓰고 있지 않을까요? - 리처드 브...   \n",
       "2  '정상'은 무엇이고 '다름'은 무엇일까요? - 야나 버러 타바니에(Yana Buhr...   \n",
       "3               한 국가를 분열시킨 오류의 해결책을 아시나요? - 엘리자베스 콕스   \n",
       "4   교활한 거미 아난시 이야기 - 에밀리 조벨 마샬(Emily Zobel Marshall)   \n",
       "\n",
       "                                                link  \n",
       "0  https://www.ted.com/talks/iseult_gillespie_the...  \n",
       "1  https://www.ted.com/talks/richard_browning_how...  \n",
       "2  https://www.ted.com/talks/yana_buhrer_tavanier...  \n",
       "3  https://www.ted.com/talks/elizabeth_cox_can_yo...  \n",
       "4  https://www.ted.com/talks/emily_zobel_marshall...  "
      ]
     },
     "execution_count": 45,
     "metadata": {},
     "output_type": "execute_result"
    }
   ],
   "source": [
    "datas = []\n",
    "for element in elements:\n",
    "    datas.append({\n",
    "        \"title\" : element.find_element_by_css_selector(\"h4 > .ga-link\").text,\n",
    "        \"link\" : element.find_element_by_css_selector(\"h4 > .ga-link\").get_attribute(\"href\"),\n",
    "    })\n",
    "    \n",
    "datas\n",
    "\n",
    "df = pd.DataFrame(datas)\n",
    "df.head()"
   ]
  },
  {
   "cell_type": "code",
   "execution_count": 46,
   "id": "b5aa7ca8",
   "metadata": {},
   "outputs": [],
   "source": [
    "# 페이지 이동"
   ]
  },
  {
   "cell_type": "code",
   "execution_count": 50,
   "id": "6f5e1d9e",
   "metadata": {},
   "outputs": [],
   "source": [
    "driver.get('https://daum.net')"
   ]
  },
  {
   "cell_type": "code",
   "execution_count": 51,
   "id": "d387fc5f",
   "metadata": {},
   "outputs": [],
   "source": [
    "driver.find_element_by_css_selector('#q').send_keys(\"kt\")"
   ]
  },
  {
   "cell_type": "code",
   "execution_count": 54,
   "id": "7a3e0974",
   "metadata": {},
   "outputs": [
    {
     "ename": "NoSuchElementException",
     "evalue": "Message: no such element: Unable to locate element: {\"method\":\"css selector\",\"selector\":\".ico_pctop btn_search\"}\n  (Session info: chrome=98.0.4758.102)\nStacktrace:\nBacktrace:\n\tOrdinal0 [0x00A769A3+2582947]\n\tOrdinal0 [0x00A0A6D1+2139857]\n\tOrdinal0 [0x00903A98+1063576]\n\tOrdinal0 [0x0092FF3E+1244990]\n\tOrdinal0 [0x0093013B+1245499]\n\tOrdinal0 [0x00959F52+1417042]\n\tOrdinal0 [0x00948594+1344916]\n\tOrdinal0 [0x0095834A+1409866]\n\tOrdinal0 [0x00948366+1344358]\n\tOrdinal0 [0x00925176+1200502]\n\tOrdinal0 [0x00926066+1204326]\n\tGetHandleVerifier [0x00C1BE02+1675858]\n\tGetHandleVerifier [0x00CD036C+2414524]\n\tGetHandleVerifier [0x00B0BB01+560977]\n\tGetHandleVerifier [0x00B0A8D3+556323]\n\tOrdinal0 [0x00A1020E+2163214]\n\tOrdinal0 [0x00A15078+2183288]\n\tOrdinal0 [0x00A151C0+2183616]\n\tOrdinal0 [0x00A1EE1C+2223644]\n\tBaseThreadInitThunk [0x7584FA29+25]\n\tRtlGetAppContainerNamedObjectPath [0x76FC7A9E+286]\n\tRtlGetAppContainerNamedObjectPath [0x76FC7A6E+238]\n",
     "output_type": "error",
     "traceback": [
      "\u001b[1;31m---------------------------------------------------------------------------\u001b[0m",
      "\u001b[1;31mNoSuchElementException\u001b[0m                    Traceback (most recent call last)",
      "\u001b[1;32m<ipython-input-54-0cb1a19a918c>\u001b[0m in \u001b[0;36m<module>\u001b[1;34m\u001b[0m\n\u001b[1;32m----> 1\u001b[1;33m \u001b[0mdriver\u001b[0m\u001b[1;33m.\u001b[0m\u001b[0mfind_element_by_css_selector\u001b[0m\u001b[1;33m(\u001b[0m\u001b[1;34m\".ico_pctop btn_search\"\u001b[0m\u001b[1;33m)\u001b[0m\u001b[1;33m.\u001b[0m\u001b[0mclick\u001b[0m\u001b[1;33m(\u001b[0m\u001b[1;33m)\u001b[0m\u001b[1;33m\u001b[0m\u001b[1;33m\u001b[0m\u001b[0m\n\u001b[0m",
      "\u001b[1;32m~\\anaconda3\\lib\\site-packages\\selenium\\webdriver\\remote\\webdriver.py\u001b[0m in \u001b[0;36mfind_element_by_css_selector\u001b[1;34m(self, css_selector)\u001b[0m\n\u001b[0;32m    806\u001b[0m             \u001b[0mstacklevel\u001b[0m\u001b[1;33m=\u001b[0m\u001b[1;36m2\u001b[0m\u001b[1;33m,\u001b[0m\u001b[1;33m\u001b[0m\u001b[1;33m\u001b[0m\u001b[0m\n\u001b[0;32m    807\u001b[0m         )\n\u001b[1;32m--> 808\u001b[1;33m         \u001b[1;32mreturn\u001b[0m \u001b[0mself\u001b[0m\u001b[1;33m.\u001b[0m\u001b[0mfind_element\u001b[0m\u001b[1;33m(\u001b[0m\u001b[0mby\u001b[0m\u001b[1;33m=\u001b[0m\u001b[0mBy\u001b[0m\u001b[1;33m.\u001b[0m\u001b[0mCSS_SELECTOR\u001b[0m\u001b[1;33m,\u001b[0m \u001b[0mvalue\u001b[0m\u001b[1;33m=\u001b[0m\u001b[0mcss_selector\u001b[0m\u001b[1;33m)\u001b[0m\u001b[1;33m\u001b[0m\u001b[1;33m\u001b[0m\u001b[0m\n\u001b[0m\u001b[0;32m    809\u001b[0m \u001b[1;33m\u001b[0m\u001b[0m\n\u001b[0;32m    810\u001b[0m     \u001b[1;32mdef\u001b[0m \u001b[0mfind_elements_by_css_selector\u001b[0m\u001b[1;33m(\u001b[0m\u001b[0mself\u001b[0m\u001b[1;33m,\u001b[0m \u001b[0mcss_selector\u001b[0m\u001b[1;33m)\u001b[0m \u001b[1;33m->\u001b[0m \u001b[0mWebElement\u001b[0m\u001b[1;33m:\u001b[0m\u001b[1;33m\u001b[0m\u001b[1;33m\u001b[0m\u001b[0m\n",
      "\u001b[1;32m~\\anaconda3\\lib\\site-packages\\selenium\\webdriver\\remote\\webdriver.py\u001b[0m in \u001b[0;36mfind_element\u001b[1;34m(self, by, value)\u001b[0m\n\u001b[0;32m   1242\u001b[0m             \u001b[0mvalue\u001b[0m \u001b[1;33m=\u001b[0m \u001b[1;34m'[name=\"%s\"]'\u001b[0m \u001b[1;33m%\u001b[0m \u001b[0mvalue\u001b[0m\u001b[1;33m\u001b[0m\u001b[1;33m\u001b[0m\u001b[0m\n\u001b[0;32m   1243\u001b[0m \u001b[1;33m\u001b[0m\u001b[0m\n\u001b[1;32m-> 1244\u001b[1;33m         return self.execute(Command.FIND_ELEMENT, {\n\u001b[0m\u001b[0;32m   1245\u001b[0m             \u001b[1;34m'using'\u001b[0m\u001b[1;33m:\u001b[0m \u001b[0mby\u001b[0m\u001b[1;33m,\u001b[0m\u001b[1;33m\u001b[0m\u001b[1;33m\u001b[0m\u001b[0m\n\u001b[0;32m   1246\u001b[0m             'value': value})['value']\n",
      "\u001b[1;32m~\\anaconda3\\lib\\site-packages\\selenium\\webdriver\\remote\\webdriver.py\u001b[0m in \u001b[0;36mexecute\u001b[1;34m(self, driver_command, params)\u001b[0m\n\u001b[0;32m    422\u001b[0m         \u001b[0mresponse\u001b[0m \u001b[1;33m=\u001b[0m \u001b[0mself\u001b[0m\u001b[1;33m.\u001b[0m\u001b[0mcommand_executor\u001b[0m\u001b[1;33m.\u001b[0m\u001b[0mexecute\u001b[0m\u001b[1;33m(\u001b[0m\u001b[0mdriver_command\u001b[0m\u001b[1;33m,\u001b[0m \u001b[0mparams\u001b[0m\u001b[1;33m)\u001b[0m\u001b[1;33m\u001b[0m\u001b[1;33m\u001b[0m\u001b[0m\n\u001b[0;32m    423\u001b[0m         \u001b[1;32mif\u001b[0m \u001b[0mresponse\u001b[0m\u001b[1;33m:\u001b[0m\u001b[1;33m\u001b[0m\u001b[1;33m\u001b[0m\u001b[0m\n\u001b[1;32m--> 424\u001b[1;33m             \u001b[0mself\u001b[0m\u001b[1;33m.\u001b[0m\u001b[0merror_handler\u001b[0m\u001b[1;33m.\u001b[0m\u001b[0mcheck_response\u001b[0m\u001b[1;33m(\u001b[0m\u001b[0mresponse\u001b[0m\u001b[1;33m)\u001b[0m\u001b[1;33m\u001b[0m\u001b[1;33m\u001b[0m\u001b[0m\n\u001b[0m\u001b[0;32m    425\u001b[0m             response['value'] = self._unwrap_value(\n\u001b[0;32m    426\u001b[0m                 response.get('value', None))\n",
      "\u001b[1;32m~\\anaconda3\\lib\\site-packages\\selenium\\webdriver\\remote\\errorhandler.py\u001b[0m in \u001b[0;36mcheck_response\u001b[1;34m(self, response)\u001b[0m\n\u001b[0;32m    245\u001b[0m                 \u001b[0malert_text\u001b[0m \u001b[1;33m=\u001b[0m \u001b[0mvalue\u001b[0m\u001b[1;33m[\u001b[0m\u001b[1;34m'alert'\u001b[0m\u001b[1;33m]\u001b[0m\u001b[1;33m.\u001b[0m\u001b[0mget\u001b[0m\u001b[1;33m(\u001b[0m\u001b[1;34m'text'\u001b[0m\u001b[1;33m)\u001b[0m\u001b[1;33m\u001b[0m\u001b[1;33m\u001b[0m\u001b[0m\n\u001b[0;32m    246\u001b[0m             \u001b[1;32mraise\u001b[0m \u001b[0mexception_class\u001b[0m\u001b[1;33m(\u001b[0m\u001b[0mmessage\u001b[0m\u001b[1;33m,\u001b[0m \u001b[0mscreen\u001b[0m\u001b[1;33m,\u001b[0m \u001b[0mstacktrace\u001b[0m\u001b[1;33m,\u001b[0m \u001b[0malert_text\u001b[0m\u001b[1;33m)\u001b[0m  \u001b[1;31m# type: ignore[call-arg]  # mypy is not smart enough here\u001b[0m\u001b[1;33m\u001b[0m\u001b[1;33m\u001b[0m\u001b[0m\n\u001b[1;32m--> 247\u001b[1;33m         \u001b[1;32mraise\u001b[0m \u001b[0mexception_class\u001b[0m\u001b[1;33m(\u001b[0m\u001b[0mmessage\u001b[0m\u001b[1;33m,\u001b[0m \u001b[0mscreen\u001b[0m\u001b[1;33m,\u001b[0m \u001b[0mstacktrace\u001b[0m\u001b[1;33m)\u001b[0m\u001b[1;33m\u001b[0m\u001b[1;33m\u001b[0m\u001b[0m\n\u001b[0m\u001b[0;32m    248\u001b[0m \u001b[1;33m\u001b[0m\u001b[0m\n\u001b[0;32m    249\u001b[0m     \u001b[1;32mdef\u001b[0m \u001b[0m_value_or_default\u001b[0m\u001b[1;33m(\u001b[0m\u001b[0mself\u001b[0m\u001b[1;33m,\u001b[0m \u001b[0mobj\u001b[0m\u001b[1;33m:\u001b[0m \u001b[0mMapping\u001b[0m\u001b[1;33m[\u001b[0m\u001b[0m_KT\u001b[0m\u001b[1;33m,\u001b[0m \u001b[0m_VT\u001b[0m\u001b[1;33m]\u001b[0m\u001b[1;33m,\u001b[0m \u001b[0mkey\u001b[0m\u001b[1;33m:\u001b[0m \u001b[0m_KT\u001b[0m\u001b[1;33m,\u001b[0m \u001b[0mdefault\u001b[0m\u001b[1;33m:\u001b[0m \u001b[0m_VT\u001b[0m\u001b[1;33m)\u001b[0m \u001b[1;33m->\u001b[0m \u001b[0m_VT\u001b[0m\u001b[1;33m:\u001b[0m\u001b[1;33m\u001b[0m\u001b[1;33m\u001b[0m\u001b[0m\n",
      "\u001b[1;31mNoSuchElementException\u001b[0m: Message: no such element: Unable to locate element: {\"method\":\"css selector\",\"selector\":\".ico_pctop btn_search\"}\n  (Session info: chrome=98.0.4758.102)\nStacktrace:\nBacktrace:\n\tOrdinal0 [0x00A769A3+2582947]\n\tOrdinal0 [0x00A0A6D1+2139857]\n\tOrdinal0 [0x00903A98+1063576]\n\tOrdinal0 [0x0092FF3E+1244990]\n\tOrdinal0 [0x0093013B+1245499]\n\tOrdinal0 [0x00959F52+1417042]\n\tOrdinal0 [0x00948594+1344916]\n\tOrdinal0 [0x0095834A+1409866]\n\tOrdinal0 [0x00948366+1344358]\n\tOrdinal0 [0x00925176+1200502]\n\tOrdinal0 [0x00926066+1204326]\n\tGetHandleVerifier [0x00C1BE02+1675858]\n\tGetHandleVerifier [0x00CD036C+2414524]\n\tGetHandleVerifier [0x00B0BB01+560977]\n\tGetHandleVerifier [0x00B0A8D3+556323]\n\tOrdinal0 [0x00A1020E+2163214]\n\tOrdinal0 [0x00A15078+2183288]\n\tOrdinal0 [0x00A151C0+2183616]\n\tOrdinal0 [0x00A1EE1C+2223644]\n\tBaseThreadInitThunk [0x7584FA29+25]\n\tRtlGetAppContainerNamedObjectPath [0x76FC7A9E+286]\n\tRtlGetAppContainerNamedObjectPath [0x76FC7A6E+238]\n"
     ]
    }
   ],
   "source": [
    "driver.find_element_by_css_selector(\".ico_pctop btn_search\").click()"
   ]
  },
  {
   "cell_type": "code",
   "execution_count": 56,
   "id": "856f400f",
   "metadata": {},
   "outputs": [],
   "source": [
    "driver.quit()"
   ]
  },
  {
   "cell_type": "code",
   "execution_count": null,
   "id": "4170f112",
   "metadata": {},
   "outputs": [],
   "source": []
  },
  {
   "cell_type": "code",
   "execution_count": null,
   "id": "c7574bd1",
   "metadata": {},
   "outputs": [],
   "source": []
  }
 ],
 "metadata": {
  "kernelspec": {
   "display_name": "Python 3",
   "language": "python",
   "name": "python3"
  },
  "language_info": {
   "codemirror_mode": {
    "name": "ipython",
    "version": 3
   },
   "file_extension": ".py",
   "mimetype": "text/x-python",
   "name": "python",
   "nbconvert_exporter": "python",
   "pygments_lexer": "ipython3",
   "version": "3.8.8"
  }
 },
 "nbformat": 4,
 "nbformat_minor": 5
}
