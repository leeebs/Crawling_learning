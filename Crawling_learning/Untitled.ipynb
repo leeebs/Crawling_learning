{
 "cells": [
  {
   "cell_type": "code",
   "execution_count": 1,
   "id": "1ee83ebb",
   "metadata": {},
   "outputs": [],
   "source": [
    "import pandas as pd\n",
    "import requests\n",
    "from bs4 import BeautifulSoup\n",
    "import time\n",
    "from selenium import webdriver\n",
    "from selenium.webdriver.support.ui import WebDriverWait\n",
    "from selenium.webdriver.support import expected_conditions as EC\n",
    "from selenium.webdriver.common.by import By\n",
    "from selenium.common.exceptions import TimeoutException\n",
    "from selenium.webdriver.chrome.options import Options\n",
    "import random"
   ]
  },
  {
   "cell_type": "code",
   "execution_count": 4,
   "id": "8146209b",
   "metadata": {},
   "outputs": [],
   "source": [
    "url = 'https://search.shopping.naver.com/catalog/25604807522?fromWhere=BRANDSTORE&NaPm=ct%3Dl00a8rg8%7Cci%3Dd5e80971c9af4c31a1d51337e7abb8d64093bb0f%7Ctr%3Dbsc%7Csn%3D95694%7Chk%3D55b6182452775b5f73aa7dcd600734b36f68b16b'"
   ]
  },
  {
   "cell_type": "code",
   "execution_count": 6,
   "id": "33a191b0",
   "metadata": {},
   "outputs": [],
   "source": [
    "driver = webdriver.Chrome()\n",
    "url = 'https://search.shopping.naver.com/catalog/25604807522?fromWhere=BRANDSTORE&NaPm=ct%3Dl00a8rg8%7Cci%3Dd5e80971c9af4c31a1d51337e7abb8d64093bb0f%7Ctr%3Dbsc%7Csn%3D95694%7Chk%3D55b6182452775b5f73aa7dcd600734b36f68b16b'\n",
    "driver.get(url)\n"
   ]
  },
  {
   "cell_type": "code",
   "execution_count": 7,
   "id": "e27debc2",
   "metadata": {},
   "outputs": [
    {
     "name": "stderr",
     "output_type": "stream",
     "text": [
      "<ipython-input-7-c3c608f2a0c2>:2: DeprecationWarning: find_elements_by_* commands are deprecated. Please use find_elements() instead\n",
      "  page_bar = driver.find_elements_by_css_selector('#section_review > div.pagination_pagination__2M9a4')[0]\n"
     ]
    },
    {
     "data": {
      "text/plain": [
       "<selenium.webdriver.remote.webelement.WebElement (session=\"b7d5b7592cbbdcf651b958e55db77795\", element=\"d10d0204-a8da-4dcd-b8fe-e23098dcd853\")>"
      ]
     },
     "execution_count": 7,
     "metadata": {},
     "output_type": "execute_result"
    }
   ],
   "source": [
    "#section_review > div.pagination_pagination__2M9a4\n",
    "page_bar = driver.find_elements_by_css_selector('#section_review > div.pagination_pagination__2M9a4')[0]\n"
   ]
  },
  {
   "cell_type": "code",
   "execution_count": 8,
   "id": "f6588735",
   "metadata": {},
   "outputs": [
    {
     "name": "stderr",
     "output_type": "stream",
     "text": [
      "C:\\Users\\User\\anaconda3\\lib\\site-packages\\selenium\\webdriver\\remote\\webelement.py:502: UserWarning: find_elements_by_* commands are deprecated. Please use find_elements() instead\n",
      "  warnings.warn(\"find_elements_by_* commands are deprecated. Please use find_elements() instead\")\n"
     ]
    },
    {
     "data": {
      "text/plain": [
       "11"
      ]
     },
     "execution_count": 8,
     "metadata": {},
     "output_type": "execute_result"
    }
   ],
   "source": [
    "pages = page_bar.find_elements_by_css_selector('a')\n",
    "len(pages)                                               "
   ]
  },
  {
   "cell_type": "code",
   "execution_count": 9,
   "id": "298bc631",
   "metadata": {},
   "outputs": [
    {
     "name": "stdout",
     "output_type": "stream",
     "text": [
      "현재 페이지\n",
      "1\n",
      "2\n",
      "3\n",
      "4\n",
      "5\n",
      "6\n",
      "7\n",
      "8\n",
      "9\n",
      "10\n",
      "다음\n"
     ]
    }
   ],
   "source": [
    "for page in pages:\n",
    "    print(page.text)\n",
    "    \n",
    "#section_review > div.pagination_pagination__2M9a4 > a.pagination_prev__15lor"
   ]
  },
  {
   "cell_type": "code",
   "execution_count": 12,
   "id": "460e19cd",
   "metadata": {},
   "outputs": [
    {
     "data": {
      "text/plain": [
       "'1'"
      ]
     },
     "execution_count": 12,
     "metadata": {},
     "output_type": "execute_result"
    }
   ],
   "source": [
    "#section_review > div.pagination_pagination__2M9a4 > a.pagination_now__gZWGP\n",
    "page_now = page_bar.find_elements_by_css_selector('a.pagination_now__gZWGP')[0].text.replace('현재 페이지', '').strip()\n",
    "page_now"
   ]
  },
  {
   "cell_type": "code",
   "execution_count": 26,
   "id": "cee5b000",
   "metadata": {},
   "outputs": [],
   "source": [
    "def move_page(driver):\n",
    "    page_bar = driver.find_elements_by_css_selector('#section_review > div.pagination_pagination__2M9a4')[0]\n",
    "    pages = page_bar.find_elements_by_css_selector('a')\n",
    "    page_now = page_bar.find_elements_by_css_selector('a.pagination_now__gZWGP')[0].text.replace('현재 페이지', '').strip()\n",
    "    for page in pages:\n",
    "        page_num = page.text.strip()\n",
    "        if page_num in ['이전', '현재 페이지']:\n",
    "            pass\n",
    "        elif page_num == '다음':\n",
    "            page.send_keys('\\n')\n",
    "            driver.implicitly_wait(3)\n",
    "            time.sleep(2+random.uniform(0,1))\n",
    "\n",
    "            return False\n",
    "        elif int(page_num) > int(page_now):\n",
    "            page_send.key('\\n')\n",
    "            driver.implicitly_wait(3)\n",
    "            time.sleep(1+random.uniform(0,1))\n",
    "            return False\n",
    "\n",
    "      \n",
    "    print('마지막 페이지')\n",
    "    return True\n"
   ]
  },
  {
   "cell_type": "code",
   "execution_count": 28,
   "id": "39ccf8d3",
   "metadata": {},
   "outputs": [
    {
     "name": "stderr",
     "output_type": "stream",
     "text": [
      "<ipython-input-26-bef27b9bf256>:2: DeprecationWarning: find_elements_by_* commands are deprecated. Please use find_elements() instead\n",
      "  page_bar = driver.find_elements_by_css_selector('#section_review > div.pagination_pagination__2M9a4')[0]\n"
     ]
    },
    {
     "ename": "ValueError",
     "evalue": "invalid literal for int() with base 10: '현재 페이지\\n1'",
     "output_type": "error",
     "traceback": [
      "\u001b[1;31m---------------------------------------------------------------------------\u001b[0m",
      "\u001b[1;31mValueError\u001b[0m                                Traceback (most recent call last)",
      "\u001b[1;32m<ipython-input-28-6cd52473b1f9>\u001b[0m in \u001b[0;36m<module>\u001b[1;34m\u001b[0m\n\u001b[0;32m      7\u001b[0m \u001b[1;33m\u001b[0m\u001b[0m\n\u001b[0;32m      8\u001b[0m \u001b[1;32mwhile\u001b[0m\u001b[1;33m(\u001b[0m\u001b[1;32mnot\u001b[0m \u001b[0mis_done\u001b[0m\u001b[1;33m)\u001b[0m\u001b[1;33m:\u001b[0m\u001b[1;33m\u001b[0m\u001b[1;33m\u001b[0m\u001b[0m\n\u001b[1;32m----> 9\u001b[1;33m     \u001b[0mis_done\u001b[0m \u001b[1;33m=\u001b[0m \u001b[0mmove_page\u001b[0m\u001b[1;33m(\u001b[0m\u001b[0mdriver\u001b[0m\u001b[1;33m)\u001b[0m\u001b[1;33m\u001b[0m\u001b[1;33m\u001b[0m\u001b[0m\n\u001b[0m",
      "\u001b[1;32m<ipython-input-26-bef27b9bf256>\u001b[0m in \u001b[0;36mmove_page\u001b[1;34m(driver)\u001b[0m\n\u001b[0;32m     13\u001b[0m \u001b[1;33m\u001b[0m\u001b[0m\n\u001b[0;32m     14\u001b[0m             \u001b[1;32mreturn\u001b[0m \u001b[1;32mFalse\u001b[0m\u001b[1;33m\u001b[0m\u001b[1;33m\u001b[0m\u001b[0m\n\u001b[1;32m---> 15\u001b[1;33m         \u001b[1;32melif\u001b[0m \u001b[0mint\u001b[0m\u001b[1;33m(\u001b[0m\u001b[0mpage_num\u001b[0m\u001b[1;33m)\u001b[0m \u001b[1;33m>\u001b[0m \u001b[0mint\u001b[0m\u001b[1;33m(\u001b[0m\u001b[0mpage_now\u001b[0m\u001b[1;33m)\u001b[0m\u001b[1;33m:\u001b[0m\u001b[1;33m\u001b[0m\u001b[1;33m\u001b[0m\u001b[0m\n\u001b[0m\u001b[0;32m     16\u001b[0m             \u001b[0mpage_send\u001b[0m\u001b[1;33m.\u001b[0m\u001b[0mkey\u001b[0m\u001b[1;33m(\u001b[0m\u001b[1;34m'\\n'\u001b[0m\u001b[1;33m)\u001b[0m\u001b[1;33m\u001b[0m\u001b[1;33m\u001b[0m\u001b[0m\n\u001b[0;32m     17\u001b[0m             \u001b[0mdriver\u001b[0m\u001b[1;33m.\u001b[0m\u001b[0mimplicitly_wait\u001b[0m\u001b[1;33m(\u001b[0m\u001b[1;36m3\u001b[0m\u001b[1;33m)\u001b[0m\u001b[1;33m\u001b[0m\u001b[1;33m\u001b[0m\u001b[0m\n",
      "\u001b[1;31mValueError\u001b[0m: invalid literal for int() with base 10: '현재 페이지\\n1'"
     ]
    }
   ],
   "source": [
    "driver = webdriver.Chrome()\n",
    "url = 'https://search.shopping.naver.com/catalog/25604807522?fromWhere=BRANDSTORE&NaPm=ct%3Dl00a8rg8%7Cci%3Dd5e80971c9af4c31a1d51337e7abb8d64093bb0f%7Ctr%3Dbsc%7Csn%3D95694%7Chk%3D55b6182452775b5f73aa7dcd600734b36f68b16b'\n",
    "driver.get(url)\n",
    "time.sleep(10)\n",
    "\n",
    "is_done=False\n",
    "\n",
    "while(not is_done):\n",
    "    is_done = move_page(driver)"
   ]
  },
  {
   "cell_type": "code",
   "execution_count": 21,
   "id": "b721210e",
   "metadata": {},
   "outputs": [
    {
     "name": "stderr",
     "output_type": "stream",
     "text": [
      "<ipython-input-19-28fbb21c6bd4>:2: DeprecationWarning: find_elements_by_* commands are deprecated. Please use find_elements() instead\n",
      "  page_bar = driver.find_elements_by_css_selector('#section_review > div.pagination_pagination__2M9a4')[0]\n"
     ]
    },
    {
     "ename": "ValueError",
     "evalue": "invalid literal for int() with base 10: '현재 페이지\\n1'",
     "output_type": "error",
     "traceback": [
      "\u001b[1;31m---------------------------------------------------------------------------\u001b[0m",
      "\u001b[1;31mValueError\u001b[0m                                Traceback (most recent call last)",
      "\u001b[1;32m<ipython-input-21-89fc755691c8>\u001b[0m in \u001b[0;36m<module>\u001b[1;34m\u001b[0m\n\u001b[0;32m      2\u001b[0m \u001b[1;33m\u001b[0m\u001b[0m\n\u001b[0;32m      3\u001b[0m \u001b[1;32mwhile\u001b[0m\u001b[1;33m(\u001b[0m\u001b[1;32mnot\u001b[0m \u001b[0mis_done\u001b[0m\u001b[1;33m)\u001b[0m\u001b[1;33m:\u001b[0m\u001b[1;33m\u001b[0m\u001b[1;33m\u001b[0m\u001b[0m\n\u001b[1;32m----> 4\u001b[1;33m     \u001b[0mis_done\u001b[0m \u001b[1;33m=\u001b[0m \u001b[0mmove_page\u001b[0m\u001b[1;33m(\u001b[0m\u001b[0mdriver\u001b[0m\u001b[1;33m)\u001b[0m\u001b[1;33m\u001b[0m\u001b[1;33m\u001b[0m\u001b[0m\n\u001b[0m",
      "\u001b[1;32m<ipython-input-19-28fbb21c6bd4>\u001b[0m in \u001b[0;36mmove_page\u001b[1;34m(driver)\u001b[0m\n\u001b[0;32m     13\u001b[0m \u001b[1;33m\u001b[0m\u001b[0m\n\u001b[0;32m     14\u001b[0m             \u001b[1;32mreturn\u001b[0m \u001b[1;32mFalse\u001b[0m\u001b[1;33m\u001b[0m\u001b[1;33m\u001b[0m\u001b[0m\n\u001b[1;32m---> 15\u001b[1;33m         \u001b[1;32melif\u001b[0m \u001b[0mint\u001b[0m\u001b[1;33m(\u001b[0m\u001b[0mpage_num\u001b[0m\u001b[1;33m)\u001b[0m \u001b[1;33m>\u001b[0m \u001b[0mint\u001b[0m\u001b[1;33m(\u001b[0m\u001b[0mpage_now\u001b[0m\u001b[1;33m)\u001b[0m\u001b[1;33m:\u001b[0m\u001b[1;33m\u001b[0m\u001b[1;33m\u001b[0m\u001b[0m\n\u001b[0m\u001b[0;32m     16\u001b[0m             \u001b[0mpage_send\u001b[0m\u001b[1;33m.\u001b[0m\u001b[0mkey\u001b[0m\u001b[1;33m(\u001b[0m\u001b[1;34m'\\n'\u001b[0m\u001b[1;33m)\u001b[0m\u001b[1;33m\u001b[0m\u001b[1;33m\u001b[0m\u001b[0m\n\u001b[0;32m     17\u001b[0m             \u001b[0mdriver\u001b[0m\u001b[1;33m.\u001b[0m\u001b[0mimplicitly_wait\u001b[0m\u001b[1;33m(\u001b[0m\u001b[1;36m3\u001b[0m\u001b[1;33m)\u001b[0m\u001b[1;33m\u001b[0m\u001b[1;33m\u001b[0m\u001b[0m\n",
      "\u001b[1;31mValueError\u001b[0m: invalid literal for int() with base 10: '현재 페이지\\n1'"
     ]
    }
   ],
   "source": [
    "is_done=False\n",
    "\n",
    "while(not is_done):\n",
    "    is_done = move_page(driver)"
   ]
  },
  {
   "cell_type": "code",
   "execution_count": 2,
   "id": "1c6ff079",
   "metadata": {},
   "outputs": [],
   "source": [
    "def store(url):\n",
    "    driver = webdriver.Chrome()\n",
    "    #url = f\"https://search.shopping.naver.com/api/review?nvMid=25604807522&reviewType=ALL&sort=QUALITY&isNeedAggregation=N&isApplyFilter=N&page={page}&pageSize=20\"\n",
    "    url = 'https://search.shopping.naver.com/catalog/25604807522?fromWhere=BRANDSTORE&NaPm=ct%3Dl00a8rg8%7Cci%3Dd5e80971c9af4c31a1d51337e7abb8d64093bb0f%7Ctr%3Dbsc%7Csn%3D95694%7Chk%3D55b6182452775b5f73aa7dcd600734b36f68b16b'\n",
    "    driver.get(url)\n",
    "    time.sleep(5)\n",
    "    cur_page = 1\n",
    "    target_page = 3\n",
    "    delay = 2\n",
    "    driver.WebDriverWait(driver, delay).until(EC.presence_of_element_located((By.CSS_SELECTOR, \"#section_review > div.pagination_pagination__2M9a4 > a:nth-child({})\".format(cur_page)))).click()\n",
    "    time.sleep(4)\n",
    "    while cur_page <= target_page:\n",
    "        driver.WebDriverWait(driver, delay).until(EC.presence_of_element_located((By.CSS_SELECTOR, \"#section_review > div.pagination_pagination__2M9a4 > a:nth-child({})\".format(cur_page)))).click()\n",
    "        time.sleep(4)\n",
    "        selector = \"#section_review > ul > li\"\n",
    "        elements = driver.find_elements_by_css_selector(selector)\n",
    "        datas = []\n",
    "        for element in elements:\n",
    "            datas.append({\n",
    "                \"rating\" : element.find_element_by_css_selector(\"span\").text,\n",
    "                \"purchase\" : element.find_element_by_css_selector(\"span:nth-child(2)\").text,\n",
    "                \"user\" : element.find_element_by_css_selector(\"span:nth-child(3)\").text,\n",
    "                \"title\" : element.find_element_by_css_selector(\"div > em\").text,\n",
    "                \"date\" : element.find_element_by_css_selector(\"span:nth-child(4)\").text,\n",
    "                \"content\" : element.find_element_by_css_selector(\"div > p\").text,\n",
    "            })\n",
    "        print(cur_page)\n",
    "        cur_page +=1\n",
    "    driver.quit()\n",
    "    return pd.DataFrame(datas)"
   ]
  },
  {
   "cell_type": "code",
   "execution_count": 34,
   "id": "385e1000",
   "metadata": {},
   "outputs": [
    {
     "name": "stderr",
     "output_type": "stream",
     "text": [
      "<ipython-input-33-5b1b10d1623b>:14: DeprecationWarning: find_elements_by_* commands are deprecated. Please use find_elements() instead\n",
      "  elements = driver.find_elements_by_css_selector(selector)\n",
      "C:\\Users\\User\\anaconda3\\lib\\site-packages\\selenium\\webdriver\\remote\\webelement.py:484: UserWarning: find_element_by_* commands are deprecated. Please use find_element() instead\n",
      "  warnings.warn(\"find_element_by_* commands are deprecated. Please use find_element() instead\")\n"
     ]
    },
    {
     "name": "stdout",
     "output_type": "stream",
     "text": [
      "1\n",
      "2\n",
      "3\n"
     ]
    },
    {
     "data": {
      "text/html": [
       "<div>\n",
       "<style scoped>\n",
       "    .dataframe tbody tr th:only-of-type {\n",
       "        vertical-align: middle;\n",
       "    }\n",
       "\n",
       "    .dataframe tbody tr th {\n",
       "        vertical-align: top;\n",
       "    }\n",
       "\n",
       "    .dataframe thead th {\n",
       "        text-align: right;\n",
       "    }\n",
       "</style>\n",
       "<table border=\"1\" class=\"dataframe\">\n",
       "  <thead>\n",
       "    <tr style=\"text-align: right;\">\n",
       "      <th></th>\n",
       "      <th>rating</th>\n",
       "      <th>purchase</th>\n",
       "      <th>user</th>\n",
       "      <th>title</th>\n",
       "      <th>date</th>\n",
       "      <th>content</th>\n",
       "    </tr>\n",
       "  </thead>\n",
       "  <tbody>\n",
       "    <tr>\n",
       "      <th>0</th>\n",
       "      <td>평점5</td>\n",
       "      <td>삼성모바일파트너 코잇</td>\n",
       "      <td>ljm1****</td>\n",
       "      <td>항상 대리점에 가서 핸드폰 구매를 했었는데 알뜰요금제를 알아보던중 자급제폰을 사게 ...</td>\n",
       "      <td>21.08.13.</td>\n",
       "      <td>항상 대리점에 가서 핸드폰 구매를 했었는데 알뜰요금제를 알아보던중 자급제폰을 사게 ...</td>\n",
       "    </tr>\n",
       "    <tr>\n",
       "      <th>1</th>\n",
       "      <td>평점5</td>\n",
       "      <td>11번가</td>\n",
       "      <td>ro******</td>\n",
       "      <td>최고예요</td>\n",
       "      <td>21.09.29.</td>\n",
       "      <td>자급제 휴대폰 처음으로 인터넷 통해서 구매해 보았습니다~~사실 조금 걱정이 되기는 ...</td>\n",
       "    </tr>\n",
       "    <tr>\n",
       "      <th>2</th>\n",
       "      <td>평점5</td>\n",
       "      <td>인터파크</td>\n",
       "      <td>e*a*****</td>\n",
       "      <td>깔끔하고 좋습니다</td>\n",
       "      <td>21.06.20.</td>\n",
       "      <td>☆성능: 기존에 써오던 폰이 저사양이라 상대적으로 더 좋은 느낌입니다. 빠르고 가벼...</td>\n",
       "    </tr>\n",
       "    <tr>\n",
       "      <th>3</th>\n",
       "      <td>평점5</td>\n",
       "      <td>SSG닷컴</td>\n",
       "      <td>le******</td>\n",
       "      <td>주말에 팬텀바이올렛으로 주문했는데 월요일에 바로 발송해</td>\n",
       "      <td>21.07.21.</td>\n",
       "      <td>주말에 팬텀바이올렛으로 주문했는데\\n월요일에 바로 발송해 주셔서 화요일 도착했어요....</td>\n",
       "    </tr>\n",
       "    <tr>\n",
       "      <th>4</th>\n",
       "      <td>평점5</td>\n",
       "      <td>SSG닷컴</td>\n",
       "      <td>nh******</td>\n",
       "      <td>s21을 자급제로 구입해보았습니다. 요금제를 따지니 훨</td>\n",
       "      <td>21.10.13.</td>\n",
       "      <td>s21을 자급제로 구입해보았습니다. 요금제를 따지니 훨씬 경제적이더라구요. 카드할인...</td>\n",
       "    </tr>\n",
       "    <tr>\n",
       "      <th>5</th>\n",
       "      <td>평점5</td>\n",
       "      <td>11번가</td>\n",
       "      <td>ry******</td>\n",
       "      <td>최고예요</td>\n",
       "      <td>21.07.01.</td>\n",
       "      <td>824,920원에 갤럭시 s21 구매했어요. 디지털 프라자에서 공시지원금으로 구매해...</td>\n",
       "    </tr>\n",
       "    <tr>\n",
       "      <th>6</th>\n",
       "      <td>평점5</td>\n",
       "      <td>정품인증점</td>\n",
       "      <td>jwsj****</td>\n",
       "      <td>갤럭시 7을 4년넘게 쓰다가 결국 이곳저곳 다 고장나서 바꾸게 되었습니다.갤럭시 2...</td>\n",
       "      <td>21.08.12.</td>\n",
       "      <td>갤럭시 7을 4년넘게 쓰다가 결국 이곳저곳 다 고장나서 바꾸게 되었습니다.\\n갤럭시...</td>\n",
       "    </tr>\n",
       "    <tr>\n",
       "      <th>7</th>\n",
       "      <td>평점5</td>\n",
       "      <td>SSG닷컴</td>\n",
       "      <td>lo******</td>\n",
       "      <td>핸드폰 가격을 한번에 결제해야하는 부담이 있어 고민했었</td>\n",
       "      <td>21.08.05.</td>\n",
       "      <td>핸드폰 가격을 한번에 결제해야하는 부담이 있어 고민했었지만~ 요금제까지 생각해서 계...</td>\n",
       "    </tr>\n",
       "    <tr>\n",
       "      <th>8</th>\n",
       "      <td>평점5</td>\n",
       "      <td>인터파크</td>\n",
       "      <td>a*n*****</td>\n",
       "      <td>첫 자급제폰 연휴로 5일만의 만남</td>\n",
       "      <td>21.08.17.</td>\n",
       "      <td>2019년 8월말 구매한 노트9의 2021년 4월 액정 수리, 8월초 메인보드 고장...</td>\n",
       "    </tr>\n",
       "    <tr>\n",
       "      <th>9</th>\n",
       "      <td>평점5</td>\n",
       "      <td>SSG닷컴</td>\n",
       "      <td>jm******</td>\n",
       "      <td>몇 년동안 사용한 핸드폰이 점점 이상이 생겨서 핸드폰을</td>\n",
       "      <td>21.08.02.</td>\n",
       "      <td>몇 년동안 사용한 핸드폰이 점점 이상이 생겨서 핸드폰을 구매하기 위해 여러 정보를 ...</td>\n",
       "    </tr>\n",
       "    <tr>\n",
       "      <th>10</th>\n",
       "      <td>평점5</td>\n",
       "      <td>SSG닷컴</td>\n",
       "      <td>na******</td>\n",
       "      <td>문의드릴게 있어서 전화 드렸는데, 전화 연결이 잘 안</td>\n",
       "      <td>22.01.06.</td>\n",
       "      <td>문의드릴게 있어서 전화 드렸는데, 전화 연결이 잘 안되서 처음에 낙심하긴 했지만 친...</td>\n",
       "    </tr>\n",
       "    <tr>\n",
       "      <th>11</th>\n",
       "      <td>평점1</td>\n",
       "      <td>롯데ON</td>\n",
       "      <td>k*k*****</td>\n",
       "      <td>1번 : 예전 번호 기재 2번 : 예</td>\n",
       "      <td>21.04.01.</td>\n",
       "      <td>1번 : 예전 번호 기재\\n2번 : 예전 번호 기재\\n3번 : 정상 번호 기재\\n\\...</td>\n",
       "    </tr>\n",
       "    <tr>\n",
       "      <th>12</th>\n",
       "      <td>평점4</td>\n",
       "      <td>삼성닷컴</td>\n",
       "      <td>최*미*****</td>\n",
       "      <td>LG폰 쓰다가 이번에 새로 출시된 갤럭시 s21로 구매했어요. 사전구매예약...</td>\n",
       "      <td>21.02.05.</td>\n",
       "      <td>LG폰 쓰다가 이번에 새로 출시된 갤럭시 s21로 구매했어요. 사전구매예약해서 구매...</td>\n",
       "    </tr>\n",
       "    <tr>\n",
       "      <th>13</th>\n",
       "      <td>평점5</td>\n",
       "      <td>11번가</td>\n",
       "      <td>mj******</td>\n",
       "      <td>최고예요</td>\n",
       "      <td>21.04.25.</td>\n",
       "      <td>아이폰6s 5년 쓰고 갤럭시로 넘어왔습니다. 일단 폰이 크고 조작도 어렵네요.2년전...</td>\n",
       "    </tr>\n",
       "    <tr>\n",
       "      <th>14</th>\n",
       "      <td>평점5</td>\n",
       "      <td>11번가</td>\n",
       "      <td>by******</td>\n",
       "      <td>최고예요</td>\n",
       "      <td>21.06.27.</td>\n",
       "      <td>스마트 폰이 출시되고 여러가지 브랜드들을 거쳐오면서 엘●폰에 정착했었었는데 사업에 ...</td>\n",
       "    </tr>\n",
       "    <tr>\n",
       "      <th>15</th>\n",
       "      <td>평점5</td>\n",
       "      <td>11번가</td>\n",
       "      <td>up******</td>\n",
       "      <td>최고예요</td>\n",
       "      <td>21.11.25.</td>\n",
       "      <td>배송은 서울이라 전날저녁 주문했는데 다음날 저녁 10시에 받았어요.다른곳보다 훨씬 ...</td>\n",
       "    </tr>\n",
       "    <tr>\n",
       "      <th>16</th>\n",
       "      <td>평점5</td>\n",
       "      <td>11번가</td>\n",
       "      <td>ss******</td>\n",
       "      <td>최고예요</td>\n",
       "      <td>21.09.22.</td>\n",
       "      <td>원래 발송 예정일보다 하루 빨리 발송을 해주셔서 다행히 추석 연휴 시작하기 전에 받...</td>\n",
       "    </tr>\n",
       "    <tr>\n",
       "      <th>17</th>\n",
       "      <td>평점5</td>\n",
       "      <td>SSG닷컴</td>\n",
       "      <td>ab******</td>\n",
       "      <td>사이즈가 작은걸로 하고 싶어 고민하다가 갤럭시 s21로</td>\n",
       "      <td>21.08.26.</td>\n",
       "      <td>사이즈가 작은걸로 하고 싶어 고민하다가 갤럭시 s21로 주문했어요\\n6.2 인치라 ...</td>\n",
       "    </tr>\n",
       "    <tr>\n",
       "      <th>18</th>\n",
       "      <td>평점5</td>\n",
       "      <td>KT공식몰</td>\n",
       "      <td>yuyu****</td>\n",
       "      <td>배송도 엄청 빠르고..본품만 주문한 거라 받으면 젤 먼저 케이스부터 사야지 했는데....</td>\n",
       "      <td>21.06.11.</td>\n",
       "      <td>배송도 엄청 빠르고..본품만 주문한 거라 받으면 젤 먼저 케이스부터 사야지 했는데....</td>\n",
       "    </tr>\n",
       "    <tr>\n",
       "      <th>19</th>\n",
       "      <td>평점4</td>\n",
       "      <td>11번가</td>\n",
       "      <td>kd******</td>\n",
       "      <td>좋아요</td>\n",
       "      <td>21.05.11.</td>\n",
       "      <td>노트8에서 갈아탔는데, 성능차이가 엄청차이나네요.노트8도 제가 쓰기엔 부족하지 않지...</td>\n",
       "    </tr>\n",
       "  </tbody>\n",
       "</table>\n",
       "</div>"
      ],
      "text/plain": [
       "   rating     purchase      user  \\\n",
       "0     평점5  삼성모바일파트너 코잇  ljm1****   \n",
       "1     평점5         11번가  ro******   \n",
       "2     평점5         인터파크  e*a*****   \n",
       "3     평점5        SSG닷컴  le******   \n",
       "4     평점5        SSG닷컴  nh******   \n",
       "5     평점5         11번가  ry******   \n",
       "6     평점5        정품인증점  jwsj****   \n",
       "7     평점5        SSG닷컴  lo******   \n",
       "8     평점5         인터파크  a*n*****   \n",
       "9     평점5        SSG닷컴  jm******   \n",
       "10    평점5        SSG닷컴  na******   \n",
       "11    평점1         롯데ON  k*k*****   \n",
       "12    평점4         삼성닷컴  최*미*****   \n",
       "13    평점5         11번가  mj******   \n",
       "14    평점5         11번가  by******   \n",
       "15    평점5         11번가  up******   \n",
       "16    평점5         11번가  ss******   \n",
       "17    평점5        SSG닷컴  ab******   \n",
       "18    평점5        KT공식몰  yuyu****   \n",
       "19    평점4         11번가  kd******   \n",
       "\n",
       "                                                title       date  \\\n",
       "0   항상 대리점에 가서 핸드폰 구매를 했었는데 알뜰요금제를 알아보던중 자급제폰을 사게 ...  21.08.13.   \n",
       "1                                                최고예요  21.09.29.   \n",
       "2                                           깔끔하고 좋습니다  21.06.20.   \n",
       "3                      주말에 팬텀바이올렛으로 주문했는데 월요일에 바로 발송해  21.07.21.   \n",
       "4                      s21을 자급제로 구입해보았습니다. 요금제를 따지니 훨  21.10.13.   \n",
       "5                                                최고예요  21.07.01.   \n",
       "6   갤럭시 7을 4년넘게 쓰다가 결국 이곳저곳 다 고장나서 바꾸게 되었습니다.갤럭시 2...  21.08.12.   \n",
       "7                      핸드폰 가격을 한번에 결제해야하는 부담이 있어 고민했었  21.08.05.   \n",
       "8                                  첫 자급제폰 연휴로 5일만의 만남  21.08.17.   \n",
       "9                      몇 년동안 사용한 핸드폰이 점점 이상이 생겨서 핸드폰을  21.08.02.   \n",
       "10                      문의드릴게 있어서 전화 드렸는데, 전화 연결이 잘 안  22.01.06.   \n",
       "11                               1번 : 예전 번호 기재 2번 : 예  21.04.01.   \n",
       "12       LG폰 쓰다가 이번에 새로 출시된 갤럭시 s21로 구매했어요. 사전구매예약...  21.02.05.   \n",
       "13                                               최고예요  21.04.25.   \n",
       "14                                               최고예요  21.06.27.   \n",
       "15                                               최고예요  21.11.25.   \n",
       "16                                               최고예요  21.09.22.   \n",
       "17                     사이즈가 작은걸로 하고 싶어 고민하다가 갤럭시 s21로  21.08.26.   \n",
       "18  배송도 엄청 빠르고..본품만 주문한 거라 받으면 젤 먼저 케이스부터 사야지 했는데....  21.06.11.   \n",
       "19                                                좋아요  21.05.11.   \n",
       "\n",
       "                                              content  \n",
       "0   항상 대리점에 가서 핸드폰 구매를 했었는데 알뜰요금제를 알아보던중 자급제폰을 사게 ...  \n",
       "1   자급제 휴대폰 처음으로 인터넷 통해서 구매해 보았습니다~~사실 조금 걱정이 되기는 ...  \n",
       "2   ☆성능: 기존에 써오던 폰이 저사양이라 상대적으로 더 좋은 느낌입니다. 빠르고 가벼...  \n",
       "3   주말에 팬텀바이올렛으로 주문했는데\\n월요일에 바로 발송해 주셔서 화요일 도착했어요....  \n",
       "4   s21을 자급제로 구입해보았습니다. 요금제를 따지니 훨씬 경제적이더라구요. 카드할인...  \n",
       "5   824,920원에 갤럭시 s21 구매했어요. 디지털 프라자에서 공시지원금으로 구매해...  \n",
       "6   갤럭시 7을 4년넘게 쓰다가 결국 이곳저곳 다 고장나서 바꾸게 되었습니다.\\n갤럭시...  \n",
       "7   핸드폰 가격을 한번에 결제해야하는 부담이 있어 고민했었지만~ 요금제까지 생각해서 계...  \n",
       "8   2019년 8월말 구매한 노트9의 2021년 4월 액정 수리, 8월초 메인보드 고장...  \n",
       "9   몇 년동안 사용한 핸드폰이 점점 이상이 생겨서 핸드폰을 구매하기 위해 여러 정보를 ...  \n",
       "10  문의드릴게 있어서 전화 드렸는데, 전화 연결이 잘 안되서 처음에 낙심하긴 했지만 친...  \n",
       "11  1번 : 예전 번호 기재\\n2번 : 예전 번호 기재\\n3번 : 정상 번호 기재\\n\\...  \n",
       "12  LG폰 쓰다가 이번에 새로 출시된 갤럭시 s21로 구매했어요. 사전구매예약해서 구매...  \n",
       "13  아이폰6s 5년 쓰고 갤럭시로 넘어왔습니다. 일단 폰이 크고 조작도 어렵네요.2년전...  \n",
       "14  스마트 폰이 출시되고 여러가지 브랜드들을 거쳐오면서 엘●폰에 정착했었었는데 사업에 ...  \n",
       "15  배송은 서울이라 전날저녁 주문했는데 다음날 저녁 10시에 받았어요.다른곳보다 훨씬 ...  \n",
       "16  원래 발송 예정일보다 하루 빨리 발송을 해주셔서 다행히 추석 연휴 시작하기 전에 받...  \n",
       "17  사이즈가 작은걸로 하고 싶어 고민하다가 갤럭시 s21로 주문했어요\\n6.2 인치라 ...  \n",
       "18  배송도 엄청 빠르고..본품만 주문한 거라 받으면 젤 먼저 케이스부터 사야지 했는데....  \n",
       "19  노트8에서 갈아탔는데, 성능차이가 엄청차이나네요.노트8도 제가 쓰기엔 부족하지 않지...  "
      ]
     },
     "execution_count": 34,
     "metadata": {},
     "output_type": "execute_result"
    }
   ],
   "source": [
    "url = 'https://search.shopping.naver.com/catalog/25604807522?fromWhere=BRANDSTORE&NaPm=ct%3Dl00a8rg8%7Cci%3Dd5e80971c9af4c31a1d51337e7abb8d64093bb0f%7Ctr%3Dbsc%7Csn%3D95694%7Chk%3D55b6182452775b5f73aa7dcd600734b36f68b16b'\n",
    "df = store(url)\n",
    "df"
   ]
  },
  {
   "cell_type": "code",
   "execution_count": null,
   "id": "12c80941",
   "metadata": {},
   "outputs": [],
   "source": []
  },
  {
   "cell_type": "code",
   "execution_count": null,
   "id": "0dfa1a80",
   "metadata": {},
   "outputs": [],
   "source": []
  },
  {
   "cell_type": "code",
   "execution_count": null,
   "id": "653d8336",
   "metadata": {},
   "outputs": [],
   "source": []
  },
  {
   "cell_type": "code",
   "execution_count": null,
   "id": "4a72d9ee",
   "metadata": {},
   "outputs": [],
   "source": []
  },
  {
   "cell_type": "code",
   "execution_count": null,
   "id": "0acad764",
   "metadata": {},
   "outputs": [],
   "source": []
  },
  {
   "cell_type": "code",
   "execution_count": 33,
   "id": "32eb4980",
   "metadata": {},
   "outputs": [],
   "source": [
    "def store(url):\n",
    "    driver = webdriver.Chrome()\n",
    "    #url = f\"https://search.shopping.naver.com/api/review?nvMid=25604807522&reviewType=ALL&sort=QUALITY&isNeedAggregation=N&isApplyFilter=N&page={page}&pageSize=20\"\n",
    "    url = 'https://search.shopping.naver.com/catalog/25604807522?fromWhere=BRANDSTORE&NaPm=ct%3Dl00a8rg8%7Cci%3Dd5e80971c9af4c31a1d51337e7abb8d64093bb0f%7Ctr%3Dbsc%7Csn%3D95694%7Chk%3D55b6182452775b5f73aa7dcd600734b36f68b16b'\n",
    "    driver.get(url)\n",
    "    time.sleep(5)\n",
    "    cur_page = 1\n",
    "    target_page = 3\n",
    "    delay = 2\n",
    "    time.sleep(4)\n",
    "    while cur_page <= target_page:\n",
    "        #time.sleep(4)\n",
    "        selector = \"#section_review > ul > li\"\n",
    "        elements = driver.find_elements_by_css_selector(selector)\n",
    "        datas = []\n",
    "        for element in elements:\n",
    "            datas.append({\n",
    "                \"rating\" : element.find_element_by_css_selector(\"span\").text,\n",
    "                \"purchase\" : element.find_element_by_css_selector(\"span:nth-child(2)\").text,\n",
    "                \"user\" : element.find_element_by_css_selector(\"span:nth-child(3)\").text,\n",
    "                \"title\" : element.find_element_by_css_selector(\"div > em\").text,\n",
    "                \"date\" : element.find_element_by_css_selector(\"span:nth-child(4)\").text,\n",
    "                \"content\" : element.find_element_by_css_selector(\"div > p\").text,\n",
    "            })\n",
    "        print(cur_page)\n",
    "        cur_page +=1\n",
    "        \n",
    "        WebDriverWait(driver, delay).until(EC.presence_of_element_located((By.CSS_SELECTOR, \"#section_review > div.pagination_pagination__2M9a4 > a:nth-child({})\".format(cur_page)))).click()\n",
    "        del elements\n",
    "        \n",
    "    driver.quit()\n",
    "    return pd.DataFrame(datas)"
   ]
  },
  {
   "cell_type": "code",
   "execution_count": null,
   "id": "cfd993fe",
   "metadata": {},
   "outputs": [],
   "source": []
  }
 ],
 "metadata": {
  "kernelspec": {
   "display_name": "Python 3",
   "language": "python",
   "name": "python3"
  },
  "language_info": {
   "codemirror_mode": {
    "name": "ipython",
    "version": 3
   },
   "file_extension": ".py",
   "mimetype": "text/x-python",
   "name": "python",
   "nbconvert_exporter": "python",
   "pygments_lexer": "ipython3",
   "version": "3.8.8"
  }
 },
 "nbformat": 4,
 "nbformat_minor": 5
}
