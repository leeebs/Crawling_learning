{
 "cells": [
  {
   "cell_type": "markdown",
   "id": "aeead73a",
   "metadata": {},
   "source": [
    "### 행정안전부 보도자료 데이터 수집\n",
    "- 정적페이지 데이터 수집 : html : bs, css-selector\n",
    "- post 방식\n",
    "- 여러 개의 페이지 데이터 수집"
   ]
  },
  {
   "cell_type": "code",
   "execution_count": 1,
   "id": "38cc103f",
   "metadata": {},
   "outputs": [],
   "source": [
    "import pandas as pd\n",
    "import requests\n",
    "from bs4 import BeautifulSoup"
   ]
  },
  {
   "cell_type": "markdown",
   "id": "112b8f83",
   "metadata": {},
   "source": [
    "### 1. 웹 서비스 분석 : url"
   ]
  },
  {
   "cell_type": "code",
   "execution_count": 4,
   "id": "6501bbc2",
   "metadata": {},
   "outputs": [],
   "source": [
    "page=3\n",
    "url = 'https://mois.go.kr/frt/bbs/type010/commonSelectBoardList.do?bbsId=BBSMSTR_000000000008'\n",
    "params = {\n",
    "    \"nttId\": \"0\",\n",
    "    \"bbsTyCode\": \"BBST03\",\n",
    "    \"bbsAttrbCode\": \"BBSA03\",\n",
    "    \"authFlag\": \"Y\",\n",
    "    \"pageIndex\": page,\n",
    "    \"cal_url\": \"/sym/cal/EgovNormalCalPopup.do\",\n",
    "    \"searchCnd\": \"0\",\n",
    "}"
   ]
  },
  {
   "cell_type": "markdown",
   "id": "672d2d44",
   "metadata": {},
   "source": [
    "### 2. request(url) > response : html"
   ]
  },
  {
   "cell_type": "code",
   "execution_count": 7,
   "id": "21f2b24d",
   "metadata": {},
   "outputs": [
    {
     "data": {
      "text/plain": [
       "<Response [200]>"
      ]
     },
     "execution_count": 7,
     "metadata": {},
     "output_type": "execute_result"
    }
   ],
   "source": [
    "response = requests.post(url, params)\n",
    "response"
   ]
  },
  {
   "cell_type": "markdown",
   "id": "a9596ba3",
   "metadata": {},
   "source": [
    "### 3. html(str) > bs_obj.select(css-selector) > text > DataFrame"
   ]
  },
  {
   "cell_type": "code",
   "execution_count": 8,
   "id": "5f61147f",
   "metadata": {},
   "outputs": [],
   "source": [
    "dom = BeautifulSoup(response.text, \"html.parser\")"
   ]
  },
  {
   "cell_type": "code",
   "execution_count": 10,
   "id": "08427f36",
   "metadata": {},
   "outputs": [],
   "source": [
    "# 게시글 리스트 데이터 선택 : 10개"
   ]
  },
  {
   "cell_type": "code",
   "execution_count": 35,
   "id": "f083f529",
   "metadata": {},
   "outputs": [
    {
     "data": {
      "text/plain": [
       "0"
      ]
     },
     "execution_count": 35,
     "metadata": {},
     "output_type": "execute_result"
    }
   ],
   "source": [
    "elements = dom.select(\"#print_area > div.table_wrap.type_01 > form > table > tbody > tr\")\n",
    "len(element)"
   ]
  },
  {
   "cell_type": "code",
   "execution_count": 13,
   "id": "9a71da6a",
   "metadata": {
    "collapsed": true
   },
   "outputs": [
    {
     "data": {
      "text/plain": [
       "<tr>\n",
       "<td class=\"res_hide\">\n",
       "\t\t\t\t\t\t\t\t12931\n",
       "\t\t\t\t\t\t\t</td>\n",
       "<td class=\"l\">\n",
       "<div class=\"wrap\">\n",
       "<a href=\"/frt/bbs/type010/commonSelectBoardArticle.do;jsessionid=B2UsCerEnVkMtHMWehvpj1H2.node20?bbsId=BBSMSTR_000000000008&amp;nttId=90455\" onclick=\"javascript:fn_egov_inqire_notice('90455', 'BBSMSTR_000000000008'); return false;\">사이버대학 성적·졸업증명서도 모바일 전자증명서로 발급한다 </a>\n",
       "</div>\n",
       "</td>\n",
       "<td class=\"res_hide\">\n",
       "<img alt=\"첨부파일\" src=\"/images/board/icon_file.gif;jsessionid=B2UsCerEnVkMtHMWehvpj1H2.node20\"/>\n",
       "</td>\n",
       "<td class=\"res_hide\">\n",
       "\t\t\t\t\t\t\t\t공공지능정책과\n",
       "\t\t\t\t\t\t\t</td>\n",
       "<td>\n",
       "\t\t\t\t\t\t\t\t2022.02.15.\n",
       "\t\t\t\t\t\t\t</td>\n",
       "<td class=\"res_hide\">\n",
       "\t\t\t\t\t\t\t\t812\n",
       "\t\t\t\t\t\t\t</td>\n",
       "</tr>"
      ]
     },
     "execution_count": 13,
     "metadata": {},
     "output_type": "execute_result"
    }
   ],
   "source": [
    "elements[0]"
   ]
  },
  {
   "cell_type": "code",
   "execution_count": null,
   "id": "f162aaa3",
   "metadata": {},
   "outputs": [],
   "source": [
    "# 각 데이터에서 필요한 정보 수집"
   ]
  },
  {
   "cell_type": "code",
   "execution_count": 19,
   "id": "d04ecba8",
   "metadata": {},
   "outputs": [
    {
     "data": {
      "text/plain": [
       "{'no': '12931',\n",
       " 'title': '사이버대학 성적·졸업증명서도 모바일 전자증명서로 발급한다',\n",
       " 'writer': '공공지능정책과',\n",
       " 'date': '2022.02.15.',\n",
       " 'pv': '812',\n",
       " 'link': 'https://mois.go.kr/frt/bbs/type010/commonSelectBoardArticle.do;jsessionid=B2UsCerEnVkMtHMWehvpj1H2.node20?bbsId=BBSMSTR_000000000008&nttId=90455'}"
      ]
     },
     "execution_count": 19,
     "metadata": {},
     "output_type": "execute_result"
    }
   ],
   "source": [
    "element = elements[0]\n",
    "\n",
    "data = {\n",
    "    \"no\" : element.select(\"td\")[0].text.strip(),\n",
    "    \"title\" : element.select(\"td\")[1].text.strip(),\n",
    "    \"writer\" : element.select(\"td\")[3].text.strip(),\n",
    "    \"date\" : element.select(\"td\")[4].text.strip(),\n",
    "    \"pv\" : element.select(\"td\")[5].text.strip(),\n",
    "    \"link\" : \"https://mois.go.kr\" + element.select(\"td\")[1].select_one('a').get('href'),\n",
    "}\n",
    "\n",
    "data"
   ]
  },
  {
   "cell_type": "code",
   "execution_count": 23,
   "id": "6ac8dc0f",
   "metadata": {},
   "outputs": [],
   "source": [
    "# [{row1}, {row2}]"
   ]
  },
  {
   "cell_type": "code",
   "execution_count": 24,
   "id": "d582a389",
   "metadata": {
    "collapsed": true
   },
   "outputs": [
    {
     "data": {
      "text/html": [
       "<div>\n",
       "<style scoped>\n",
       "    .dataframe tbody tr th:only-of-type {\n",
       "        vertical-align: middle;\n",
       "    }\n",
       "\n",
       "    .dataframe tbody tr th {\n",
       "        vertical-align: top;\n",
       "    }\n",
       "\n",
       "    .dataframe thead th {\n",
       "        text-align: right;\n",
       "    }\n",
       "</style>\n",
       "<table border=\"1\" class=\"dataframe\">\n",
       "  <thead>\n",
       "    <tr style=\"text-align: right;\">\n",
       "      <th></th>\n",
       "      <th>no</th>\n",
       "      <th>title</th>\n",
       "      <th>writer</th>\n",
       "      <th>date</th>\n",
       "      <th>pv</th>\n",
       "      <th>link</th>\n",
       "    </tr>\n",
       "  </thead>\n",
       "  <tbody>\n",
       "    <tr>\n",
       "      <th>0</th>\n",
       "      <td>12931</td>\n",
       "      <td>사이버대학 성적·졸업증명서도 모바일 전자증명서로 발급한다</td>\n",
       "      <td>공공지능정책과</td>\n",
       "      <td>2022.02.15.</td>\n",
       "      <td>812</td>\n",
       "      <td>https://mois.go.kr/frt/bbs/type010/commonSelec...</td>\n",
       "    </tr>\n",
       "    <tr>\n",
       "      <th>1</th>\n",
       "      <td>12930</td>\n",
       "      <td>2022 지방행정혁신, 주민이 체감하는 확실한 변화 만든다</td>\n",
       "      <td>지역사회혁신정책과</td>\n",
       "      <td>2022.02.15.</td>\n",
       "      <td>677</td>\n",
       "      <td>https://mois.go.kr/frt/bbs/type010/commonSelec...</td>\n",
       "    </tr>\n",
       "    <tr>\n",
       "      <th>2</th>\n",
       "      <td>12929</td>\n",
       "      <td>적극행정을 일상적 공직문화로 자리매김하여 국민이 현장에서 체감하는 성과를 창출하겠습니다</td>\n",
       "      <td>지역사회혁신정책과</td>\n",
       "      <td>2022.02.15.</td>\n",
       "      <td>557</td>\n",
       "      <td>https://mois.go.kr/frt/bbs/type010/commonSelec...</td>\n",
       "    </tr>\n",
       "    <tr>\n",
       "      <th>3</th>\n",
       "      <td>12928</td>\n",
       "      <td>'가명정보 결합전문기관 실무협의회' 출범</td>\n",
       "      <td>공공데이터정책과</td>\n",
       "      <td>2022.02.14.</td>\n",
       "      <td>647</td>\n",
       "      <td>https://mois.go.kr/frt/bbs/type010/commonSelec...</td>\n",
       "    </tr>\n",
       "    <tr>\n",
       "      <th>4</th>\n",
       "      <td>12927</td>\n",
       "      <td>코로나19로 지친 국민들에게 지방세 지원을 강화한다</td>\n",
       "      <td>지방세정책과</td>\n",
       "      <td>2022.02.14.</td>\n",
       "      <td>945</td>\n",
       "      <td>https://mois.go.kr/frt/bbs/type010/commonSelec...</td>\n",
       "    </tr>\n",
       "  </tbody>\n",
       "</table>\n",
       "</div>"
      ],
      "text/plain": [
       "      no                                             title     writer  \\\n",
       "0  12931                   사이버대학 성적·졸업증명서도 모바일 전자증명서로 발급한다    공공지능정책과   \n",
       "1  12930                  2022 지방행정혁신, 주민이 체감하는 확실한 변화 만든다  지역사회혁신정책과   \n",
       "2  12929  적극행정을 일상적 공직문화로 자리매김하여 국민이 현장에서 체감하는 성과를 창출하겠습니다  지역사회혁신정책과   \n",
       "3  12928                            '가명정보 결합전문기관 실무협의회' 출범   공공데이터정책과   \n",
       "4  12927                      코로나19로 지친 국민들에게 지방세 지원을 강화한다     지방세정책과   \n",
       "\n",
       "          date   pv                                               link  \n",
       "0  2022.02.15.  812  https://mois.go.kr/frt/bbs/type010/commonSelec...  \n",
       "1  2022.02.15.  677  https://mois.go.kr/frt/bbs/type010/commonSelec...  \n",
       "2  2022.02.15.  557  https://mois.go.kr/frt/bbs/type010/commonSelec...  \n",
       "3  2022.02.14.  647  https://mois.go.kr/frt/bbs/type010/commonSelec...  \n",
       "4  2022.02.14.  945  https://mois.go.kr/frt/bbs/type010/commonSelec...  "
      ]
     },
     "execution_count": 24,
     "metadata": {},
     "output_type": "execute_result"
    }
   ],
   "source": [
    "datas = []\n",
    "for element in elements:\n",
    "    datas.append({\n",
    "        \"no\" : element.select(\"td\")[0].text.strip(),\n",
    "        \"title\" : element.select(\"td\")[1].text.strip(),\n",
    "        \"writer\" : element.select(\"td\")[3].text.strip(),\n",
    "        \"date\" : element.select(\"td\")[4].text.strip(),\n",
    "        \"pv\" : element.select(\"td\")[5].text.strip(),\n",
    "        \"link\" : \"https://mois.go.kr\" + element.select(\"td\")[1].select_one('a').get('href'),\n",
    "    })\n",
    "    \n",
    "datas\n",
    "\n",
    "df = pd.DataFrame(datas)\n",
    "df.head()"
   ]
  },
  {
   "cell_type": "markdown",
   "id": "426ec591",
   "metadata": {},
   "source": [
    "### 4. function : params : page"
   ]
  },
  {
   "cell_type": "code",
   "execution_count": 25,
   "id": "872b1622",
   "metadata": {},
   "outputs": [],
   "source": [
    "def mois(page):\n",
    "    url = 'https://mois.go.kr/frt/bbs/type010/commonSelectBoardList.do?bbsId=BBSMSTR_000000000008'\n",
    "    params = {\n",
    "        \"nttId\": \"0\",\n",
    "        \"bbsTyCode\": \"BBST03\",\n",
    "        \"bbsAttrbCode\": \"BBSA03\",\n",
    "        \"authFlag\": \"Y\",\n",
    "        \"pageIndex\": page,\n",
    "        \"cal_url\": \"/sym/cal/EgovNormalCalPopup.do\",\n",
    "        \"searchCnd\": \"0\",\n",
    "    }\n",
    "    response = requests.post(url, params)\n",
    "    dom = BeautifulSoup(response.text, \"html.parser\")\n",
    "    elements = dom.select(\"#print_area > div.table_wrap.type_01 > form > table > tbody > tr\")\n",
    "    datas = []\n",
    "    for element in elements:\n",
    "        datas.append({\n",
    "            \"no\" : element.select(\"td\")[0].text.strip(),\n",
    "            \"title\" : element.select(\"td\")[1].text.strip(),\n",
    "            \"writer\" : element.select(\"td\")[3].text.strip(),\n",
    "            \"date\" : element.select(\"td\")[4].text.strip(),\n",
    "            \"pv\" : element.select(\"td\")[5].text.strip(),\n",
    "            \"link\" : \"https://mois.go.kr\" + element.select(\"td\")[1].select_one('a').get('href'),\n",
    "        })\n",
    "    return pd.DataFrame(datas)"
   ]
  },
  {
   "cell_type": "code",
   "execution_count": 26,
   "id": "05113f55",
   "metadata": {},
   "outputs": [
    {
     "data": {
      "text/html": [
       "<div>\n",
       "<style scoped>\n",
       "    .dataframe tbody tr th:only-of-type {\n",
       "        vertical-align: middle;\n",
       "    }\n",
       "\n",
       "    .dataframe tbody tr th {\n",
       "        vertical-align: top;\n",
       "    }\n",
       "\n",
       "    .dataframe thead th {\n",
       "        text-align: right;\n",
       "    }\n",
       "</style>\n",
       "<table border=\"1\" class=\"dataframe\">\n",
       "  <thead>\n",
       "    <tr style=\"text-align: right;\">\n",
       "      <th></th>\n",
       "      <th>no</th>\n",
       "      <th>title</th>\n",
       "      <th>writer</th>\n",
       "      <th>date</th>\n",
       "      <th>pv</th>\n",
       "      <th>link</th>\n",
       "    </tr>\n",
       "  </thead>\n",
       "  <tbody>\n",
       "    <tr>\n",
       "      <th>0</th>\n",
       "      <td>12891</td>\n",
       "      <td>정부청사, 중대재해처벌법 시행 앞두고 맞춤형 산업안전 강화 조치 시행</td>\n",
       "      <td>노사후생과</td>\n",
       "      <td>2022.01.25.</td>\n",
       "      <td>1438</td>\n",
       "      <td>https://mois.go.kr/frt/bbs/type010/commonSelec...</td>\n",
       "    </tr>\n",
       "    <tr>\n",
       "      <th>1</th>\n",
       "      <td>12890</td>\n",
       "      <td>행안부, 현장에 강한 실전형 '지역 재난안전관리자' 양성</td>\n",
       "      <td>재난안전교육과</td>\n",
       "      <td>2022.01.25.</td>\n",
       "      <td>1266</td>\n",
       "      <td>https://mois.go.kr/frt/bbs/type010/commonSelec...</td>\n",
       "    </tr>\n",
       "    <tr>\n",
       "      <th>2</th>\n",
       "      <td>12889</td>\n",
       "      <td>설명절 무료 개방 공공주차장 14,843개, '공유누리'에서 확인하세요</td>\n",
       "      <td>지역디지털서비스과</td>\n",
       "      <td>2022.01.25.</td>\n",
       "      <td>1380</td>\n",
       "      <td>https://mois.go.kr/frt/bbs/type010/commonSelec...</td>\n",
       "    </tr>\n",
       "    <tr>\n",
       "      <th>3</th>\n",
       "      <td>12888</td>\n",
       "      <td>제2차 지방일괄이양 추진 12개 법안, 국무회의 의결</td>\n",
       "      <td>자치분권지원과</td>\n",
       "      <td>2022.01.25.</td>\n",
       "      <td>1381</td>\n",
       "      <td>https://mois.go.kr/frt/bbs/type010/commonSelec...</td>\n",
       "    </tr>\n",
       "    <tr>\n",
       "      <th>4</th>\n",
       "      <td>12887</td>\n",
       "      <td>국민 삶의 질을 높이는 성과를 창출한 정부혁신 우수기관 발표</td>\n",
       "      <td>혁신기획과</td>\n",
       "      <td>2022.01.25.</td>\n",
       "      <td>1305</td>\n",
       "      <td>https://mois.go.kr/frt/bbs/type010/commonSelec...</td>\n",
       "    </tr>\n",
       "    <tr>\n",
       "      <th>5</th>\n",
       "      <td>12886</td>\n",
       "      <td>자치분권위원회 김순은 위원장 연임</td>\n",
       "      <td>홍보담당관</td>\n",
       "      <td>2022.01.24.</td>\n",
       "      <td>1175</td>\n",
       "      <td>https://mois.go.kr/frt/bbs/type010/commonSelec...</td>\n",
       "    </tr>\n",
       "    <tr>\n",
       "      <th>6</th>\n",
       "      <td>12885</td>\n",
       "      <td>2022년 정부청사는 이렇게 달라집니다</td>\n",
       "      <td>관리총괄과</td>\n",
       "      <td>2022.01.24.</td>\n",
       "      <td>1363</td>\n",
       "      <td>https://mois.go.kr/frt/bbs/type010/commonSelec...</td>\n",
       "    </tr>\n",
       "    <tr>\n",
       "      <th>7</th>\n",
       "      <td>12884</td>\n",
       "      <td>적극행정으로 지역경제 살리고 쓰레기 매립지 수목원으로 바꿨다</td>\n",
       "      <td>지역사회혁신정책과</td>\n",
       "      <td>2022.01.24.</td>\n",
       "      <td>1310</td>\n",
       "      <td>https://mois.go.kr/frt/bbs/type010/commonSelec...</td>\n",
       "    </tr>\n",
       "    <tr>\n",
       "      <th>8</th>\n",
       "      <td>12883</td>\n",
       "      <td>정부 과천청사관리소, 「상호 존중의 날」 행사 개최</td>\n",
       "      <td>관리과</td>\n",
       "      <td>2022.01.24.</td>\n",
       "      <td>1166</td>\n",
       "      <td>https://mois.go.kr/frt/bbs/type010/commonSelec...</td>\n",
       "    </tr>\n",
       "    <tr>\n",
       "      <th>9</th>\n",
       "      <td>12882</td>\n",
       "      <td>우수 재난안전제품 온라인으로 인증 신청하세요!</td>\n",
       "      <td>재난안전산업과</td>\n",
       "      <td>2022.01.23.</td>\n",
       "      <td>1615</td>\n",
       "      <td>https://mois.go.kr/frt/bbs/type010/commonSelec...</td>\n",
       "    </tr>\n",
       "  </tbody>\n",
       "</table>\n",
       "</div>"
      ],
      "text/plain": [
       "      no                                    title     writer         date  \\\n",
       "0  12891   정부청사, 중대재해처벌법 시행 앞두고 맞춤형 산업안전 강화 조치 시행      노사후생과  2022.01.25.   \n",
       "1  12890          행안부, 현장에 강한 실전형 '지역 재난안전관리자' 양성    재난안전교육과  2022.01.25.   \n",
       "2  12889  설명절 무료 개방 공공주차장 14,843개, '공유누리'에서 확인하세요  지역디지털서비스과  2022.01.25.   \n",
       "3  12888            제2차 지방일괄이양 추진 12개 법안, 국무회의 의결    자치분권지원과  2022.01.25.   \n",
       "4  12887        국민 삶의 질을 높이는 성과를 창출한 정부혁신 우수기관 발표      혁신기획과  2022.01.25.   \n",
       "5  12886                       자치분권위원회 김순은 위원장 연임      홍보담당관  2022.01.24.   \n",
       "6  12885                    2022년 정부청사는 이렇게 달라집니다      관리총괄과  2022.01.24.   \n",
       "7  12884        적극행정으로 지역경제 살리고 쓰레기 매립지 수목원으로 바꿨다  지역사회혁신정책과  2022.01.24.   \n",
       "8  12883             정부 과천청사관리소, 「상호 존중의 날」 행사 개최        관리과  2022.01.24.   \n",
       "9  12882                우수 재난안전제품 온라인으로 인증 신청하세요!    재난안전산업과  2022.01.23.   \n",
       "\n",
       "     pv                                               link  \n",
       "0  1438  https://mois.go.kr/frt/bbs/type010/commonSelec...  \n",
       "1  1266  https://mois.go.kr/frt/bbs/type010/commonSelec...  \n",
       "2  1380  https://mois.go.kr/frt/bbs/type010/commonSelec...  \n",
       "3  1381  https://mois.go.kr/frt/bbs/type010/commonSelec...  \n",
       "4  1305  https://mois.go.kr/frt/bbs/type010/commonSelec...  \n",
       "5  1175  https://mois.go.kr/frt/bbs/type010/commonSelec...  \n",
       "6  1363  https://mois.go.kr/frt/bbs/type010/commonSelec...  \n",
       "7  1310  https://mois.go.kr/frt/bbs/type010/commonSelec...  \n",
       "8  1166  https://mois.go.kr/frt/bbs/type010/commonSelec...  \n",
       "9  1615  https://mois.go.kr/frt/bbs/type010/commonSelec...  "
      ]
     },
     "execution_count": 26,
     "metadata": {},
     "output_type": "execute_result"
    }
   ],
   "source": [
    "page = 7\n",
    "mois(page)"
   ]
  },
  {
   "cell_type": "markdown",
   "id": "f9789878",
   "metadata": {},
   "source": [
    "### 5. 여러페이지 수집"
   ]
  },
  {
   "cell_type": "code",
   "execution_count": 28,
   "id": "d092c4db",
   "metadata": {},
   "outputs": [
    {
     "name": "stdout",
     "output_type": "stream",
     "text": [
      "1 2 3 "
     ]
    }
   ],
   "source": [
    "dfs = []\n",
    "for page in range(1, 4):\n",
    "    print(page, end=' ')\n",
    "    dfs.append(mois(page))"
   ]
  },
  {
   "cell_type": "code",
   "execution_count": 31,
   "id": "340eda1c",
   "metadata": {},
   "outputs": [],
   "source": [
    "result_df = pd.concat(dfs, ignore_index=True)"
   ]
  },
  {
   "cell_type": "code",
   "execution_count": 32,
   "id": "16c6fc96",
   "metadata": {},
   "outputs": [
    {
     "data": {
      "text/html": [
       "<div>\n",
       "<style scoped>\n",
       "    .dataframe tbody tr th:only-of-type {\n",
       "        vertical-align: middle;\n",
       "    }\n",
       "\n",
       "    .dataframe tbody tr th {\n",
       "        vertical-align: top;\n",
       "    }\n",
       "\n",
       "    .dataframe thead th {\n",
       "        text-align: right;\n",
       "    }\n",
       "</style>\n",
       "<table border=\"1\" class=\"dataframe\">\n",
       "  <thead>\n",
       "    <tr style=\"text-align: right;\">\n",
       "      <th></th>\n",
       "      <th>no</th>\n",
       "      <th>title</th>\n",
       "      <th>writer</th>\n",
       "      <th>date</th>\n",
       "      <th>pv</th>\n",
       "      <th>link</th>\n",
       "    </tr>\n",
       "  </thead>\n",
       "  <tbody>\n",
       "    <tr>\n",
       "      <th>28</th>\n",
       "      <td>12923</td>\n",
       "      <td>스마트워크센터 밀집현상 해소를 위해 서울역 2호점 추가 개소</td>\n",
       "      <td>스마트행정기반과</td>\n",
       "      <td>2022.02.10.</td>\n",
       "      <td>1044</td>\n",
       "      <td>https://mois.go.kr/frt/bbs/type010/commonSelec...</td>\n",
       "    </tr>\n",
       "    <tr>\n",
       "      <th>29</th>\n",
       "      <td>12922</td>\n",
       "      <td>2022년 지방규제, 지역활력 제고에 초점 맞추기로</td>\n",
       "      <td>지방규제혁신과</td>\n",
       "      <td>2022.02.10.</td>\n",
       "      <td>1122</td>\n",
       "      <td>https://mois.go.kr/frt/bbs/type010/commonSelec...</td>\n",
       "    </tr>\n",
       "  </tbody>\n",
       "</table>\n",
       "</div>"
      ],
      "text/plain": [
       "       no                              title    writer         date    pv  \\\n",
       "28  12923  스마트워크센터 밀집현상 해소를 위해 서울역 2호점 추가 개소  스마트행정기반과  2022.02.10.  1044   \n",
       "29  12922       2022년 지방규제, 지역활력 제고에 초점 맞추기로   지방규제혁신과  2022.02.10.  1122   \n",
       "\n",
       "                                                 link  \n",
       "28  https://mois.go.kr/frt/bbs/type010/commonSelec...  \n",
       "29  https://mois.go.kr/frt/bbs/type010/commonSelec...  "
      ]
     },
     "execution_count": 32,
     "metadata": {},
     "output_type": "execute_result"
    }
   ],
   "source": [
    "result_df.tail(2)"
   ]
  },
  {
   "cell_type": "code",
   "execution_count": null,
   "id": "1ab09847",
   "metadata": {},
   "outputs": [],
   "source": []
  }
 ],
 "metadata": {
  "kernelspec": {
   "display_name": "Python 3",
   "language": "python",
   "name": "python3"
  },
  "language_info": {
   "codemirror_mode": {
    "name": "ipython",
    "version": 3
   },
   "file_extension": ".py",
   "mimetype": "text/x-python",
   "name": "python",
   "nbconvert_exporter": "python",
   "pygments_lexer": "ipython3",
   "version": "3.8.8"
  }
 },
 "nbformat": 4,
 "nbformat_minor": 5
}
