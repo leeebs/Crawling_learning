{
 "cells": [
  {
   "cell_type": "markdown",
   "id": "ab3db65b",
   "metadata": {},
   "source": [
    " ### 웹 크롤링 방법\n",
    " - 동적페이지 : URL의 변경 없이 페이지의 내용이 변경 : json\n",
    " - 정적페이지 : URL이 변경 되면서 페이지의 내용이 변경 : HTML"
   ]
  },
  {
   "cell_type": "code",
   "execution_count": 1,
   "id": "43c551cf",
   "metadata": {},
   "outputs": [],
   "source": [
    "import pandas as pd\n",
    "import requests # 서버 쪽으로 데이터를 요청하고 가져오는 역함"
   ]
  },
  {
   "cell_type": "markdown",
   "id": "76c58085",
   "metadata": {},
   "source": [
    "### 웹 크롤링 절차\n",
    "#### 1. 웹 서비스 분석 : 개발자 도구, URL을 알아내는 과정\n",
    "#### 2. 서버에 데이터 요청 : request(URL) -> response(JSON)-딕셔너리나 리스트 포맷 타입은 Str\n",
    "#### 3. JSON(str) -> Parsing -> dict, list 형식으로 만들기 -> DataFrame 변환"
   ]
  },
  {
   "cell_type": "markdown",
   "id": "53085825",
   "metadata": {},
   "source": [
    "### 네이버 주가 데이터 수집\n",
    "- 동적페이지 : JSON\n",
    "- PC 페이지가 복잡하면 모바일 페이지에서 수집"
   ]
  },
  {
   "cell_type": "markdown",
   "id": "2c62bdbc",
   "metadata": {},
   "source": [
    "### 1. 웹서비스 분석"
   ]
  },
  {
   "cell_type": "code",
   "execution_count": 37,
   "id": "1a128867",
   "metadata": {},
   "outputs": [],
   "source": [
    "page_size, page = 20, 1 # size가 60개로 제한됨 네이버가 그렇게 만듦..\n",
    "url = f'https://m.stock.naver.com/api/index/KOSPI/price?pageSize={page_size}&page={page}'"
   ]
  },
  {
   "cell_type": "markdown",
   "id": "92efeb77",
   "metadata": {},
   "source": [
    "### 2. 서버에 데이터 요청"
   ]
  },
  {
   "cell_type": "code",
   "execution_count": 30,
   "id": "2417cb36",
   "metadata": {},
   "outputs": [
    {
     "data": {
      "text/plain": [
       "<Response [200]>"
      ]
     },
     "execution_count": 30,
     "metadata": {},
     "output_type": "execute_result"
    }
   ],
   "source": [
    "response = requests.get(url)\n",
    "response\n",
    "# 성공 200 실패 400, 500"
   ]
  },
  {
   "cell_type": "code",
   "execution_count": 31,
   "id": "990ea37b",
   "metadata": {},
   "outputs": [
    {
     "data": {
      "text/plain": [
       "'[{\"localTradedAt\":\"2022-02-21\",\"closePrice\":\"2,728.02\",\"compareToPreviousClosePrice\":\"-16.50\",\"compareToPreviousPrice\":{\"code\":\"5\",\"text\":\"하락\",\"name\":\"FALLING\"},\"fluctuationsRatio\":\"-0.60\",\"openPrice\"'"
      ]
     },
     "execution_count": 31,
     "metadata": {},
     "output_type": "execute_result"
    }
   ],
   "source": [
    "response.text[:200]"
   ]
  },
  {
   "cell_type": "markdown",
   "id": "00dba998",
   "metadata": {},
   "source": [
    "### 3. 딕셔너리, 리스트 변환 및 데이터프레임 변환"
   ]
  },
  {
   "cell_type": "code",
   "execution_count": 32,
   "id": "4a43506b",
   "metadata": {},
   "outputs": [
    {
     "data": {
      "text/plain": [
       "list"
      ]
     },
     "execution_count": 32,
     "metadata": {},
     "output_type": "execute_result"
    }
   ],
   "source": [
    "datas = response.json()\n",
    "type(datas)"
   ]
  },
  {
   "cell_type": "code",
   "execution_count": 33,
   "id": "44039376",
   "metadata": {},
   "outputs": [
    {
     "data": {
      "text/html": [
       "<div>\n",
       "<style scoped>\n",
       "    .dataframe tbody tr th:only-of-type {\n",
       "        vertical-align: middle;\n",
       "    }\n",
       "\n",
       "    .dataframe tbody tr th {\n",
       "        vertical-align: top;\n",
       "    }\n",
       "\n",
       "    .dataframe thead th {\n",
       "        text-align: right;\n",
       "    }\n",
       "</style>\n",
       "<table border=\"1\" class=\"dataframe\">\n",
       "  <thead>\n",
       "    <tr style=\"text-align: right;\">\n",
       "      <th></th>\n",
       "      <th>localTradedAt</th>\n",
       "      <th>closePrice</th>\n",
       "      <th>compareToPreviousClosePrice</th>\n",
       "      <th>compareToPreviousPrice</th>\n",
       "      <th>fluctuationsRatio</th>\n",
       "      <th>openPrice</th>\n",
       "      <th>highPrice</th>\n",
       "      <th>lowPrice</th>\n",
       "    </tr>\n",
       "  </thead>\n",
       "  <tbody>\n",
       "    <tr>\n",
       "      <th>0</th>\n",
       "      <td>2022-02-21</td>\n",
       "      <td>2,728.02</td>\n",
       "      <td>-16.50</td>\n",
       "      <td>{'code': '5', 'text': '하락', 'name': 'FALLING'}</td>\n",
       "      <td>-0.60</td>\n",
       "      <td>2,706.65</td>\n",
       "      <td>2,734.53</td>\n",
       "      <td>2,694.90</td>\n",
       "    </tr>\n",
       "    <tr>\n",
       "      <th>1</th>\n",
       "      <td>2022-02-18</td>\n",
       "      <td>2,744.52</td>\n",
       "      <td>0.43</td>\n",
       "      <td>{'code': '2', 'text': '상승', 'name': 'RISING'}</td>\n",
       "      <td>0.02</td>\n",
       "      <td>2,714.52</td>\n",
       "      <td>2,747.08</td>\n",
       "      <td>2,711.88</td>\n",
       "    </tr>\n",
       "    <tr>\n",
       "      <th>2</th>\n",
       "      <td>2022-02-17</td>\n",
       "      <td>2,744.09</td>\n",
       "      <td>14.41</td>\n",
       "      <td>{'code': '2', 'text': '상승', 'name': 'RISING'}</td>\n",
       "      <td>0.53</td>\n",
       "      <td>2,735.11</td>\n",
       "      <td>2,770.66</td>\n",
       "      <td>2,711.99</td>\n",
       "    </tr>\n",
       "    <tr>\n",
       "      <th>3</th>\n",
       "      <td>2022-02-16</td>\n",
       "      <td>2,729.68</td>\n",
       "      <td>53.14</td>\n",
       "      <td>{'code': '2', 'text': '상승', 'name': 'RISING'}</td>\n",
       "      <td>1.99</td>\n",
       "      <td>2,719.61</td>\n",
       "      <td>2,730.43</td>\n",
       "      <td>2,711.34</td>\n",
       "    </tr>\n",
       "    <tr>\n",
       "      <th>4</th>\n",
       "      <td>2022-02-15</td>\n",
       "      <td>2,676.54</td>\n",
       "      <td>-27.94</td>\n",
       "      <td>{'code': '5', 'text': '하락', 'name': 'FALLING'}</td>\n",
       "      <td>-1.03</td>\n",
       "      <td>2,712.45</td>\n",
       "      <td>2,716.45</td>\n",
       "      <td>2,665.47</td>\n",
       "    </tr>\n",
       "  </tbody>\n",
       "</table>\n",
       "</div>"
      ],
      "text/plain": [
       "  localTradedAt closePrice compareToPreviousClosePrice  \\\n",
       "0    2022-02-21   2,728.02                      -16.50   \n",
       "1    2022-02-18   2,744.52                        0.43   \n",
       "2    2022-02-17   2,744.09                       14.41   \n",
       "3    2022-02-16   2,729.68                       53.14   \n",
       "4    2022-02-15   2,676.54                      -27.94   \n",
       "\n",
       "                           compareToPreviousPrice fluctuationsRatio openPrice  \\\n",
       "0  {'code': '5', 'text': '하락', 'name': 'FALLING'}             -0.60  2,706.65   \n",
       "1   {'code': '2', 'text': '상승', 'name': 'RISING'}              0.02  2,714.52   \n",
       "2   {'code': '2', 'text': '상승', 'name': 'RISING'}              0.53  2,735.11   \n",
       "3   {'code': '2', 'text': '상승', 'name': 'RISING'}              1.99  2,719.61   \n",
       "4  {'code': '5', 'text': '하락', 'name': 'FALLING'}             -1.03  2,712.45   \n",
       "\n",
       "  highPrice  lowPrice  \n",
       "0  2,734.53  2,694.90  \n",
       "1  2,747.08  2,711.88  \n",
       "2  2,770.66  2,711.99  \n",
       "3  2,730.43  2,711.34  \n",
       "4  2,716.45  2,665.47  "
      ]
     },
     "execution_count": 33,
     "metadata": {},
     "output_type": "execute_result"
    }
   ],
   "source": [
    "kospi_df = pd.DataFrame(datas)\n",
    "kospi_df.head()"
   ]
  },
  {
   "cell_type": "code",
   "execution_count": 34,
   "id": "7ec14922",
   "metadata": {},
   "outputs": [
    {
     "data": {
      "text/html": [
       "<div>\n",
       "<style scoped>\n",
       "    .dataframe tbody tr th:only-of-type {\n",
       "        vertical-align: middle;\n",
       "    }\n",
       "\n",
       "    .dataframe tbody tr th {\n",
       "        vertical-align: top;\n",
       "    }\n",
       "\n",
       "    .dataframe thead th {\n",
       "        text-align: right;\n",
       "    }\n",
       "</style>\n",
       "<table border=\"1\" class=\"dataframe\">\n",
       "  <thead>\n",
       "    <tr style=\"text-align: right;\">\n",
       "      <th></th>\n",
       "      <th>localTradedAt</th>\n",
       "      <th>closePrice</th>\n",
       "    </tr>\n",
       "  </thead>\n",
       "  <tbody>\n",
       "    <tr>\n",
       "      <th>0</th>\n",
       "      <td>2022-02-21</td>\n",
       "      <td>2,728.02</td>\n",
       "    </tr>\n",
       "    <tr>\n",
       "      <th>1</th>\n",
       "      <td>2022-02-18</td>\n",
       "      <td>2,744.52</td>\n",
       "    </tr>\n",
       "    <tr>\n",
       "      <th>2</th>\n",
       "      <td>2022-02-17</td>\n",
       "      <td>2,744.09</td>\n",
       "    </tr>\n",
       "    <tr>\n",
       "      <th>3</th>\n",
       "      <td>2022-02-16</td>\n",
       "      <td>2,729.68</td>\n",
       "    </tr>\n",
       "    <tr>\n",
       "      <th>4</th>\n",
       "      <td>2022-02-15</td>\n",
       "      <td>2,676.54</td>\n",
       "    </tr>\n",
       "  </tbody>\n",
       "</table>\n",
       "</div>"
      ],
      "text/plain": [
       "  localTradedAt closePrice\n",
       "0    2022-02-21   2,728.02\n",
       "1    2022-02-18   2,744.52\n",
       "2    2022-02-17   2,744.09\n",
       "3    2022-02-16   2,729.68\n",
       "4    2022-02-15   2,676.54"
      ]
     },
     "execution_count": 34,
     "metadata": {},
     "output_type": "execute_result"
    }
   ],
   "source": [
    "columns = ['localTradedAt', 'closePrice']\n",
    "kospi_df = pd.DataFrame(datas)[columns]\n",
    "kospi_df.head()"
   ]
  },
  {
   "cell_type": "code",
   "execution_count": 35,
   "id": "0cc73e7b",
   "metadata": {},
   "outputs": [
    {
     "data": {
      "text/plain": [
       "20"
      ]
     },
     "execution_count": 35,
     "metadata": {},
     "output_type": "execute_result"
    }
   ],
   "source": [
    "len(kospi_df)"
   ]
  },
  {
   "cell_type": "markdown",
   "id": "9a976ba3",
   "metadata": {},
   "source": [
    "### 4. 함수로 만들기"
   ]
  },
  {
   "cell_type": "code",
   "execution_count": 65,
   "id": "0fc450a5",
   "metadata": {},
   "outputs": [],
   "source": [
    "def stock_price(code=\"KOSPI\", page_size=20, page=1): # 페이지가 낮을수록 가장 최근 데이터\n",
    "    \"\"\"\n",
    "    params : code(KOSPI or KOSDAQ)\n",
    "    \"\"\"\n",
    "    url = f'https://m.stock.naver.com/api/index/{code}/price?pageSize={page_size}&page={page}'\n",
    "    response = requests.get(url)\n",
    "    datas = response.json()\n",
    "    return pd.DataFrame(datas)[['localTradedAt', 'closePrice']]"
   ]
  },
  {
   "cell_type": "code",
   "execution_count": 56,
   "id": "269e30ba",
   "metadata": {},
   "outputs": [
    {
     "data": {
      "text/html": [
       "<div>\n",
       "<style scoped>\n",
       "    .dataframe tbody tr th:only-of-type {\n",
       "        vertical-align: middle;\n",
       "    }\n",
       "\n",
       "    .dataframe tbody tr th {\n",
       "        vertical-align: top;\n",
       "    }\n",
       "\n",
       "    .dataframe thead th {\n",
       "        text-align: right;\n",
       "    }\n",
       "</style>\n",
       "<table border=\"1\" class=\"dataframe\">\n",
       "  <thead>\n",
       "    <tr style=\"text-align: right;\">\n",
       "      <th></th>\n",
       "      <th>localTradedAt</th>\n",
       "      <th>closePrice</th>\n",
       "    </tr>\n",
       "  </thead>\n",
       "  <tbody>\n",
       "    <tr>\n",
       "      <th>0</th>\n",
       "      <td>2022-02-21</td>\n",
       "      <td>2,730.78</td>\n",
       "    </tr>\n",
       "    <tr>\n",
       "      <th>1</th>\n",
       "      <td>2022-02-18</td>\n",
       "      <td>2,744.52</td>\n",
       "    </tr>\n",
       "    <tr>\n",
       "      <th>2</th>\n",
       "      <td>2022-02-17</td>\n",
       "      <td>2,744.09</td>\n",
       "    </tr>\n",
       "    <tr>\n",
       "      <th>3</th>\n",
       "      <td>2022-02-16</td>\n",
       "      <td>2,729.68</td>\n",
       "    </tr>\n",
       "    <tr>\n",
       "      <th>4</th>\n",
       "      <td>2022-02-15</td>\n",
       "      <td>2,676.54</td>\n",
       "    </tr>\n",
       "  </tbody>\n",
       "</table>\n",
       "</div>"
      ],
      "text/plain": [
       "  localTradedAt closePrice\n",
       "0    2022-02-21   2,730.78\n",
       "1    2022-02-18   2,744.52\n",
       "2    2022-02-17   2,744.09\n",
       "3    2022-02-16   2,729.68\n",
       "4    2022-02-15   2,676.54"
      ]
     },
     "execution_count": 56,
     "metadata": {},
     "output_type": "execute_result"
    }
   ],
   "source": [
    "df = stock_price()\n",
    "df.head()"
   ]
  },
  {
   "cell_type": "code",
   "execution_count": 58,
   "id": "d53cb900",
   "metadata": {},
   "outputs": [
    {
     "data": {
      "text/html": [
       "<div>\n",
       "<style scoped>\n",
       "    .dataframe tbody tr th:only-of-type {\n",
       "        vertical-align: middle;\n",
       "    }\n",
       "\n",
       "    .dataframe tbody tr th {\n",
       "        vertical-align: top;\n",
       "    }\n",
       "\n",
       "    .dataframe thead th {\n",
       "        text-align: right;\n",
       "    }\n",
       "</style>\n",
       "<table border=\"1\" class=\"dataframe\">\n",
       "  <thead>\n",
       "    <tr style=\"text-align: right;\">\n",
       "      <th></th>\n",
       "      <th>localTradedAt</th>\n",
       "      <th>closePrice</th>\n",
       "    </tr>\n",
       "  </thead>\n",
       "  <tbody>\n",
       "    <tr>\n",
       "      <th>0</th>\n",
       "      <td>2022-02-21</td>\n",
       "      <td>880.56</td>\n",
       "    </tr>\n",
       "    <tr>\n",
       "      <th>1</th>\n",
       "      <td>2022-02-18</td>\n",
       "      <td>881.71</td>\n",
       "    </tr>\n",
       "    <tr>\n",
       "      <th>2</th>\n",
       "      <td>2022-02-17</td>\n",
       "      <td>874.22</td>\n",
       "    </tr>\n",
       "    <tr>\n",
       "      <th>3</th>\n",
       "      <td>2022-02-16</td>\n",
       "      <td>878.15</td>\n",
       "    </tr>\n",
       "    <tr>\n",
       "      <th>4</th>\n",
       "      <td>2022-02-15</td>\n",
       "      <td>839.92</td>\n",
       "    </tr>\n",
       "  </tbody>\n",
       "</table>\n",
       "</div>"
      ],
      "text/plain": [
       "  localTradedAt closePrice\n",
       "0    2022-02-21     880.56\n",
       "1    2022-02-18     881.71\n",
       "2    2022-02-17     874.22\n",
       "3    2022-02-16     878.15\n",
       "4    2022-02-15     839.92"
      ]
     },
     "execution_count": 58,
     "metadata": {},
     "output_type": "execute_result"
    }
   ],
   "source": [
    "df1 = stock_price(\"KOSDAQ\")\n",
    "df1.head()"
   ]
  },
  {
   "cell_type": "markdown",
   "id": "ab16ec56",
   "metadata": {},
   "source": [
    "### 5. 실습 원달러 환율 데이터 수집"
   ]
  },
  {
   "cell_type": "code",
   "execution_count": 64,
   "id": "d956d603",
   "metadata": {},
   "outputs": [],
   "source": [
    "def exchange_rate(code='FX_USDKRW', page_size=20, page=1):\n",
    "    url = f'https://api.stock.naver.com/marketindex/exchange/{code}/prices?page={page}&pageSize={page_size}'\n",
    "    response = requests.get(url)\n",
    "    datas = response.json()\n",
    "    return pd.DataFrame(datas)[['localTradedAt', 'closePrice']]"
   ]
  },
  {
   "cell_type": "code",
   "execution_count": 63,
   "id": "f9e7bffd",
   "metadata": {},
   "outputs": [
    {
     "data": {
      "text/html": [
       "<div>\n",
       "<style scoped>\n",
       "    .dataframe tbody tr th:only-of-type {\n",
       "        vertical-align: middle;\n",
       "    }\n",
       "\n",
       "    .dataframe tbody tr th {\n",
       "        vertical-align: top;\n",
       "    }\n",
       "\n",
       "    .dataframe thead th {\n",
       "        text-align: right;\n",
       "    }\n",
       "</style>\n",
       "<table border=\"1\" class=\"dataframe\">\n",
       "  <thead>\n",
       "    <tr style=\"text-align: right;\">\n",
       "      <th></th>\n",
       "      <th>localTradedAt</th>\n",
       "      <th>closePrice</th>\n",
       "    </tr>\n",
       "  </thead>\n",
       "  <tbody>\n",
       "    <tr>\n",
       "      <th>0</th>\n",
       "      <td>2022-01-19</td>\n",
       "      <td>1,191.00</td>\n",
       "    </tr>\n",
       "    <tr>\n",
       "      <th>1</th>\n",
       "      <td>2022-01-18</td>\n",
       "      <td>1,192.50</td>\n",
       "    </tr>\n",
       "    <tr>\n",
       "      <th>2</th>\n",
       "      <td>2022-01-17</td>\n",
       "      <td>1,192.50</td>\n",
       "    </tr>\n",
       "    <tr>\n",
       "      <th>3</th>\n",
       "      <td>2022-01-14</td>\n",
       "      <td>1,190.00</td>\n",
       "    </tr>\n",
       "    <tr>\n",
       "      <th>4</th>\n",
       "      <td>2022-01-13</td>\n",
       "      <td>1,185.50</td>\n",
       "    </tr>\n",
       "  </tbody>\n",
       "</table>\n",
       "</div>"
      ],
      "text/plain": [
       "  localTradedAt closePrice\n",
       "0    2022-01-19   1,191.00\n",
       "1    2022-01-18   1,192.50\n",
       "2    2022-01-17   1,192.50\n",
       "3    2022-01-14   1,190.00\n",
       "4    2022-01-13   1,185.50"
      ]
     },
     "execution_count": 63,
     "metadata": {},
     "output_type": "execute_result"
    }
   ],
   "source": [
    "usd = exchange_rate()\n",
    "usd.head()"
   ]
  },
  {
   "cell_type": "markdown",
   "id": "6a2e8cdd",
   "metadata": {},
   "source": [
    "### 6. 시각화 및 상관관계 분석"
   ]
  },
  {
   "cell_type": "code",
   "execution_count": 66,
   "id": "ffe81d08",
   "metadata": {},
   "outputs": [],
   "source": [
    "%config InlineBackend.figure_formats = {'png', 'retina'} # 해상도와 확장자"
   ]
  },
  {
   "cell_type": "code",
   "execution_count": 68,
   "id": "94a5157e",
   "metadata": {},
   "outputs": [],
   "source": [
    "import matplotlib.pyplot as plt\n",
    "import seaborn as sns"
   ]
  },
  {
   "cell_type": "markdown",
   "id": "415052ed",
   "metadata": {},
   "source": [
    "#### 1. 데이터 수집 : kosip, kosdqp, usd"
   ]
  },
  {
   "cell_type": "code",
   "execution_count": 70,
   "id": "f38f9470",
   "metadata": {},
   "outputs": [],
   "source": [
    "kospi = stock_price()\n",
    "kosdaq = stock_price(\"KOSDAQ\")\n",
    "usd = exchange_rate()"
   ]
  },
  {
   "cell_type": "code",
   "execution_count": 72,
   "id": "a45fbc64",
   "metadata": {
    "scrolled": true
   },
   "outputs": [
    {
     "data": {
      "text/html": [
       "<div>\n",
       "<style scoped>\n",
       "    .dataframe tbody tr th:only-of-type {\n",
       "        vertical-align: middle;\n",
       "    }\n",
       "\n",
       "    .dataframe tbody tr th {\n",
       "        vertical-align: top;\n",
       "    }\n",
       "\n",
       "    .dataframe thead th {\n",
       "        text-align: right;\n",
       "    }\n",
       "</style>\n",
       "<table border=\"1\" class=\"dataframe\">\n",
       "  <thead>\n",
       "    <tr style=\"text-align: right;\">\n",
       "      <th></th>\n",
       "      <th>localTradedAt</th>\n",
       "      <th>closePrice</th>\n",
       "    </tr>\n",
       "  </thead>\n",
       "  <tbody>\n",
       "    <tr>\n",
       "      <th>0</th>\n",
       "      <td>2022-02-21</td>\n",
       "      <td>1,194.60</td>\n",
       "    </tr>\n",
       "    <tr>\n",
       "      <th>1</th>\n",
       "      <td>2022-02-18</td>\n",
       "      <td>1,195.50</td>\n",
       "    </tr>\n",
       "    <tr>\n",
       "      <th>2</th>\n",
       "      <td>2022-02-17</td>\n",
       "      <td>1,197.50</td>\n",
       "    </tr>\n",
       "    <tr>\n",
       "      <th>3</th>\n",
       "      <td>2022-02-16</td>\n",
       "      <td>1,198.00</td>\n",
       "    </tr>\n",
       "    <tr>\n",
       "      <th>4</th>\n",
       "      <td>2022-02-15</td>\n",
       "      <td>1,197.50</td>\n",
       "    </tr>\n",
       "  </tbody>\n",
       "</table>\n",
       "</div>"
      ],
      "text/plain": [
       "  localTradedAt closePrice\n",
       "0    2022-02-21   1,194.60\n",
       "1    2022-02-18   1,195.50\n",
       "2    2022-02-17   1,197.50\n",
       "3    2022-02-16   1,198.00\n",
       "4    2022-02-15   1,197.50"
      ]
     },
     "execution_count": 72,
     "metadata": {},
     "output_type": "execute_result"
    }
   ],
   "source": [
    "usd.head()"
   ]
  },
  {
   "cell_type": "markdown",
   "id": "de466894",
   "metadata": {},
   "source": [
    "#### 2. 데이터 전처리 : str -> float"
   ]
  },
  {
   "cell_type": "code",
   "execution_count": 74,
   "id": "a27c052d",
   "metadata": {},
   "outputs": [
    {
     "data": {
      "text/plain": [
       "localTradedAt    object\n",
       "closePrice       object\n",
       "dtype: object"
      ]
     },
     "execution_count": 74,
     "metadata": {},
     "output_type": "execute_result"
    }
   ],
   "source": [
    "kospi.dtypes"
   ]
  },
  {
   "cell_type": "code",
   "execution_count": 75,
   "id": "2469e76b",
   "metadata": {},
   "outputs": [],
   "source": [
    "kospi['closePrice'] = kospi['closePrice'].apply(lambda data: float(data.replace(',', '')))"
   ]
  },
  {
   "cell_type": "code",
   "execution_count": 77,
   "id": "2bbbd3f0",
   "metadata": {},
   "outputs": [],
   "source": [
    "kosdaq['closePrice'] = kosdaq['closePrice'].apply(lambda data: float(data.replace(',', '')))\n",
    "usd['closePrice'] = usd['closePrice'].apply(lambda data: float(data.replace(',', '')))"
   ]
  },
  {
   "cell_type": "code",
   "execution_count": 76,
   "id": "de370e61",
   "metadata": {},
   "outputs": [
    {
     "data": {
      "text/plain": [
       "localTradedAt     object\n",
       "closePrice       float64\n",
       "dtype: object"
      ]
     },
     "execution_count": 76,
     "metadata": {},
     "output_type": "execute_result"
    }
   ],
   "source": [
    "kospi.dtypes"
   ]
  },
  {
   "cell_type": "code",
   "execution_count": 78,
   "id": "6d9064cd",
   "metadata": {},
   "outputs": [
    {
     "data": {
      "text/plain": [
       "localTradedAt     object\n",
       "closePrice       float64\n",
       "dtype: object"
      ]
     },
     "execution_count": 78,
     "metadata": {},
     "output_type": "execute_result"
    }
   ],
   "source": [
    "kosdaq.dtypes"
   ]
  },
  {
   "cell_type": "code",
   "execution_count": 79,
   "id": "6ee11cdd",
   "metadata": {},
   "outputs": [
    {
     "data": {
      "text/plain": [
       "localTradedAt     object\n",
       "closePrice       float64\n",
       "dtype: object"
      ]
     },
     "execution_count": 79,
     "metadata": {},
     "output_type": "execute_result"
    }
   ],
   "source": [
    "usd.dtypes"
   ]
  },
  {
   "cell_type": "code",
   "execution_count": 81,
   "id": "d241a97d",
   "metadata": {},
   "outputs": [],
   "source": [
    "# lambda : 일회성 함수 : lambda parmse : return\n",
    "def plus(num1, num2):\n",
    "    return num1 + num2\n",
    "\n",
    "def minus(num1, num2):\n",
    "    return num1 - num2\n",
    "\n",
    "def calc(func, num1, num2):\n",
    "    return func(num1, num2)"
   ]
  },
  {
   "cell_type": "code",
   "execution_count": 82,
   "id": "a0021f1e",
   "metadata": {},
   "outputs": [
    {
     "data": {
      "text/plain": [
       "3"
      ]
     },
     "execution_count": 82,
     "metadata": {},
     "output_type": "execute_result"
    }
   ],
   "source": [
    "calc(plus, 1,2) # plus 함수를 선언해야 함 -> 메모리 사용"
   ]
  },
  {
   "cell_type": "code",
   "execution_count": 83,
   "id": "5ae961b5",
   "metadata": {},
   "outputs": [
    {
     "data": {
      "text/plain": [
       "3"
      ]
     },
     "execution_count": 83,
     "metadata": {},
     "output_type": "execute_result"
    }
   ],
   "source": [
    "calc(lambda num1, num2 : num1+num2, 1,2) # 1회 사용하고 선언된 함수 지워짐"
   ]
  },
  {
   "cell_type": "code",
   "execution_count": 84,
   "id": "19590bdc",
   "metadata": {},
   "outputs": [],
   "source": [
    "# apply(func) : 모든 데이터에 func을 적용시킨 결과를 출력"
   ]
  },
  {
   "cell_type": "code",
   "execution_count": 89,
   "id": "ebb010a6",
   "metadata": {},
   "outputs": [
    {
     "data": {
      "text/html": [
       "<div>\n",
       "<style scoped>\n",
       "    .dataframe tbody tr th:only-of-type {\n",
       "        vertical-align: middle;\n",
       "    }\n",
       "\n",
       "    .dataframe tbody tr th {\n",
       "        vertical-align: top;\n",
       "    }\n",
       "\n",
       "    .dataframe thead th {\n",
       "        text-align: right;\n",
       "    }\n",
       "</style>\n",
       "<table border=\"1\" class=\"dataframe\">\n",
       "  <thead>\n",
       "    <tr style=\"text-align: right;\">\n",
       "      <th></th>\n",
       "      <th>date</th>\n",
       "      <th>kospi</th>\n",
       "      <th>kosdaq</th>\n",
       "      <th>usd</th>\n",
       "    </tr>\n",
       "  </thead>\n",
       "  <tbody>\n",
       "    <tr>\n",
       "      <th>0</th>\n",
       "      <td>2022-02-21</td>\n",
       "      <td>2736.83</td>\n",
       "      <td>880.98</td>\n",
       "      <td>1194.6</td>\n",
       "    </tr>\n",
       "    <tr>\n",
       "      <th>1</th>\n",
       "      <td>2022-02-18</td>\n",
       "      <td>2744.52</td>\n",
       "      <td>881.71</td>\n",
       "      <td>1195.5</td>\n",
       "    </tr>\n",
       "    <tr>\n",
       "      <th>2</th>\n",
       "      <td>2022-02-17</td>\n",
       "      <td>2744.09</td>\n",
       "      <td>874.22</td>\n",
       "      <td>1197.5</td>\n",
       "    </tr>\n",
       "    <tr>\n",
       "      <th>3</th>\n",
       "      <td>2022-02-16</td>\n",
       "      <td>2729.68</td>\n",
       "      <td>878.15</td>\n",
       "      <td>1198.0</td>\n",
       "    </tr>\n",
       "    <tr>\n",
       "      <th>4</th>\n",
       "      <td>2022-02-15</td>\n",
       "      <td>2676.54</td>\n",
       "      <td>839.92</td>\n",
       "      <td>1197.5</td>\n",
       "    </tr>\n",
       "  </tbody>\n",
       "</table>\n",
       "</div>"
      ],
      "text/plain": [
       "         date    kospi  kosdaq     usd\n",
       "0  2022-02-21  2736.83  880.98  1194.6\n",
       "1  2022-02-18  2744.52  881.71  1195.5\n",
       "2  2022-02-17  2744.09  874.22  1197.5\n",
       "3  2022-02-16  2729.68  878.15  1198.0\n",
       "4  2022-02-15  2676.54  839.92  1197.5"
      ]
     },
     "execution_count": 89,
     "metadata": {},
     "output_type": "execute_result"
    }
   ],
   "source": [
    "df = kospi.copy()\n",
    "df = df.rename(columns ={'localTradedAt':'date','closePrice':'kospi'})\n",
    "df['kosdaq'] = kosdaq['closePrice']\n",
    "df['usd'] = usd['closePrice']\n",
    "df.head()"
   ]
  },
  {
   "cell_type": "code",
   "execution_count": 90,
   "id": "d5265468",
   "metadata": {},
   "outputs": [
    {
     "data": {
      "text/plain": [
       "date       object\n",
       "kospi     float64\n",
       "kosdaq    float64\n",
       "usd       float64\n",
       "dtype: object"
      ]
     },
     "execution_count": 90,
     "metadata": {},
     "output_type": "execute_result"
    }
   ],
   "source": [
    "df.dtypes"
   ]
  },
  {
   "cell_type": "markdown",
   "id": "731437bf",
   "metadata": {},
   "source": [
    "#### 3. 그래프 그리기"
   ]
  },
  {
   "cell_type": "code",
   "execution_count": 96,
   "id": "047a3d3c",
   "metadata": {},
   "outputs": [
    {
     "data": {
      "image/png": "[encoded data removed]",
      "text/plain": [
       "<Figure size 1440x360 with 1 Axes>"
      ]
     },
     "metadata": {
      "image/png": {
       "height": 302,
       "width": 1162
      },
      "needs_background": "light"
     },
     "output_type": "display_data"
    }
   ],
   "source": [
    "plt.figure(figsize=(20, 5))\n",
    "\n",
    "#plt.plot(df['date'], df['kospi'], label='kospi')\n",
    "#plt.plot(df['date'], df['kosdaq'], label='kosdaq')\n",
    "#plt.plot(df['date'], df['usd'], label = 'usd')\n",
    "\n",
    "for column in df.columns[1:]:\n",
    "    plt.plot(df['date'], df[column], label=column)\n",
    "\n",
    "\n",
    "plt.xticks(df['date'][::2])\n",
    "plt.legend()\n",
    "plt.show()"
   ]
  },
  {
   "cell_type": "markdown",
   "id": "1dbab63d",
   "metadata": {},
   "source": [
    "#### 4. 데이터스케일링 MinMaxScaler"
   ]
  },
  {
   "cell_type": "code",
   "execution_count": null,
   "id": "10a0524e",
   "metadata": {},
   "outputs": [],
   "source": [
    "# z = (x - min(x)) / (max(x)-min(x))\n",
    "# z : 0<=z<=1"
   ]
  },
  {
   "cell_type": "code",
   "execution_count": 97,
   "id": "76618424",
   "metadata": {},
   "outputs": [],
   "source": [
    "from sklearn.preprocessing import minmax_scale"
   ]
  },
  {
   "cell_type": "code",
   "execution_count": 99,
   "id": "c02a3bb7",
   "metadata": {},
   "outputs": [
    {
     "data": {
      "image/png": "[encoded data removed]",
      "text/plain": [
       "<Figure size 1440x360 with 1 Axes>"
      ]
     },
     "metadata": {
      "image/png": {
       "height": 302,
       "width": 1153
      },
      "needs_background": "light"
     },
     "output_type": "display_data"
    }
   ],
   "source": [
    "plt.figure(figsize=(20, 5))\n",
    "\n",
    "#plt.plot(df['date'], df['kospi'], label='kospi')\n",
    "#plt.plot(df['date'], df['kosdaq'], label='kosdaq')\n",
    "#plt.plot(df['date'], df['usd'], label = 'usd')\n",
    "\n",
    "for column in df.columns[1:]:\n",
    "    plt.plot(df['date'], minmax_scale(df[column]), label=column)\n",
    "\n",
    "\n",
    "plt.xticks(df['date'][::2])\n",
    "plt.legend()\n",
    "plt.show()"
   ]
  },
  {
   "cell_type": "markdown",
   "id": "b70a6dde",
   "metadata": {},
   "source": [
    "#### 5. 상관관계 분석"
   ]
  },
  {
   "cell_type": "code",
   "execution_count": 101,
   "id": "b4f78f47",
   "metadata": {},
   "outputs": [
    {
     "data": {
      "text/html": [
       "<div>\n",
       "<style scoped>\n",
       "    .dataframe tbody tr th:only-of-type {\n",
       "        vertical-align: middle;\n",
       "    }\n",
       "\n",
       "    .dataframe tbody tr th {\n",
       "        vertical-align: top;\n",
       "    }\n",
       "\n",
       "    .dataframe thead th {\n",
       "        text-align: right;\n",
       "    }\n",
       "</style>\n",
       "<table border=\"1\" class=\"dataframe\">\n",
       "  <thead>\n",
       "    <tr style=\"text-align: right;\">\n",
       "      <th></th>\n",
       "      <th>date</th>\n",
       "      <th>kospi</th>\n",
       "      <th>kosdaq</th>\n",
       "      <th>usd</th>\n",
       "    </tr>\n",
       "  </thead>\n",
       "  <tbody>\n",
       "    <tr>\n",
       "      <th>0</th>\n",
       "      <td>2022-02-21</td>\n",
       "      <td>2736.83</td>\n",
       "      <td>880.98</td>\n",
       "      <td>1194.6</td>\n",
       "    </tr>\n",
       "    <tr>\n",
       "      <th>1</th>\n",
       "      <td>2022-02-18</td>\n",
       "      <td>2744.52</td>\n",
       "      <td>881.71</td>\n",
       "      <td>1195.5</td>\n",
       "    </tr>\n",
       "    <tr>\n",
       "      <th>2</th>\n",
       "      <td>2022-02-17</td>\n",
       "      <td>2744.09</td>\n",
       "      <td>874.22</td>\n",
       "      <td>1197.5</td>\n",
       "    </tr>\n",
       "    <tr>\n",
       "      <th>3</th>\n",
       "      <td>2022-02-16</td>\n",
       "      <td>2729.68</td>\n",
       "      <td>878.15</td>\n",
       "      <td>1198.0</td>\n",
       "    </tr>\n",
       "    <tr>\n",
       "      <th>4</th>\n",
       "      <td>2022-02-15</td>\n",
       "      <td>2676.54</td>\n",
       "      <td>839.92</td>\n",
       "      <td>1197.5</td>\n",
       "    </tr>\n",
       "  </tbody>\n",
       "</table>\n",
       "</div>"
      ],
      "text/plain": [
       "         date    kospi  kosdaq     usd\n",
       "0  2022-02-21  2736.83  880.98  1194.6\n",
       "1  2022-02-18  2744.52  881.71  1195.5\n",
       "2  2022-02-17  2744.09  874.22  1197.5\n",
       "3  2022-02-16  2729.68  878.15  1198.0\n",
       "4  2022-02-15  2676.54  839.92  1197.5"
      ]
     },
     "execution_count": 101,
     "metadata": {},
     "output_type": "execute_result"
    }
   ],
   "source": [
    "df.head()\n",
    "# 상관계수 : 0과 가까울수록 두 데이터는 관계 x, 1과 가까울수록 두 데이터는 강한 양의 상관관계, -1과 가까울수록 두 데이터는 강한 음의 상관관계"
   ]
  },
  {
   "cell_type": "code",
   "execution_count": 102,
   "id": "9e7121e1",
   "metadata": {},
   "outputs": [
    {
     "data": {
      "text/html": [
       "<div>\n",
       "<style scoped>\n",
       "    .dataframe tbody tr th:only-of-type {\n",
       "        vertical-align: middle;\n",
       "    }\n",
       "\n",
       "    .dataframe tbody tr th {\n",
       "        vertical-align: top;\n",
       "    }\n",
       "\n",
       "    .dataframe thead th {\n",
       "        text-align: right;\n",
       "    }\n",
       "</style>\n",
       "<table border=\"1\" class=\"dataframe\">\n",
       "  <thead>\n",
       "    <tr style=\"text-align: right;\">\n",
       "      <th></th>\n",
       "      <th>kospi</th>\n",
       "      <th>kosdaq</th>\n",
       "      <th>usd</th>\n",
       "    </tr>\n",
       "  </thead>\n",
       "  <tbody>\n",
       "    <tr>\n",
       "      <th>kospi</th>\n",
       "      <td>1.000000</td>\n",
       "      <td>0.892551</td>\n",
       "      <td>-0.749616</td>\n",
       "    </tr>\n",
       "    <tr>\n",
       "      <th>kosdaq</th>\n",
       "      <td>0.892551</td>\n",
       "      <td>1.000000</td>\n",
       "      <td>-0.507550</td>\n",
       "    </tr>\n",
       "    <tr>\n",
       "      <th>usd</th>\n",
       "      <td>-0.749616</td>\n",
       "      <td>-0.507550</td>\n",
       "      <td>1.000000</td>\n",
       "    </tr>\n",
       "  </tbody>\n",
       "</table>\n",
       "</div>"
      ],
      "text/plain": [
       "           kospi    kosdaq       usd\n",
       "kospi   1.000000  0.892551 -0.749616\n",
       "kosdaq  0.892551  1.000000 -0.507550\n",
       "usd    -0.749616 -0.507550  1.000000"
      ]
     },
     "execution_count": 102,
     "metadata": {},
     "output_type": "execute_result"
    }
   ],
   "source": [
    "df[df.columns[1:]].corr()"
   ]
  },
  {
   "cell_type": "code",
   "execution_count": 103,
   "id": "9d27c861",
   "metadata": {},
   "outputs": [],
   "source": [
    "# kospi와 kosdaq는 0.892 : 강한 양의 상관관계 a가 높으면 b 도 높다\n",
    "# kospi-usd : -0.745 : 강한 음의 상관관계 a가 높으면 b는 떨어진다"
   ]
  },
  {
   "cell_type": "code",
   "execution_count": null,
   "id": "8c6d5b25",
   "metadata": {},
   "outputs": [],
   "source": []
  }
 ],
 "metadata": {
  "kernelspec": {
   "display_name": "Python 3",
   "language": "python",
   "name": "python3"
  },
  "language_info": {
   "codemirror_mode": {
    "name": "ipython",
    "version": 3
   },
   "file_extension": ".py",
   "mimetype": "text/x-python",
   "name": "python",
   "nbconvert_exporter": "python",
   "pygments_lexer": "ipython3",
   "version": "3.8.8"
  }
 },
 "nbformat": 4,
 "nbformat_minor": 5
}
