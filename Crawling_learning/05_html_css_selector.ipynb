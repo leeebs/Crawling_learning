{
 "cells": [
  {
   "cell_type": "markdown",
   "id": "54806934",
   "metadata": {},
   "source": [
    "### web\n",
    " - client - server : url\n",
    " - 동적페이지 : json\n",
    "     - 웹페이지 분석 : url\n",
    "     - request(url) -> response(data) -> data(json)\n",
    "     - data(json) -> parsing -> list, dict\n",
    " - 정적페이지 : html\n",
    "     - 웹 페이지 분석 : url\n",
    "     - request(url) -> response(data) -> data(html(str))\n",
    "     - data(html(str)) -> parsing(css-selector:bs이용) -> text\n"
   ]
  },
  {
   "cell_type": "markdown",
   "id": "47ba99bc",
   "metadata": {},
   "source": [
    "### HTML\n",
    " - 웹 페이지에서 레이아웃, 문자열, 속성값 등을 나타내는 문법\n",
    "### HTML 구성요소\n",
    "- document :한 페이지 전체의 html code\n",
    "- element : 하나의 레이아웃을 나타내는 단위\n",
    "- tag : 레이아웃의 종류를 나타내는 단위 : 주로 시작태그와 끝 태그가 있음\n",
    "- attribute : 속성값 : 시작태그에 포함되는 태그에서 특정 기능을 하는 값\n",
    "- text : 시작태그와 끝태그 사이에 있는 문자열"
   ]
  },
  {
   "cell_type": "code",
   "execution_count": 3,
   "id": "af5cda7e",
   "metadata": {},
   "outputs": [],
   "source": [
    "# html code에서 text를 가져오기 위해 element를 선택해야 함\n",
    "# element를 선택하는 문법이 css-selector\n",
    "# css-selector를 사용할 수 있게 해주는 패키지가 bs"
   ]
  },
  {
   "cell_type": "code",
   "execution_count": 2,
   "id": "1300b6d6",
   "metadata": {},
   "outputs": [
    {
     "data": {
      "text/html": [
       "<div>\n",
       "    <button class = \"btn no1\" value=\"1\">click 1</button>\n",
       "    <button class = \"btn no2\" value=\"2\">click 2</button>\n",
       "    <a href='https://google.com' target=\"_blink\">click</a>\n",
       "</div>\n"
      ],
      "text/plain": [
       "<IPython.core.display.HTML object>"
      ]
     },
     "metadata": {},
     "output_type": "display_data"
    }
   ],
   "source": [
    "%%html\n",
    "<div>\n",
    "    <button class = \"btn no1\" value=\"1\">click 1</button>\n",
    "    <button class = \"btn no2\" value=\"2\">click 2</button>\n",
    "    <a href='https://google.com' target=\"_blink\">click</a>\n",
    "</div>"
   ]
  },
  {
   "cell_type": "code",
   "execution_count": 4,
   "id": "4bb6872d",
   "metadata": {},
   "outputs": [],
   "source": [
    "# p 한줄의 문자열 출력"
   ]
  },
  {
   "cell_type": "code",
   "execution_count": 5,
   "id": "fcc7de52",
   "metadata": {},
   "outputs": [
    {
     "data": {
      "text/html": [
       "<p>kt 1</p>\n",
       "<p>kt 2</p>\n"
      ],
      "text/plain": [
       "<IPython.core.display.HTML object>"
      ]
     },
     "metadata": {},
     "output_type": "display_data"
    }
   ],
   "source": [
    "%%html\n",
    "<p>kt 1</p>\n",
    "<p>kt 2</p>"
   ]
  },
  {
   "cell_type": "code",
   "execution_count": 6,
   "id": "a90c0ec6",
   "metadata": {},
   "outputs": [],
   "source": [
    "# span : 한 블럭의 문자열 출력"
   ]
  },
  {
   "cell_type": "code",
   "execution_count": 7,
   "id": "1a525729",
   "metadata": {},
   "outputs": [
    {
     "data": {
      "text/html": [
       "<span>kt 1</span>\n",
       "<span>kt 2</span>\n"
      ],
      "text/plain": [
       "<IPython.core.display.HTML object>"
      ]
     },
     "metadata": {},
     "output_type": "display_data"
    }
   ],
   "source": [
    "%%html\n",
    "<span>kt 1</span>\n",
    "<span>kt 2</span>"
   ]
  },
  {
   "cell_type": "code",
   "execution_count": 8,
   "id": "6e22f3b3",
   "metadata": {},
   "outputs": [],
   "source": [
    "# div : 레이아웃(영역)을 출력"
   ]
  },
  {
   "cell_type": "code",
   "execution_count": 9,
   "id": "4fb65617",
   "metadata": {
    "scrolled": true
   },
   "outputs": [
    {
     "data": {
      "text/html": [
       "<div>\n",
       "    <p>kt 1</p>\n",
       "    <p>kt 2</p>\n",
       "</div>\n",
       "<div>\n",
       "    <span>kt 3</span>\n",
       "</div>\n"
      ],
      "text/plain": [
       "<IPython.core.display.HTML object>"
      ]
     },
     "metadata": {},
     "output_type": "display_data"
    }
   ],
   "source": [
    "%%html\n",
    "<div>\n",
    "    <p>kt 1</p>\n",
    "    <p>kt 2</p>\n",
    "</div>\n",
    "<div>\n",
    "    <span>kt 3</span>\n",
    "</div>"
   ]
  },
  {
   "cell_type": "code",
   "execution_count": 10,
   "id": "eef57c33",
   "metadata": {},
   "outputs": [],
   "source": [
    "# table : 행과 열로 이루어진 데이터를 출력"
   ]
  },
  {
   "cell_type": "code",
   "execution_count": 11,
   "id": "9d3a47f8",
   "metadata": {},
   "outputs": [
    {
     "data": {
      "text/html": [
       "<table>\n",
       "    <caption>table tag</caption>\n",
       "    <thead>\n",
       "        <tr>\n",
       "            <th>column1</th>\n",
       "            <th>column2</th>\n",
       "        </tr>\n",
       "    </thead>\n",
       "    <tbody>\n",
       "        <tr>\n",
       "            <th>kt1</th>\n",
       "            <th>kt2</th>\n",
       "        </tr>\n",
       "        <tr>\n",
       "            <th>kt3</th>\n",
       "            <th>kt4</th>\n",
       "        </tr>\n",
       "    </tbody>\n",
       "</table>\n"
      ],
      "text/plain": [
       "<IPython.core.display.HTML object>"
      ]
     },
     "metadata": {},
     "output_type": "display_data"
    }
   ],
   "source": [
    "%%html\n",
    "<table>\n",
    "    <caption>table tag</caption>\n",
    "    <thead>\n",
    "        <tr>\n",
    "            <th>column1</th>\n",
    "            <th>column2</th>\n",
    "        </tr>\n",
    "    </thead>\n",
    "    <tbody>\n",
    "        <tr>\n",
    "            <th>kt1</th>\n",
    "            <th>kt2</th>\n",
    "        </tr>\n",
    "        <tr>\n",
    "            <th>kt3</th>\n",
    "            <th>kt4</th>\n",
    "        </tr>\n",
    "    </tbody>\n",
    "</table>"
   ]
  },
  {
   "cell_type": "code",
   "execution_count": 12,
   "id": "9968bf81",
   "metadata": {},
   "outputs": [],
   "source": [
    "# ul, li : list문자열을 출력 "
   ]
  },
  {
   "cell_type": "code",
   "execution_count": 13,
   "id": "2f0002d2",
   "metadata": {},
   "outputs": [
    {
     "data": {
      "text/html": [
       "<ul>\n",
       "    <li>kt1</li>\n",
       "    <li>kt2</li>\n",
       "</ul>\n"
      ],
      "text/plain": [
       "<IPython.core.display.HTML object>"
      ]
     },
     "metadata": {},
     "output_type": "display_data"
    }
   ],
   "source": [
    "%%html\n",
    "<ul>\n",
    "    <li>kt1</li>\n",
    "    <li>kt2</li>\n",
    "</ul>"
   ]
  },
  {
   "cell_type": "code",
   "execution_count": 17,
   "id": "b1269910",
   "metadata": {},
   "outputs": [],
   "source": [
    "# a : 링크를 출력하는 태그\n",
    "# target = \"_blink\" : 새로운 탭에서 띄우는 기능"
   ]
  },
  {
   "cell_type": "code",
   "execution_count": 18,
   "id": "15bf3dbb",
   "metadata": {},
   "outputs": [
    {
     "data": {
      "text/html": [
       "<a href=\"https://naver.com\" target=\"_blink\">move to naver</a>\n"
      ],
      "text/plain": [
       "<IPython.core.display.HTML object>"
      ]
     },
     "metadata": {},
     "output_type": "display_data"
    }
   ],
   "source": [
    "%%html\n",
    "<a href=\"https://naver.com\" target=\"_blink\">move to naver</a>"
   ]
  },
  {
   "cell_type": "code",
   "execution_count": 19,
   "id": "be224c6c",
   "metadata": {},
   "outputs": [],
   "source": [
    "# img : 이미지 출력"
   ]
  },
  {
   "cell_type": "code",
   "execution_count": 21,
   "id": "7a3126f3",
   "metadata": {},
   "outputs": [
    {
     "data": {
      "text/html": [
       "<img src=\"https://cfm.kt.com/images/v2/layout/gnb-ktlogo.png\" alt=\"kt\">\n"
      ],
      "text/plain": [
       "<IPython.core.display.HTML object>"
      ]
     },
     "metadata": {},
     "output_type": "display_data"
    }
   ],
   "source": [
    "%%html\n",
    "<img src=\"https://cfm.kt.com/images/v2/layout/gnb-ktlogo.png\" alt=\"kt\">"
   ]
  },
  {
   "cell_type": "markdown",
   "id": "0f12742c",
   "metadata": {},
   "source": [
    "### css-selector\n",
    " - html element를 선택하기 위한 문법\n",
    "### element를 선택하기 위한 방법들\n",
    " - tag\n",
    " - id\n",
    " - class\n",
    " - attr"
   ]
  },
  {
   "cell_type": "code",
   "execution_count": 24,
   "id": "eb74a9a2",
   "metadata": {},
   "outputs": [],
   "source": [
    "# tag\n",
    "# css-selector : span : kt3 선택"
   ]
  },
  {
   "cell_type": "code",
   "execution_count": 25,
   "id": "d5eb1644",
   "metadata": {},
   "outputs": [
    {
     "data": {
      "text/html": [
       "<div>kt1</div>\n",
       "<p>kt2</p>\n",
       "<span>kt3</span>\n"
      ],
      "text/plain": [
       "<IPython.core.display.HTML object>"
      ]
     },
     "metadata": {},
     "output_type": "display_data"
    }
   ],
   "source": [
    "%%html\n",
    "<div>kt1</div>\n",
    "<p>kt2</p>\n",
    "<span>kt3</span>"
   ]
  },
  {
   "cell_type": "code",
   "execution_count": 26,
   "id": "a3c9cea1",
   "metadata": {},
   "outputs": [],
   "source": [
    "# id :한 페이지에 같은 id값을 사용하지 않음\n",
    "# "
   ]
  },
  {
   "cell_type": "code",
   "execution_count": 28,
   "id": "d821ee8e",
   "metadata": {},
   "outputs": [
    {
     "data": {
      "text/html": [
       "<p id=\"d1\">kt1</p>\n",
       "<p id=\"d2\">kt2</p>\n",
       "<p id=\"d3\">kt3</p>\n"
      ],
      "text/plain": [
       "<IPython.core.display.HTML object>"
      ]
     },
     "metadata": {},
     "output_type": "display_data"
    }
   ],
   "source": [
    "%%html\n",
    "<p id=\"d1\">kt1</p>\n",
    "<p id=\"d2\">kt2</p>\n",
    "<p id=\"d3\">kt3</p>"
   ]
  },
  {
   "cell_type": "code",
   "execution_count": 30,
   "id": "73e3a772",
   "metadata": {},
   "outputs": [],
   "source": [
    "#class : 하나의 태그에 여러 개의 값을 사용할 수 있음\n",
    "# 한 페이지에서 동일값을 여러번 사용할 수 있다\n",
    "# css-selector : .txt, :kt1, kt3 선택"
   ]
  },
  {
   "cell_type": "code",
   "execution_count": 33,
   "id": "839cac25",
   "metadata": {},
   "outputs": [
    {
     "data": {
      "text/html": [
       "<p class=\"txt d1\">kt1</p>\n",
       "<p class=\"d1\">kt2</p>\n",
       "<p class=\"txt d1\">kt3</p>\n"
      ],
      "text/plain": [
       "<IPython.core.display.HTML object>"
      ]
     },
     "metadata": {},
     "output_type": "display_data"
    }
   ],
   "source": [
    "%%html\n",
    "<p class=\"txt d1\">kt1</p>\n",
    "<p class=\"d1\">kt2</p>\n",
    "<p class=\"txt d1\">kt3</p>"
   ]
  },
  {
   "cell_type": "code",
   "execution_count": 34,
   "id": "3e240dc4",
   "metadata": {},
   "outputs": [],
   "source": [
    "# attr\n",
    "# css-selecter {value:no2} : kt선택"
   ]
  },
  {
   "cell_type": "code",
   "execution_count": 35,
   "id": "10d99f81",
   "metadata": {},
   "outputs": [
    {
     "data": {
      "text/html": [
       "<p value=\"no 1\">kt1</p>\n",
       "<p value=\"no 2\">kt2</p>\n",
       "<p value=\"no 3\">kt3</p>\n"
      ],
      "text/plain": [
       "<IPython.core.display.HTML object>"
      ]
     },
     "metadata": {},
     "output_type": "display_data"
    }
   ],
   "source": [
    "%%html\n",
    "<p value=\"no 1\">kt1</p>\n",
    "<p value=\"no 2\">kt2</p>\n",
    "<p value=\"no 3\">kt3</p>"
   ]
  },
  {
   "cell_type": "code",
   "execution_count": 40,
   "id": "0ca9e587",
   "metadata": {},
   "outputs": [],
   "source": [
    "# 계층적으로 element 선택\n",
    "# css-selector : p : kt1, kt2\n",
    "\n",
    "# > : 한 단계 하위 엘리먼트 선택시 사용\n",
    "# css-selector : .wrap > p : kt1\n",
    "# css-selector : .wrap > div > p : kt2\n",
    "\n",
    "# 공백 : 하위 엘리먼트 모두 선택\n",
    "# css-selector : .wrap p : kt1, kt2\n",
    "\n",
    "# span 태그이면서 no1 클래스를 가진 element 선택\n",
    "# css-selector : span.no1 : kt3"
   ]
  },
  {
   "cell_type": "code",
   "execution_count": 41,
   "id": "7454a5c4",
   "metadata": {},
   "outputs": [
    {
     "data": {
      "text/html": [
       "<div>\n",
       "    <p class=\"no1\">kt1</p>\n",
       "    <div>\n",
       "        <p class=\"no1\">kt2</p>\n",
       "        <span class=\"no1\">kt3</p>\n",
       "    </div>\n",
       "</div>\n"
      ],
      "text/plain": [
       "<IPython.core.display.HTML object>"
      ]
     },
     "metadata": {},
     "output_type": "display_data"
    }
   ],
   "source": [
    "%%html \n",
    "<div>\n",
    "    <p class=\"no1\">kt1</p>\n",
    "    <div>\n",
    "        <p class=\"no1\">kt2</p>\n",
    "        <span class=\"no1\">kt3</p>\n",
    "    </div>\n",
    "</div>"
   ]
  },
  {
   "cell_type": "code",
   "execution_count": 46,
   "id": "feca77a2",
   "metadata": {},
   "outputs": [],
   "source": [
    "# nth-child(n) : n번째 element 선택\n",
    "# css-selector : .wrap > p:nth-child(2) : kt2 # 두번째 엘리먼트가 p태그이면 선택해라\n",
    "# css-selector : .wrap > p:nth-child(3) : kt3\n",
    "# css-selector : .wrap > p:nth-child(2), .wrap > p:nth-child(3) : kt2, kt3"
   ]
  },
  {
   "cell_type": "code",
   "execution_count": 47,
   "id": "1d20fadb",
   "metadata": {},
   "outputs": [
    {
     "data": {
      "text/html": [
       "<div class=\"wrap\">\n",
       "    <p>kt1</p>\n",
       "    <p>kt2</p>\n",
       "    <p>kt3</p>\n",
       "</div>\n"
      ],
      "text/plain": [
       "<IPython.core.display.HTML object>"
      ]
     },
     "metadata": {},
     "output_type": "display_data"
    }
   ],
   "source": [
    "%%html\n",
    "<div class=\"wrap\">\n",
    "    <p>kt1</p>\n",
    "    <p>kt2</p>\n",
    "    <p>kt3</p>\n",
    "</div>"
   ]
  },
  {
   "cell_type": "code",
   "execution_count": 45,
   "id": "c25f9105",
   "metadata": {},
   "outputs": [],
   "source": [
    "# css-selector : .wrap > p:nth-child(2) : kt1 # 두번째 엘리먼트가 p태그이면 선택"
   ]
  },
  {
   "cell_type": "code",
   "execution_count": 48,
   "id": "3fd40d1a",
   "metadata": {},
   "outputs": [
    {
     "data": {
      "text/html": [
       "<div class=\"wrap\">\n",
       "    <span>kt0</span>\n",
       "    <p>kt1</p>\n",
       "    <p>kt2</p>\n",
       "    <p>kt3</p>\n",
       "</div>\n"
      ],
      "text/plain": [
       "<IPython.core.display.HTML object>"
      ]
     },
     "metadata": {},
     "output_type": "display_data"
    }
   ],
   "source": [
    "%%html\n",
    "<div class=\"wrap\">\n",
    "    <span>kt0</span>\n",
    "    <p>kt1</p>\n",
    "    <p>kt2</p>\n",
    "    <p>kt3</p>\n",
    "</div>"
   ]
  },
  {
   "cell_type": "code",
   "execution_count": null,
   "id": "8b5b28ba",
   "metadata": {},
   "outputs": [],
   "source": []
  },
  {
   "cell_type": "code",
   "execution_count": null,
   "id": "94fabbf9",
   "metadata": {},
   "outputs": [],
   "source": []
  }
 ],
 "metadata": {
  "kernelspec": {
   "display_name": "Python 3",
   "language": "python",
   "name": "python3"
  },
  "language_info": {
   "codemirror_mode": {
    "name": "ipython",
    "version": 3
   },
   "file_extension": ".py",
   "mimetype": "text/x-python",
   "name": "python",
   "nbconvert_exporter": "python",
   "pygments_lexer": "ipython3",
   "version": "3.8.8"
  }
 },
 "nbformat": 4,
 "nbformat_minor": 5
}
