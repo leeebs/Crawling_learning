{
 "cells": [
  {
   "cell_type": "code",
   "execution_count": 1,
   "id": "17caee00",
   "metadata": {},
   "outputs": [],
   "source": [
    "import requests\n",
    "import pandas as pd"
   ]
  },
  {
   "cell_type": "markdown",
   "id": "fa6fb01e",
   "metadata": {},
   "source": [
    "### headers : daum exchange rate :  환율데이터 수집"
   ]
  },
  {
   "cell_type": "markdown",
   "id": "48e40f12",
   "metadata": {},
   "source": [
    "### 1. 웹서비스 분석 : URL"
   ]
  },
  {
   "cell_type": "code",
   "execution_count": 9,
   "id": "244f65f0",
   "metadata": {},
   "outputs": [],
   "source": [
    "url = 'https://finance.daum.net/api/exchanges/summaries'"
   ]
  },
  {
   "cell_type": "markdown",
   "id": "413c6112",
   "metadata": {},
   "source": [
    "### 2. request(url) -> response(data) : data(json(str))"
   ]
  },
  {
   "cell_type": "code",
   "execution_count": 20,
   "id": "742cb581",
   "metadata": {},
   "outputs": [
    {
     "data": {
      "text/plain": [
       "<Response [200]>"
      ]
     },
     "execution_count": 20,
     "metadata": {},
     "output_type": "execute_result"
    }
   ],
   "source": [
    "headers = {\n",
    "    \"user-agent\": \"Mozilla/5.0 (Windows NT 10.0; Win64; x64) AppleWebKit/537.36 (KHTML, like Gecko) \\Chrome/98.0.4758.102 Safari/537.36\",\n",
    "    \"referer\": \"https://finance.daum.net/exchanges\",\n",
    "}\n",
    "response = requests.get(url, headers=headers)\n",
    "response"
   ]
  },
  {
   "cell_type": "code",
   "execution_count": 21,
   "id": "3b1b831e",
   "metadata": {},
   "outputs": [
    {
     "data": {
      "text/plain": [
       "'{\"data\":[{\"symbolCode\":\"FRX.KRWUSD\",\"date\":\"2022-02-21 16:59:38\",\"currencyCode\":\"USD\",\"currencyName\":\"달러\",\"currencyUnit\":1,\"country\":\"미국\",\"region\":{\"korName\":\"아메리카\",\"engName\":\"America\"},\"name\":\"미국 (KRW/USD)\",\"recurrenceCount\":245,\"basePrice\":1191.5,\"change\":\"FALL\",\"changePrice\":4.0,\"changeRate\":0.0033458804,\"cashBuyingPrice\":1212.35,\"cashSellingPrice\":1170.65,\"ttBuyingPrice\":1179.9,\"ttSellingPrice\":1203.1,\"tcBuyingPrice\":null,\"fcSellingPrice\":null,\"exchangeCommission\":1.9815,\"usDollarRate\":1.0,\"chartImageUrl\":{\"day\":\"https://t1.daumcdn.net/finance/chart/kr/daumforex/d/FRX.KRWUSD.png\",\"month\":\"https://t1.daumcdn.net/finance/chart/kr/daumforex/m/FRX.KRWUSD.png\",\"month3\":\"https://t1.daumcdn.net/finance/chart/kr/daumforex/m3/FRX.KRWUSD.png\",\"year\":\"https://t1.daumcdn.net/finance/chart/kr/daumforex/y/FRX.KRWUSD.png\"}},{\"symbolCode\":\"FRX.KRWJPY\",\"date\":\"2022-02-21 16:59:32\",\"currencyCode\":\"JPY\",\"currencyName\":\"엔\",\"currencyUnit\":100,\"country\":\"일본\",\"region\":{\"korName\":\"아시아\",\"engName\":\"Asia\"},\"name\":\"일본 (KRW/JPY100)\",\"recurrenceCount\":245,\"basePrice\":1036.67,\"change\":\"FALL\",\"changePrice\":1.23,\"changeRate\":0.0011850853,\"cashBuyingPrice\":1054.81,\"cashSellingPrice\":1018.53,\"ttBuyingPrice\":1026.52,\"ttSellingPrice\":1046.82,\"tcBuyingPrice\":null,\"fcSellingPrice\":null,\"exchangeCommission\":2.0505,\"usDollarRate\":0.8701,\"chartImageUrl\":{\"day\":\"https://t1.daumcdn.net/finance/chart/kr/daumforex/d/FRX.KRWJPY.png\",\"month\":\"https://t1.daumcdn.net/finance/chart/kr/daumforex/m/FRX.KRWJPY.png\",\"month3\":\"https://t1.daumcdn.net/finance/chart/kr/daumforex/m3/FRX.KRWJPY.png\",\"year\":\"https://t1.daumcdn.net/finance/chart/kr/daumforex/y/FRX.KRWJPY.png\"}},{\"symbolCode\":\"FRX.KRWCNY\",\"date\":\"2022-02-21 16:59:32\",\"currencyCode\":\"CNY\",\"currencyName\":\"위안\",\"currencyUnit\":1,\"country\":\"중국\",\"region\":{\"korName\":\"아시아\",\"engName\":\"Asia\"},\"name\":\"중국 (KRW/CNY)\",\"recurrenceCount\":245,\"basePrice\":188.31,\"change\":\"FALL\",\"changePrice\":0.73,\"changeRate\":0.0038616166,\"cashBuyingPrice\":197.72,\"cashSellingPrice\":178.9,\"ttBuyingPrice\":186.43,\"ttSellingPrice\":190.19,\"tcBuyingPrice\":null,\"fcSellingPrice\":null,\"exchangeCommission\":5.2254,\"usDollarRate\":0.158,\"chartImageUrl\":{\"day\":\"https://t1.daumcdn.net/finance/chart/kr/daumforex/d/FRX.KRWCNY.png\",\"month\":\"https://t1.daumcdn.net/finance/chart/kr/daumforex/m/FRX.KRWCNY.png\",\"month3\":\"https://t1.daumcdn.net/finance/chart/kr/daumforex/m3/FRX.KRWCNY.png\",\"year\":\"https://t1.daumcdn.net/finance/chart/kr/daumforex/y/FRX.KRWCNY.png\"}},{\"symbolCode\":\"FRX.KRWEUR\",\"date\":\"2022-02-21 16:59:32\",\"currencyCode\":\"EUR\",\"currencyName\":\"유로\",\"currencyUnit\":1,\"country\":\"유로\",\"region\":{\"korName\":\"유럽\",\"engName\":\"Europe\"},\"name\":\"유로 (KRW/EUR)\",\"recurrenceCount\":245,\"basePrice\":1355.33,\"change\":\"FALL\",\"changePrice\":2.76,\"changeRate\":0.0020322659,\"cashBuyingPrice\":1382.3,\"cashSellingPrice\":1328.36,\"ttBuyingPrice\":1341.78,\"ttSellingPrice\":1368.88,\"tcBuyingPrice\":null,\"fcSellingPrice\":null,\"exchangeCommission\":1.418,\"usDollarRate\":1.1375,\"chartImageUrl\":{\"day\":\"https://t1.daumcdn.net/finance/chart/kr/daumforex/d/FRX.KRWEUR.png\",\"month\":\"https://t1.daumcdn.net/finance/chart/kr/daumforex/m/FRX.KRWEUR.png\",\"month3\":\"https://t1.daumcdn.net/finance/chart/kr/daumforex/m3/FRX.KRWEUR.png\",\"year\":\"https://t1.daumcdn.net/finance/chart/kr/daumforex/y/FRX.KRWEUR.png\"}},{\"symbolCode\":\"FRX.KRWGBP\",\"date\":\"2022-02-21 16:59:32\",\"currencyCode\":\"GBP\",\"currencyName\":\"파운드\",\"currencyUnit\":1,\"country\":\"영국\",\"region\":{\"korName\":\"유럽\",\"engName\":\"Europe\"},\"name\":\"영국 (KRW/GBP)\",\"recurrenceCount\":245,\"basePrice\":1623.9,\"change\":\"FALL\",\"changePrice\":3.35,\"changeRate\":0.002058688,\"cashBuyingPrice\":1655.89,\"cashSellingPrice\":1591.91,\"ttBuyingPrice\":1607.67,\"ttSellingPrice\":1640.13,\"tcBuyingPrice\":null,\"fcSellingPrice\":null,\"exchangeCommission\":2.4507,\"usDollarRate\":1.3629,\"chartImageUrl\":{\"day\":\"https://t1.daumcdn.net/finance/chart/kr/daumforex/d/FRX.KRWGBP.png\",\"month\":\"https://t1.daumcdn.net/finance/chart/kr/daumforex/m/FRX.KRWGBP.png\",\"month3\":\"https://t1.daumcdn.net/finance/chart/kr/daumforex/m3/FRX.KRWGBP.png\",\"year\":\"https://t1.daumcdn.net/finance/chart/kr/daumforex/y/FRX.KRWGBP.png\"}},{\"symbolCode\":\"FRX.KRWCHF\",\"date\":\"2022-02-21 16:59:32\",\"currencyCode\":\"CHF\",\"currencyName\":\"프랑\",\"currencyUnit\":1,\"country\":\"스위스\",\"region\":{\"korName\":\"유럽\",\"engName\":\"Europe\"},\"name\":\"스위스 (KRW/CHF)\",\"recurrenceCount\":245,\"basePrice\":1296.31,\"change\":\"FALL\",\"changePrice\":1.52,\"changeRate\":0.0011711857,\"cashBuyingPrice\":1321.84,\"cashSellingPrice\":1270.78,\"ttBuyingPrice\":1283.35,\"ttSellingPrice\":1309.27,\"tcBuyingPrice\":null,\"fcSellingPrice\":null,\"exchangeCommission\":1.4187,\"usDollarRate\":1.088,\"chartImageUrl\":{\"day\":\"https://t1.daumcdn.net/finance/chart/kr/daumforex/d/FRX.KRWCHF.png\",\"month\":\"https://t1.daumcdn.net/finance/chart/kr/daumforex/m/FRX.KRWCHF.png\",\"month3\":\"https://t1.daumcdn.net/finance/chart/kr/daumforex/m3/FRX.KRWCHF.png\",\"year\":\"https://t1.daumcdn.net/finance/chart/kr/daumforex/y/FRX.KRWCHF.png\"}},{\"symbolCode\":\"FRX.KRWCAD\",\"date\":\"2022-02-21 16:59:32\",\"currencyCode\":\"CAD\",\"currencyName\":\"달러\",\"currencyUnit\":1,\"country\":\"캐나다\",\"region\":{\"korName\":\"아메리카\",\"engName\":\"America\"},\"name\":\"캐나다 (KRW/CAD)\",\"recurrenceCount\":245,\"basePrice\":935.9,\"change\":\"FALL\",\"changePrice\":5.29,\"changeRate\":0.0056205442,\"cashBuyingPrice\":954.33,\"cashSellingPrice\":917.47,\"ttBuyingPrice\":926.55,\"ttSellingPrice\":945.25,\"tcBuyingPrice\":null,\"fcSellingPrice\":null,\"exchangeCommission\":2.3513,\"usDollarRate\":0.7855,\"chartImageUrl\":{\"day\":\"https://t1.daumcdn.net/finance/chart/kr/daumforex/d/FRX.KRWCAD.png\",\"month\":\"https://t1.daumcdn.net/finance/chart/kr/daumforex/m/FRX.KRWCAD.png\",\"month3\":\"https://t1.daumcdn.net/finance/chart/kr/daumforex/m3/FRX.KRWCAD.png\",\"year\":\"https://t1.daumcdn.net/finance/chart/kr/daumforex/y/FRX.KRWCAD.png\"}},{\"symbolCode\":\"FRX.KRWNZD\",\"date\":\"2022-02-21 16:59:33\",\"currencyCode\":\"NZD\",\"currencyName\":\"달러\",\"currencyUnit\":1,\"country\":\"뉴질랜드\",\"region\":{\"korName\":\"아시아\",\"engName\":\"Asia\"},\"name\":\"뉴질랜드 (KRW/NZD)\",\"recurrenceCount\":245,\"basePrice\":800.75,\"change\":\"FALL\",\"changePrice\":1.73,\"changeRate\":0.002155817,\"cashBuyingPrice\":816.52,\"cashSellingPrice\":784.98,\"ttBuyingPrice\":792.75,\"ttSellingPrice\":808.75,\"tcBuyingPrice\":null,\"fcSellingPrice\":null,\"exchangeCommission\":2.72,\"usDollarRate\":0.6721,\"chartImageUrl\":{\"day\":\"https://t1.daumcdn.net/finance/chart/kr/daumforex/d/FRX.KRWNZD.png\",\"month\":\"https://t1.daumcdn.net/finance/chart/kr/daumforex/m/FRX.KRWNZD.png\",\"month3\":\"https://t1.daumcdn.net/finance/chart/kr/daumforex/m3/FRX.KRWNZD.png\",\"year\":\"https://t1.daumcdn.net/finance/chart/kr/daumforex/y/FRX.KRWNZD.png\"}},{\"symbolCode\":\"FRX.KRWHKD\",\"date\":\"2022-02-21 16:59:32\",\"currencyCode\":\"HKD\",\"currencyName\":\"달러\",\"currencyUnit\":1,\"country\":\"홍콩\",\"region\":{\"korName\":\"아시아\",\"engName\":\"Asia\"},\"name\":\"홍콩 (KRW/HKD)\",\"recurrenceCount\":245,\"basePrice\":152.74,\"change\":\"FALL\",\"changePrice\":0.51,\"changeRate\":0.0033278956,\"cashBuyingPrice\":155.74,\"cashSellingPrice\":149.74,\"ttBuyingPrice\":151.22,\"ttSellingPrice\":154.26,\"tcBuyingPrice\":null,\"fcSellingPrice\":null,\"exchangeCommission\":2.192,\"usDollarRate\":0.1282,\"chartImageUrl\":{\"day\":\"https://t1.daumcdn.net/finance/chart/kr/daumforex/d/FRX.KRWHKD.png\",\"month\":\"https://t1.daumcdn.net/finance/chart/kr/daumforex/m/FRX.KRWHKD.png\",\"month3\":\"https://t1.daumcdn.net/finance/chart/kr/daumforex/m3/FRX.KRWHKD.png\",\"year\":\"https://t1.daumcdn.net/finance/chart/kr/daumforex/y/FRX.KRWHKD.png\"}},{\"symbolCode\":\"FRX.KRWBRL\",\"date\":\"2022-02-21 16:59:32\",\"currencyCode\":\"BRL\",\"currencyName\":\"레알\",\"currencyUnit\":1,\"country\":\"브라질\",\"region\":{\"korName\":\"아메리카\",\"engName\":\"America\"},\"name\":\"브라질 (KRW/BRL)\",\"recurrenceCount\":245,\"basePrice\":231.93,\"change\":\"RISE\",\"changePrice\":0.77,\"changeRate\":0.0033310261,\"cashBuyingPrice\":255.58,\"cashSellingPrice\":213.38,\"ttBuyingPrice\":229.15,\"ttSellingPrice\":0.0,\"tcBuyingPrice\":null,\"fcSellingPrice\":null,\"exchangeCommission\":12.202,\"usDollarRate\":0.1947,\"chartImageUrl\":{\"day\":\"https://t1.daumcdn.net/finance/chart/kr/daumforex/d/FRX.KRWBRL.png\",\"month\":\"https://t1.daumcdn.net/finance/chart/kr/daumforex/m/FRX.KRWBRL.png\",\"month3\":\"https://t1.daumcdn.net/finance/chart/kr/daumforex/m3/FRX.KRWBRL.png\",\"year\":\"https://t1.daumcdn.net/finance/chart/kr/daumforex/y/FRX.KRWBRL.png\"}},{\"symbolCode\":\"FRX.KRWMXN\",\"date\":\"2022-02-21 16:59:33\",\"currencyCode\":\"MXN\",\"currencyName\":\"페소\",\"currencyUnit\":1,\"country\":\"멕시코\",\"region\":{\"korName\":\"아메리카\",\"engName\":\"America\"},\"name\":\"멕시코 (KRW/MXN)\",\"recurrenceCount\":245,\"basePrice\":58.8,\"change\":\"FALL\",\"changePrice\":0.02,\"changeRate\":0.0003400204,\"cashBuyingPrice\":64.68,\"cashSellingPrice\":53.87,\"ttBuyingPrice\":58.22,\"ttSellingPrice\":59.38,\"tcBuyingPrice\":null,\"fcSellingPrice\":null,\"exchangeCommission\":8.727,\"usDollarRate\":0.0493,\"chartImageUrl\":{\"day\":\"https://t1.daumcdn.net/finance/chart/kr/daumforex/d/FRX.KRWMXN.png\",\"month\":\"https://t1.daumcdn.net/finance/chart/kr/daumforex/m/FRX.KRWMXN.png\",\"month3\":\"https://t1.daumcdn.net/finance/chart/kr/daumforex/m3/FRX.KRWMXN.png\",\"year\":\"https://t1.daumcdn.net/finance/chart/kr/daumforex/y/FRX.KRWMXN.png\"}},{\"symbolCode\":\"FRX.KRWAED\",\"date\":\"2022-02-21 16:59:32\",\"currencyCode\":\"AED\",\"currencyName\":\"디르함\",\"currencyUnit\":1,\"country\":\"아랍에미리트\",\"region\":{\"korName\":\"중동\",\"engName\":\"Middle East\"},\"name\":\"아랍에미리트 (KRW/AED)\",\"recurrenceCount\":245,\"basePrice\":324.39,\"change\":\"FALL\",\"changePrice\":1.09,\"changeRate\":0.0033489001,\"cashBuyingPrice\":342.23,\"cashSellingPrice\":302.01,\"ttBuyingPrice\":321.15,\"ttSellingPrice\":327.63,\"tcBuyingPrice\":null,\"fcSellingPrice\":null,\"exchangeCommission\":2.235,\"usDollarRate\":0.2723,\"chartImageUrl\":{\"day\":\"https://t1.daumcdn.net/finance/chart/kr/daumforex/d/FRX.KRWAED.png\",\"month\":\"https://t1.daumcdn.net/finance/chart/kr/daumforex/m/FRX.KRWAED.png\",\"month3\":\"https://t1.daumcdn.net/finance/chart/kr/daumforex/m3/FRX.KRWAED.png\",\"year\":\"https://t1.daumcdn.net/finance/chart/kr/daumforex/y/FRX.KRWAED.png\"}},{\"symbolCode\":\"FRX.KRWKWD\",\"date\":\"2022-02-21 16:59:33\",\"currencyCode\":\"KWD\",\"currencyName\":\"디나르\",\"currencyUnit\":1,\"country\":\"쿠웨이트\",\"region\":{\"korName\":\"중동\",\"engName\":\"Middle East\"},\"name\":\"쿠웨이트 (KRW/KWD)\",\"recurrenceCount\":245,\"basePrice\":3940.67,\"change\":\"FALL\",\"changePrice\":12.31,\"changeRate\":0.0031141063,\"cashBuyingPrice\":4196.81,\"cashSellingPrice\":3625.42,\"ttBuyingPrice\":3901.27,\"ttSellingPrice\":3980.07,\"tcBuyingPrice\":null,\"fcSellingPrice\":null,\"exchangeCommission\":3.0947,\"usDollarRate\":3.3073,\"chartImageUrl\":{\"day\":\"https://t1.daumcdn.net/finance/chart/kr/daumforex/d/FRX.KRWKWD.png\",\"month\":\"https://t1.daumcdn.net/finance/chart/kr/daumforex/m/FRX.KRWKWD.png\",\"month3\":\"https://t1.daumcdn.net/finance/chart/kr/daumforex/m3/FRX.KRWKWD.png\",\"year\":\"https://t1.daumcdn.net/finance/chart/kr/daumforex/y/FRX.KRWKWD.png\"}},{\"symbolCode\":\"FRX.KRWBHD\",\"date\":\"2022-02-21 16:59:32\",\"currencyCode\":\"BHD\",\"currencyName\":\"디나르\",\"currencyUnit\":1,\"country\":\"바레인\",\"region\":{\"korName\":\"중동\",\"engName\":\"Middle East\"},\"name\":\"바레인 (KRW/BHD)\",\"recurrenceCount\":245,\"basePrice\":3160.65,\"change\":\"FALL\",\"changePrice\":10.27,\"changeRate\":0.0032388077,\"cashBuyingPrice\":3362.93,\"cashSellingPrice\":2907.8,\"ttBuyingPrice\":3129.05,\"ttSellingPrice\":3192.25,\"tcBuyingPrice\":null,\"fcSellingPrice\":null,\"exchangeCommission\":3.4453,\"usDollarRate\":2.6527,\"chartImageUrl\":{\"day\":\"https://t1.daumcdn.net/finance/chart/kr/daumforex/d/FRX.KRWBHD.png\",\"month\":\"https://t1.daumcdn.net/finance/chart/kr/daumforex/m/FRX.KRWBHD.png\",\"month3\":\"https://t1.daumcdn.net/finance/chart/kr/daumforex/m3/FRX.KRWBHD.png\",\"year\":\"https://t1.daumcdn.net/finance/chart/kr/daumforex/y/FRX.KRWBHD.png\"}},{\"symbolCode\":\"FRX.KRWINR\",\"date\":\"2022-02-21 16:59:32\",\"currencyCode\":\"INR\",\"currencyName\":\"루피\",\"currencyUnit\":1,\"country\":\"인도\",\"region\":{\"korName\":\"아시아\",\"engName\":\"Asia\"},\"name\":\"인도 (KRW/INR)\",\"recurrenceCount\":245,\"basePrice\":16.0,\"change\":\"FALL\",\"changePrice\":0.02,\"changeRate\":0.0012484395,\"cashBuyingPrice\":0.0,\"cashSellingPrice\":0.0,\"ttBuyingPrice\":0.0,\"ttSellingPrice\":0.0,\"tcBuyingPrice\":null,\"fcSellingPrice\":null,\"exchangeCommission\":6.0656,\"usDollarRate\":0.0134,\"chartImageUrl\":{\"day\":\"https://t1.daumcdn.net/finance/chart/kr/daumforex/d/FRX.KRWINR.png\",\"month\":\"https://t1.daumcdn.net/finance/chart/kr/daumforex/m/FRX.KRWINR.png\",\"month3\":\"https://t1.daumcdn.net/finance/chart/kr/daumforex/m3/FRX.KRWINR.png\",\"year\":\"https://t1.daumcdn.net/finance/chart/kr/daumforex/y/FRX.KRWINR.png\"}},{\"symbolCode\":\"FRX.KRWSAR\",\"date\":\"2022-02-21 16:59:37\",\"currencyCode\":\"SAR\",\"currencyName\":\"리얄\",\"currencyUnit\":1,\"country\":\"사우디\",\"region\":{\"korName\":\"중동\",\"engName\":\"Middle East\"},\"name\":\"사우디 (KRW/SAR)\",\"recurrenceCount\":245,\"basePrice\":317.54,\"change\":\"FALL\",\"changePrice\":1.06,\"changeRate\":0.0033270559,\"cashBuyingPrice\":337.54,\"cashSellingPrice\":295.63,\"ttBuyingPrice\":314.37,\"ttSellingPrice\":320.71,\"tcBuyingPrice\":null,\"fcSellingPrice\":null,\"exchangeCommission\":2.7103,\"usDollarRate\":0.2665,\"chartImageUrl\":{\"day\":\"https://t1.daumcdn.net/finance/chart/kr/daumforex/d/FRX.KRWSAR.png\",\"month\":\"https://t1.daumcdn.net/finance/chart/kr/daumforex/m/FRX.KRWSAR.png\",\"month3\":\"https://t1.daumcdn.net/finance/chart/kr/daumforex/m3/FRX.KRWSAR.png\",\"year\":\"https://t1.daumcdn.net/finance/chart/kr/daumforex/y/FRX.KRWSAR.png\"}},{\"symbolCode\":\"FRX.KRWNOK\",\"date\":\"2022-02-21 16:59:33\",\"currencyCode\":\"NOK\",\"currencyName\":\"크로네\",\"currencyUnit\":1,\"country\":\"노르웨이\",\"region\":{\"korName\":\"유럽\",\"engName\":\"Europe\"},\"name\":\"노르웨이 (KRW/NOK)\",\"recurrenceCount\":245,\"basePrice\":133.39,\"change\":\"FALL\",\"changePrice\":0.32,\"changeRate\":0.0023932391,\"cashBuyingPrice\":136.65,\"cashSellingPrice\":130.13,\"ttBuyingPrice\":132.06,\"ttSellingPrice\":134.72,\"tcBuyingPrice\":null,\"fcSellingPrice\":null,\"exchangeCommission\":2.9047,\"usDollarRate\":0.112,\"chartImageUrl\":{\"day\":\"https://t1.daumcdn.net/finance/chart/kr/daumforex/d/FRX.KRWNOK.png\",\"month\":\"https://t1.daumcdn.net/finance/chart/kr/daumforex/m/FRX.KRWNOK.png\",\"month3\":\"https://t1.daumcdn.net/finance/chart/kr/daumforex/m3/FRX.KRWNOK.png\",\"year\":\"https://t1.daumcdn.net/finance/chart/kr/daumforex/y/FRX.KRWNOK.png\"}},{\"symbolCode\":\"FRX.KRWDKK\",\"date\":\"2022-02-21 16:59:32\",\"currencyCode\":\"DKK\",\"currencyName\":\"크로나\",\"currencyUnit\":1,\"country\":\"덴마크\",\"region\":{\"korName\":\"유럽\",\"engName\":\"Europe\"},\"name\":\"덴마크 (KRW/DKK)\",\"recurrenceCount\":245,\"basePrice\":182.19,\"change\":\"FALL\",\"changePrice\":0.4,\"changeRate\":0.0021907005,\"cashBuyingPrice\":186.65,\"cashSellingPrice\":177.73,\"ttBuyingPrice\":180.37,\"ttSellingPrice\":184.01,\"tcBuyingPrice\":null,\"fcSellingPrice\":null,\"exchangeCommission\":1.622,\"usDollarRate\":0.1529,\"chartImageUrl\":{\"day\":\"https://t1.daumcdn.net/finance/chart/kr/daumforex/d/FRX.KRWDKK.png\",\"month\":\"https://t1.daumcdn.net/finance/chart/kr/daumforex/m/FRX.KRWDKK.png\",\"month3\":\"https://t1.daumcdn.net/finance/chart/kr/daumforex/m3/FRX.KRWDKK.png\",\"year\":\"https://t1.daumcdn.net/finance/chart/kr/daumforex/y/FRX.KRWDKK.png\"}},{\"symbolCode\":\"FRX.KRWMYR\",\"date\":\"2022-02-21 16:59:33\",\"currencyCode\":\"MYR\",\"currencyName\":\"링키트\",\"currencyUnit\":1,\"country\":\"말레이시아\",\"region\":{\"korName\":\"아시아\",\"engName\":\"Asia\"},\"name\":\"말레이시아 (KRW/MYR)\",\"recurrenceCount\":245,\"basePrice\":284.88,\"change\":\"FALL\",\"changePrice\":0.71,\"changeRate\":0.0024860814,\"cashBuyingPrice\":302.82,\"cashSellingPrice\":263.8,\"ttBuyingPrice\":282.04,\"ttSellingPrice\":0.0,\"tcBuyingPrice\":null,\"fcSellingPrice\":null,\"exchangeCommission\":3.8447,\"usDollarRate\":0.2391,\"chartImageUrl\":{\"day\":\"https://t1.daumcdn.net/finance/chart/kr/daumforex/d/FRX.KRWMYR.png\",\"month\":\"https://t1.daumcdn.net/finance/chart/kr/daumforex/m/FRX.KRWMYR.png\",\"month3\":\"https://t1.daumcdn.net/finance/chart/kr/daumforex/m3/FRX.KRWMYR.png\",\"year\":\"https://t1.daumcdn.net/finance/chart/kr/daumforex/y/FRX.KRWMYR.png\"}},{\"symbolCode\":\"FRX.KRWBDT\",\"date\":\"2022-02-21 16:59:32\",\"currencyCode\":\"BDT\",\"currencyName\":\"타카\",\"currencyUnit\":1,\"country\":\"방글라데시\",\"region\":{\"korName\":\"아시아\",\"engName\":\"Asia\"},\"name\":\"방글라데시 (KRW/BDT)\",\"recurrenceCount\":245,\"basePrice\":13.86,\"change\":\"FALL\",\"changePrice\":0.03,\"changeRate\":0.0021598272,\"cashBuyingPrice\":0.0,\"cashSellingPrice\":0.0,\"ttBuyingPrice\":0.0,\"ttSellingPrice\":0.0,\"tcBuyingPrice\":null,\"fcSellingPrice\":null,\"exchangeCommission\":5.4623,\"usDollarRate\":0.0116,\"chartImageUrl\":{\"day\":\"https://t1.daumcdn.net/finance/chart/kr/daumforex/d/FRX.KRWBDT.png\",\"month\":\"https://t1.daumcdn.net/finance/chart/kr/daumforex/m/FRX.KRWBDT.png\",\"month3\":\"https://t1.daumcdn.net/finance/chart/kr/daumforex/m3/FRX.KRWBDT.png\",\"year\":\"https://t1.daumcdn.net/finance/chart/kr/daumforex/y/FRX.KRWBDT.png\"}},{\"symbolCode\":\"FRX.KRWPKR\",\"date\":\"2022-02-21 16:59:33\",\"currencyCode\":\"PKR\",\"currencyName\":\"루피\",\"currencyUnit\":1,\"country\":\"파키스탄\",\"region\":{\"korName\":\"아시아\",\"engName\":\"Asia\"},\"name\":\"파키스탄 (KRW/PKR)\",\"recurrenceCount\":245,\"basePrice\":6.75,\"change\":\"FALL\",\"changePrice\":0.05,\"changeRate\":0.0073529412,\"cashBuyingPrice\":0.0,\"cashSellingPrice\":0.0,\"ttBuyingPrice\":0.0,\"ttSellingPrice\":0.0,\"tcBuyingPrice\":null,\"fcSellingPrice\":null,\"exchangeCommission\":12.235,\"usDollarRate\":0.0057,\"chartImageUrl\":{\"day\":\"https://t1.daumcdn.net/finance/chart/kr/daumforex/d/FRX.KRWPKR.png\",\"month\":\"https://t1.daumcdn.net/finance/chart/kr/daumforex/m/FRX.KRWPKR.png\",\"month3\":\"https://t1.daumcdn.net/finance/chart/kr/daumforex/m3/FRX.KRWPKR.png\",\"year\":\"https://t1.daumcdn.net/finance/chart/kr/daumforex/y/FRX.KRWPKR.png\"}},{\"symbolCode\":\"FRX.KRWIDR\",\"date\":\"2022-02-21 16:59:32\",\"currencyCode\":\"IDR\",\"currencyName\":\"루피아\",\"currencyUnit\":100,\"country\":\"인도네시아\",\"region\":{\"korName\":\"아시아\",\"engName\":\"Asia\"},\"name\":\"인도네시아 (KRW/IDR100)\",\"recurrenceCount\":245,\"basePrice\":8.34,\"change\":\"FALL\",\"changePrice\":0.02,\"changeRate\":0.0023923445,\"cashBuyingPrice\":8.92,\"cashSellingPrice\":7.51,\"ttBuyingPrice\":8.26,\"ttSellingPrice\":8.42,\"tcBuyingPrice\":null,\"fcSellingPrice\":null,\"exchangeCommission\":5.525,\"usDollarRate\":0.007,\"chartImageUrl\":{\"day\":\"https://t1.daumcdn.net/finance/chart/kr/daumforex/d/FRX.KRWIDR.png\",\"month\":\"https://t1.daumcdn.net/finance/chart/kr/daumforex/m/FRX.KRWIDR.png\",\"month3\":\"https://t1.daumcdn.net/finance/chart/kr/daumforex/m3/FRX.KRWIDR.png\",\"year\":\"https://t1.daumcdn.net/finance/chart/kr/daumforex/y/FRX.KRWIDR.png\"}},{\"symbolCode\":\"FRX.KRWTWD\",\"date\":\"2022-02-21 16:59:38\",\"currencyCode\":\"TWD\",\"currencyName\":\"달러\",\"currencyUnit\":1,\"country\":\"대만\",\"region\":{\"korName\":\"아시아\",\"engName\":\"Asia\"},\"name\":\"대만 (KRW/TWD)\",\"recurrenceCount\":245,\"basePrice\":42.85,\"change\":\"FALL\",\"changePrice\":0.07,\"changeRate\":0.0016309413,\"cashBuyingPrice\":48.46,\"cashSellingPrice\":39.86,\"ttBuyingPrice\":0.0,\"ttSellingPrice\":0.0,\"tcBuyingPrice\":null,\"fcSellingPrice\":null,\"exchangeCommission\":2.3707,\"usDollarRate\":0.036,\"chartImageUrl\":{\"day\":\"https://t1.daumcdn.net/finance/chart/kr/daumforex/d/FRX.KRWTWD.png\",\"month\":\"https://t1.daumcdn.net/finance/chart/kr/daumforex/m/FRX.KRWTWD.png\",\"month3\":\"https://t1.daumcdn.net/finance/chart/kr/daumforex/m3/FRX.KRWTWD.png\",\"year\":\"https://t1.daumcdn.net/finance/chart/kr/daumforex/y/FRX.KRWTWD.png\"}},{\"symbolCode\":\"FRX.KRWPHP\",\"date\":\"2022-02-21 16:59:33\",\"currencyCode\":\"PHP\",\"currencyName\":\"페소\",\"currencyUnit\":1,\"country\":\"필리핀\",\"region\":{\"korName\":\"아시아\",\"engName\":\"Asia\"},\"name\":\"필리핀 (KRW/PHP)\",\"recurrenceCount\":245,\"basePrice\":23.19,\"change\":\"FALL\",\"changePrice\":0.06,\"changeRate\":0.0025806452,\"cashBuyingPrice\":25.5,\"cashSellingPrice\":21.29,\"ttBuyingPrice\":22.96,\"ttSellingPrice\":23.42,\"tcBuyingPrice\":null,\"fcSellingPrice\":null,\"exchangeCommission\":3.541,\"usDollarRate\":0.0195,\"chartImageUrl\":{\"day\":\"https://t1.daumcdn.net/finance/chart/kr/daumforex/d/FRX.KRWPHP.png\",\"month\":\"https://t1.daumcdn.net/finance/chart/kr/daumforex/m/FRX.KRWPHP.png\",\"month3\":\"https://t1.daumcdn.net/finance/chart/kr/daumforex/m3/FRX.KRWPHP.png\",\"year\":\"https://t1.daumcdn.net/finance/chart/kr/daumforex/y/FRX.KRWPHP.png\"}},{\"symbolCode\":\"FRX.KRWSEK\",\"date\":\"2022-02-21 16:59:38\",\"currencyCode\":\"SEK\",\"currencyName\":\"크로나\",\"currencyUnit\":1,\"country\":\"스웨덴\",\"region\":{\"korName\":\"유럽\",\"engName\":\"Europe\"},\"name\":\"스웨덴 (KRW/SEK)\",\"recurrenceCount\":245,\"basePrice\":127.76,\"change\":\"FALL\",\"changePrice\":0.49,\"changeRate\":0.0038206628,\"cashBuyingPrice\":130.89,\"cashSellingPrice\":124.63,\"ttBuyingPrice\":126.49,\"ttSellingPrice\":129.03,\"tcBuyingPrice\":null,\"fcSellingPrice\":null,\"exchangeCommission\":2.0743,\"usDollarRate\":0.1072,\"chartImageUrl\":{\"day\":\"https://t1.daumcdn.net/finance/chart/kr/daumforex/d/FRX.KRWSEK.png\",\"month\":\"https://t1.daumcdn.net/finance/chart/kr/daumforex/m/FRX.KRWSEK.png\",\"month3\":\"https://t1.daumcdn.net/finance/chart/kr/daumforex/m3/FRX.KRWSEK.png\",\"year\":\"https://t1.daumcdn.net/finance/chart/kr/daumforex/y/FRX.KRWSEK.png\"}},{\"symbolCode\":\"FRX.KRWAUD\",\"date\":\"2022-02-21 16:59:32\",\"currencyCode\":\"AUD\",\"currencyName\":\"달러\",\"currencyUnit\":1,\"country\":\"호주\",\"region\":{\"korName\":\"아시아\",\"engName\":\"Asia\"},\"name\":\"호주 (KRW/AUD)\",\"recurrenceCount\":245,\"basePrice\":859.91,\"change\":\"FALL\",\"changePrice\":0.97,\"changeRate\":0.001126754,\"cashBuyingPrice\":876.85,\"cashSellingPrice\":842.97,\"ttBuyingPrice\":851.32,\"ttSellingPrice\":868.5,\"tcBuyingPrice\":null,\"fcSellingPrice\":null,\"exchangeCommission\":2.1413,\"usDollarRate\":0.7217,\"chartImageUrl\":{\"day\":\"https://t1.daumcdn.net/finance/chart/kr/daumforex/d/FRX.KRWAUD.png\",\"month\":\"https://t1.daumcdn.net/finance/chart/kr/daumforex/m/FRX.KRWAUD.png\",\"month3\":\"https://t1.daumcdn.net/finance/chart/kr/daumforex/m3/FRX.KRWAUD.png\",\"year\":\"https://t1.daumcdn.net/finance/chart/kr/daumforex/y/FRX.KRWAUD.png\"}},{\"symbolCode\":\"FRX.KRWSGD\",\"date\":\"2022-02-21 16:59:38\",\"currencyCode\":\"SGD\",\"currencyName\":\"달러\",\"currencyUnit\":1,\"country\":\"싱가포르\",\"region\":{\"korName\":\"아시아\",\"engName\":\"Asia\"},\"name\":\"싱가포르 (KRW/SGD)\",\"recurrenceCount\":245,\"basePrice\":885.97,\"change\":\"FALL\",\"changePrice\":3.41,\"changeRate\":0.0038341316,\"cashBuyingPrice\":903.6,\"cashSellingPrice\":868.34,\"ttBuyingPrice\":877.12,\"ttSellingPrice\":894.82,\"tcBuyingPrice\":null,\"fcSellingPrice\":null,\"exchangeCommission\":2.535,\"usDollarRate\":0.7436,\"chartImageUrl\":{\"day\":\"https://t1.daumcdn.net/finance/chart/kr/daumforex/d/FRX.KRWSGD.png\",\"month\":\"https://t1.daumcdn.net/finance/chart/kr/daumforex/m/FRX.KRWSGD.png\",\"month3\":\"https://t1.daumcdn.net/finance/chart/kr/daumforex/m3/FRX.KRWSGD.png\",\"year\":\"https://t1.daumcdn.net/finance/chart/kr/daumforex/y/FRX.KRWSGD.png\"}},{\"symbolCode\":\"FRX.KRWTHB\",\"date\":\"2022-02-21 16:59:38\",\"currencyCode\":\"THB\",\"currencyName\":\"바트\",\"currencyUnit\":1,\"country\":\"태국\",\"region\":{\"korName\":\"아시아\",\"engName\":\"Asia\"},\"name\":\"태국 (KRW/THB)\",\"recurrenceCount\":245,\"basePrice\":37.09,\"change\":\"FALL\",\"changePrice\":0.07,\"changeRate\":0.001883746,\"cashBuyingPrice\":38.94,\"cashSellingPrice\":34.87,\"ttBuyingPrice\":36.72,\"ttSellingPrice\":37.46,\"tcBuyingPrice\":null,\"fcSellingPrice\":null,\"exchangeCommission\":2.5263,\"usDollarRate\":0.0311,\"chartImageUrl\":{\"day\":\"https://t1.daumcdn.net/finance/chart/kr/daumforex/d/FRX.KRWTHB.png\",\"month\":\"https://t1.daumcdn.net/finance/chart/kr/daumforex/m/FRX.KRWTHB.png\",\"month3\":\"https://t1.daumcdn.net/finance/chart/kr/daumforex/m3/FRX.KRWTHB.png\",\"year\":\"https://t1.daumcdn.net/finance/chart/kr/daumforex/y/FRX.KRWTHB.png\"}},{\"symbolCode\":\"FRX.KRWEGP\",\"date\":\"2022-02-21 16:59:32\",\"currencyCode\":\"EGP\",\"currencyName\":\"파운드\",\"currencyUnit\":1,\"country\":\"이집트\",\"region\":{\"korName\":\"중동\",\"engName\":\"Middle East\"},\"name\":\"이집트 (KRW/EGP)\",\"recurrenceCount\":245,\"basePrice\":75.72,\"change\":\"FALL\",\"changePrice\":0.26,\"changeRate\":0.0034219531,\"cashBuyingPrice\":0.0,\"cashSellingPrice\":0.0,\"ttBuyingPrice\":0.0,\"ttSellingPrice\":0.0,\"tcBuyingPrice\":null,\"fcSellingPrice\":null,\"exchangeCommission\":7.475,\"usDollarRate\":0.0636,\"chartImageUrl\":{\"day\":\"https://t1.daumcdn.net/finance/chart/kr/daumforex/d/FRX.KRWEGP.png\",\"month\":\"https://t1.daumcdn.net/finance/chart/kr/daumforex/m/FRX.KRWEGP.png\",\"month3\":\"https://t1.daumcdn.net/finance/chart/kr/daumforex/m3/FRX.KRWEGP.png\",\"year\":\"https://t1.daumcdn.net/finance/chart/kr/daumforex/y/FRX.KRWEGP.png\"}},{\"symbolCode\":\"FRX.KRWBND\",\"date\":\"2022-02-21 16:59:32\",\"currencyCode\":\"BND\",\"currencyName\":\"달러\",\"currencyUnit\":1,\"country\":\"브루나이\",\"region\":{\"korName\":\"아시아\",\"engName\":\"Asia\"},\"name\":\"브루나이 (KRW/BND)\",\"recurrenceCount\":245,\"basePrice\":885.97,\"change\":\"FALL\",\"changePrice\":3.41,\"changeRate\":0.0038341316,\"cashBuyingPrice\":921.4,\"cashSellingPrice\":832.82,\"ttBuyingPrice\":0.0,\"ttSellingPrice\":0.0,\"tcBuyingPrice\":null,\"fcSellingPrice\":null,\"exchangeCommission\":2.325,\"usDollarRate\":0.7436,\"chartImageUrl\":{\"day\":\"https://t1.daumcdn.net/finance/chart/kr/daumforex/d/FRX.KRWBND.png\",\"month\":\"https://t1.daumcdn.net/finance/chart/kr/daumforex/m/FRX.KRWBND.png\",\"month3\":\"https://t1.daumcdn.net/finance/chart/kr/daumforex/m3/FRX.KRWBND.png\",\"year\":\"https://t1.daumcdn.net/finance/chart/kr/daumforex/y/FRX.KRWBND.png\"}},{\"symbolCode\":\"FRX.KRWILS\",\"date\":\"2022-02-21 16:59:32\",\"currencyCode\":\"ILS\",\"currencyName\":\"쉐캐림\",\"currencyUnit\":1,\"country\":\"이스라엘\",\"region\":{\"korName\":\"중동\",\"engName\":\"Middle East\"},\"name\":\"이스라엘 (KRW/ILS)\",\"recurrenceCount\":245,\"basePrice\":373.24,\"change\":\"FALL\",\"changePrice\":0.96,\"changeRate\":0.002565473,\"cashBuyingPrice\":410.56,\"cashSellingPrice\":343.39,\"ttBuyingPrice\":0.0,\"ttSellingPrice\":0.0,\"tcBuyingPrice\":null,\"fcSellingPrice\":null,\"exchangeCommission\":2.3073,\"usDollarRate\":0.3133,\"chartImageUrl\":{\"day\":\"https://t1.daumcdn.net/finance/chart/kr/daumforex/d/FRX.KRWILS.png\",\"month\":\"https://t1.daumcdn.net/finance/chart/kr/daumforex/m/FRX.KRWILS.png\",\"month3\":\"https://t1.daumcdn.net/finance/chart/kr/daumforex/m3/FRX.KRWILS.png\",\"year\":\"https://t1.daumcdn.net/finance/chart/kr/daumforex/y/FRX.KRWILS.png\"}},{\"symbolCode\":\"FRX.KRWJOD\",\"date\":\"2022-02-21 16:59:32\",\"currencyCode\":\"JOD\",\"currencyName\":\"디나르\",\"currencyUnit\":1,\"country\":\"요르단\",\"region\":{\"korName\":\"중동\",\"engName\":\"Middle East\"},\"name\":\"요르단 (KRW/JOD)\",\"recurrenceCount\":245,\"basePrice\":1680.54,\"change\":\"FALL\",\"changePrice\":5.04,\"changeRate\":0.0029900687,\"cashBuyingPrice\":1830.1,\"cashSellingPrice\":1546.1,\"ttBuyingPrice\":0.0,\"ttSellingPrice\":0.0,\"tcBuyingPrice\":null,\"fcSellingPrice\":null,\"exchangeCommission\":5.443,\"usDollarRate\":1.4104,\"chartImageUrl\":{\"day\":\"https://t1.daumcdn.net/finance/chart/kr/daumforex/d/FRX.KRWJOD.png\",\"month\":\"https://t1.daumcdn.net/finance/chart/kr/daumforex/m/FRX.KRWJOD.png\",\"month3\":\"https://t1.daumcdn.net/finance/chart/kr/daumforex/m3/FRX.KRWJOD.png\",\"year\":\"https://t1.daumcdn.net/finance/chart/kr/daumforex/y/FRX.KRWJOD.png\"}},{\"symbolCode\":\"FRX.KRWVND\",\"date\":\"2022-02-21 16:59:38\",\"currencyCode\":\"VND\",\"currencyName\":\"동\",\"currencyUnit\":100,\"country\":\"베트남\",\"region\":{\"korName\":\"아시아\",\"engName\":\"Asia\"},\"name\":\"베트남 (KRW/VND100)\",\"recurrenceCount\":245,\"basePrice\":5.23,\"change\":\"FALL\",\"changePrice\":0.01,\"changeRate\":0.0019083969,\"cashBuyingPrice\":5.84,\"cashSellingPrice\":4.62,\"ttBuyingPrice\":5.18,\"ttSellingPrice\":5.28,\"tcBuyingPrice\":null,\"fcSellingPrice\":null,\"exchangeCommission\":4.3483,\"usDollarRate\":0.0044,\"chartImageUrl\":{\"day\":\"https://t1.daumcdn.net/finance/chart/kr/daumforex/d/FRX.KRWVND.png\",\"month\":\"https://t1.daumcdn.net/finance/chart/kr/daumforex/m/FRX.KRWVND.png\",\"month3\":\"https://t1.daumcdn.net/finance/chart/kr/daumforex/m3/FRX.KRWVND.png\",\"year\":\"https://t1.daumcdn.net/finance/chart/kr/daumforex/y/FRX.KRWVND.png\"}},{\"symbolCode\":\"FRX.KRWRUB\",\"date\":\"2022-02-21 16:59:37\",\"currencyCode\":\"RUB\",\"currencyName\":\"루블\",\"currencyUnit\":1,\"country\":\"러시아\",\"region\":{\"korName\":\"유럽\",\"engName\":\"Europe\"},\"name\":\"러시아 (KRW/RUB)\",\"recurrenceCount\":245,\"basePrice\":15.49,\"change\":\"FALL\",\"changePrice\":0.29,\"changeRate\":0.0183776933,\"cashBuyingPrice\":16.57,\"cashSellingPrice\":13.17,\"ttBuyingPrice\":15.34,\"ttSellingPrice\":15.64,\"tcBuyingPrice\":null,\"fcSellingPrice\":null,\"exchangeCommission\":11.975,\"usDollarRate\":0.013,\"chartImageUrl\":{\"day\":\"https://t1.daumcdn.net/finance/chart/kr/daumforex/d/FRX.KRWRUB.png\",\"month\":\"https://t1.daumcdn.net/finance/chart/kr/daumforex/m/FRX.KRWRUB.png\",\"month3\":\"https://t1.daumcdn.net/finance/chart/kr/daumforex/m3/FRX.KRWRUB.png\",\"year\":\"https://t1.daumcdn.net/finance/chart/kr/daumforex/y/FRX.KRWRUB.png\"}},{\"symbolCode\":\"FRX.KRWHUF\",\"date\":\"2022-02-21 16:59:32\",\"currencyCode\":\"HUF\",\"currencyName\":\"포린트\",\"currencyUnit\":1,\"country\":\"헝가리\",\"region\":{\"korName\":\"유럽\",\"engName\":\"Europe\"},\"name\":\"헝가리 (KRW/HUF)\",\"recurrenceCount\":245,\"basePrice\":3.81,\"change\":\"EVEN\",\"changePrice\":0.0,\"changeRate\":0,\"cashBuyingPrice\":4.16,\"cashSellingPrice\":3.51,\"ttBuyingPrice\":3.77,\"ttSellingPrice\":3.85,\"tcBuyingPrice\":null,\"fcSellingPrice\":null,\"exchangeCommission\":6.0283,\"usDollarRate\":0.0032,\"chartImageUrl\":{\"day\":\"https://t1.daumcdn.net/finance/chart/kr/daumforex/d/FRX.KRWHUF.png\",\"month\":\"https://t1.daumcdn.net/finance/chart/kr/daumforex/m/FRX.KRWHUF.png\",\"month3\":\"https://t1.daumcdn.net/finance/chart/kr/daumforex/m3/FRX.KRWHUF.png\",\"year\":\"https://t1.daumcdn.net/finance/chart/kr/daumforex/y/FRX.KRWHUF.png\"}},{\"symbolCode\":\"FRX.KRWPLN\",\"date\":\"2022-02-21 16:59:33\",\"currencyCode\":\"PLN\",\"currencyName\":\"줄러티\",\"currencyUnit\":1,\"country\":\"폴란드\",\"region\":{\"korName\":\"유럽\",\"engName\":\"Europe\"},\"name\":\"폴란드 (KRW/PLN)\",\"recurrenceCount\":245,\"basePrice\":300.36,\"change\":\"FALL\",\"changePrice\":0.12,\"changeRate\":0.000399361,\"cashBuyingPrice\":324.38,\"cashSellingPrice\":276.34,\"ttBuyingPrice\":297.06,\"ttSellingPrice\":303.66,\"tcBuyingPrice\":null,\"fcSellingPrice\":null,\"exchangeCommission\":4.6123,\"usDollarRate\":0.2521,\"chartImageUrl\":{\"day\":\"https://t1.daumcdn.net/finance/chart/kr/daumforex/d/FRX.KRWPLN.png\",\"month\":\"https://t1.daumcdn.net/finance/chart/kr/daumforex/m/FRX.KRWPLN.png\",\"month3\":\"https://t1.daumcdn.net/finance/chart/kr/daumforex/m3/FRX.KRWPLN.png\",\"year\":\"https://t1.daumcdn.net/finance/chart/kr/daumforex/y/FRX.KRWPLN.png\"}},{\"symbolCode\":\"FRX.KRWZAR\",\"date\":\"2022-02-21 16:59:38\",\"currencyCode\":\"ZAR\",\"currencyName\":\"랜드\",\"currencyUnit\":1,\"country\":\"남아공\",\"region\":{\"korName\":\"중동\",\"engName\":\"Middle East\"},\"name\":\"남아공 (KRW/ZAR)\",\"recurrenceCount\":245,\"basePrice\":78.93,\"change\":\"FALL\",\"changePrice\":0.35,\"changeRate\":0.0044147326,\"cashBuyingPrice\":83.66,\"cashSellingPrice\":72.62,\"ttBuyingPrice\":77.99,\"ttSellingPrice\":79.87,\"tcBuyingPrice\":null,\"fcSellingPrice\":null,\"exchangeCommission\":7.5983,\"usDollarRate\":0.0662,\"chartImageUrl\":{\"day\":\"https://t1.daumcdn.net/finance/chart/kr/daumforex/d/FRX.KRWZAR.png\",\"month\":\"https://t1.daumcdn.net/finance/chart/kr/daumforex/m/FRX.KRWZAR.png\",\"month3\":\"https://t1.daumcdn.net/finance/chart/kr/daumforex/m3/FRX.KRWZAR.png\",\"year\":\"https://t1.daumcdn.net/finance/chart/kr/daumforex/y/FRX.KRWZAR.png\"}},{\"symbolCode\":\"FRX.KRWMNT\",\"date\":\"2022-02-21 16:59:33\",\"currencyCode\":\"MNT\",\"currencyName\":\"투그릭\",\"currencyUnit\":1,\"country\":\"몽골\",\"region\":{\"korName\":\"아시아\",\"engName\":\"Asia\"},\"name\":\"몽골 (KRW/MNT)\",\"recurrenceCount\":245,\"basePrice\":0.41,\"change\":\"FALL\",\"changePrice\":0.01,\"changeRate\":0.0238095238,\"cashBuyingPrice\":0.0,\"cashSellingPrice\":0.0,\"ttBuyingPrice\":0.0,\"ttSellingPrice\":0.0,\"tcBuyingPrice\":null,\"fcSellingPrice\":null,\"exchangeCommission\":13.475,\"usDollarRate\":0.0003,\"chartImageUrl\":{\"day\":\"https://t1.daumcdn.net/finance/chart/kr/daumforex/d/FRX.KRWMNT.png\",\"month\":\"https://t1.daumcdn.net/finance/chart/kr/daumforex/m/FRX.KRWMNT.png\",\"month3\":\"https://t1.daumcdn.net/finance/chart/kr/daumforex/m3/FRX.KRWMNT.png\",\"year\":\"https://t1.daumcdn.net/finance/chart/kr/daumforex/y/FRX.KRWMNT.png\"}},{\"symbolCode\":\"FRX.KRWCZK\",\"date\":\"2022-02-21 16:59:32\",\"currencyCode\":\"CZK\",\"currencyName\":\"코루나\",\"currencyUnit\":1,\"country\":\"체코\",\"region\":{\"korName\":\"유럽\",\"engName\":\"Europe\"},\"name\":\"체코 (KRW/CZK)\",\"recurrenceCount\":245,\"basePrice\":55.8,\"change\":\"FALL\",\"changePrice\":0.04,\"changeRate\":0.0007163324,\"cashBuyingPrice\":60.54,\"cashSellingPrice\":50.78,\"ttBuyingPrice\":55.19,\"ttSellingPrice\":56.41,\"tcBuyingPrice\":null,\"fcSellingPrice\":null,\"exchangeCommission\":6.095,\"usDollarRate\":0.0468,\"chartImageUrl\":{\"day\":\"https://t1.daumcdn.net/finance/chart/kr/daumforex/d/FRX.KRWCZK.png\",\"month\":\"https://t1.daumcdn.net/finance/chart/kr/daumforex/m/FRX.KRWCZK.png\",\"month3\":\"https://t1.daumcdn.net/finance/chart/kr/daumforex/m3/FRX.KRWCZK.png\",\"year\":\"https://t1.daumcdn.net/finance/chart/kr/daumforex/y/FRX.KRWCZK.png\"}},{\"symbolCode\":\"FRX.KRWKZT\",\"date\":\"2022-02-21 16:59:33\",\"currencyCode\":\"KZT\",\"currencyName\":\"텡게\",\"currencyUnit\":1,\"country\":\"카자흐스탄\",\"region\":{\"korName\":\"아시아\",\"engName\":\"Asia\"},\"name\":\"카자흐스탄 (KRW/KZT)\",\"recurrenceCount\":245,\"basePrice\":2.79,\"change\":\"EVEN\",\"changePrice\":0.0,\"changeRate\":0,\"cashBuyingPrice\":0.0,\"cashSellingPrice\":0.0,\"ttBuyingPrice\":0.0,\"ttSellingPrice\":0.0,\"tcBuyingPrice\":null,\"fcSellingPrice\":null,\"exchangeCommission\":13.475,\"usDollarRate\":0.0023,\"chartImageUrl\":{\"day\":\"https://t1.daumcdn.net/finance/chart/kr/daumforex/d/FRX.KRWKZT.png\",\"month\":\"https://t1.daumcdn.net/finance/chart/kr/daumforex/m/FRX.KRWKZT.png\",\"month3\":\"https://t1.daumcdn.net/finance/chart/kr/daumforex/m3/FRX.KRWKZT.png\",\"year\":\"https://t1.daumcdn.net/finance/chart/kr/daumforex/y/FRX.KRWKZT.png\"}},{\"symbolCode\":\"FRX.KRWQAR\",\"date\":\"2022-02-21 16:59:33\",\"currencyCode\":\"QAR\",\"currencyName\":\"리얄\",\"currencyUnit\":1,\"country\":\"카타르\",\"region\":{\"korName\":\"중동\",\"engName\":\"Middle East\"},\"name\":\"카타르 (KRW/QAR)\",\"recurrenceCount\":245,\"basePrice\":326.24,\"change\":\"FALL\",\"changePrice\":2.1,\"changeRate\":0.0063958092,\"cashBuyingPrice\":0.0,\"cashSellingPrice\":0.0,\"ttBuyingPrice\":0.0,\"ttSellingPrice\":0.0,\"tcBuyingPrice\":null,\"fcSellingPrice\":null,\"exchangeCommission\":2.235,\"usDollarRate\":0.2738,\"chartImageUrl\":{\"day\":\"https://t1.daumcdn.net/finance/chart/kr/daumforex/d/FRX.KRWQAR.png\",\"month\":\"https://t1.daumcdn.net/finance/chart/kr/daumforex/m/FRX.KRWQAR.png\",\"month3\":\"https://t1.daumcdn.net/finance/chart/kr/daumforex/m3/FRX.KRWQAR.png\",\"year\":\"https://t1.daumcdn.net/finance/chart/kr/daumforex/y/FRX.KRWQAR.png\"}},{\"symbolCode\":\"FRX.KRWTRY\",\"date\":\"2022-02-21 16:59:38\",\"currencyCode\":\"TRY\",\"currencyName\":\"리라\",\"currencyUnit\":1,\"country\":\"터키\",\"region\":{\"korName\":\"중동\",\"engName\":\"Middle East\"},\"name\":\"터키 (KRW/TRY)\",\"recurrenceCount\":245,\"basePrice\":87.44,\"change\":\"FALL\",\"changePrice\":0.3,\"changeRate\":0.0034191931,\"cashBuyingPrice\":0.0,\"cashSellingPrice\":0.0,\"ttBuyingPrice\":86.48,\"ttSellingPrice\":88.4,\"tcBuyingPrice\":null,\"fcSellingPrice\":null,\"exchangeCommission\":24.685,\"usDollarRate\":0.0734,\"chartImageUrl\":{\"day\":\"https://t1.daumcdn.net/finance/chart/kr/daumforex/d/FRX.KRWTRY.png\",\"month\":\"https://t1.daumcdn.net/finance/chart/kr/daumforex/m/FRX.KRWTRY.png\",\"month3\":\"https://t1.daumcdn.net/finance/chart/kr/daumforex/m3/FRX.KRWTRY.png\",\"year\":\"https://t1.daumcdn.net/finance/chart/kr/daumforex/y/FRX.KRWTRY.png\"}}],\"baseDate\":\"2022-02-21 16:59:32\",\"recurrenceCount\":245,\"provider\":\"하나은행\"}'"
      ]
     },
     "execution_count": 21,
     "metadata": {},
     "output_type": "execute_result"
    }
   ],
   "source": [
    "response.text"
   ]
  },
  {
   "cell_type": "markdown",
   "id": "7b7261fe",
   "metadata": {},
   "source": [
    "### 3. data(json(str)) -> dataframe"
   ]
  },
  {
   "cell_type": "code",
   "execution_count": 25,
   "id": "04e835b5",
   "metadata": {},
   "outputs": [
    {
     "data": {
      "text/html": [
       "<div>\n",
       "<style scoped>\n",
       "    .dataframe tbody tr th:only-of-type {\n",
       "        vertical-align: middle;\n",
       "    }\n",
       "\n",
       "    .dataframe tbody tr th {\n",
       "        vertical-align: top;\n",
       "    }\n",
       "\n",
       "    .dataframe thead th {\n",
       "        text-align: right;\n",
       "    }\n",
       "</style>\n",
       "<table border=\"1\" class=\"dataframe\">\n",
       "  <thead>\n",
       "    <tr style=\"text-align: right;\">\n",
       "      <th></th>\n",
       "      <th>symbolCode</th>\n",
       "      <th>date</th>\n",
       "      <th>currencyCode</th>\n",
       "      <th>basePrice</th>\n",
       "    </tr>\n",
       "  </thead>\n",
       "  <tbody>\n",
       "    <tr>\n",
       "      <th>0</th>\n",
       "      <td>FRX.KRWUSD</td>\n",
       "      <td>2022-02-21 16:59:38</td>\n",
       "      <td>USD</td>\n",
       "      <td>1191.50</td>\n",
       "    </tr>\n",
       "    <tr>\n",
       "      <th>1</th>\n",
       "      <td>FRX.KRWJPY</td>\n",
       "      <td>2022-02-21 16:59:32</td>\n",
       "      <td>JPY</td>\n",
       "      <td>1036.67</td>\n",
       "    </tr>\n",
       "    <tr>\n",
       "      <th>2</th>\n",
       "      <td>FRX.KRWCNY</td>\n",
       "      <td>2022-02-21 16:59:32</td>\n",
       "      <td>CNY</td>\n",
       "      <td>188.31</td>\n",
       "    </tr>\n",
       "    <tr>\n",
       "      <th>3</th>\n",
       "      <td>FRX.KRWEUR</td>\n",
       "      <td>2022-02-21 16:59:32</td>\n",
       "      <td>EUR</td>\n",
       "      <td>1355.33</td>\n",
       "    </tr>\n",
       "    <tr>\n",
       "      <th>4</th>\n",
       "      <td>FRX.KRWGBP</td>\n",
       "      <td>2022-02-21 16:59:32</td>\n",
       "      <td>GBP</td>\n",
       "      <td>1623.90</td>\n",
       "    </tr>\n",
       "  </tbody>\n",
       "</table>\n",
       "</div>"
      ],
      "text/plain": [
       "   symbolCode                 date currencyCode  basePrice\n",
       "0  FRX.KRWUSD  2022-02-21 16:59:38          USD    1191.50\n",
       "1  FRX.KRWJPY  2022-02-21 16:59:32          JPY    1036.67\n",
       "2  FRX.KRWCNY  2022-02-21 16:59:32          CNY     188.31\n",
       "3  FRX.KRWEUR  2022-02-21 16:59:32          EUR    1355.33\n",
       "4  FRX.KRWGBP  2022-02-21 16:59:32          GBP    1623.90"
      ]
     },
     "execution_count": 25,
     "metadata": {},
     "output_type": "execute_result"
    }
   ],
   "source": [
    "datas = response.json()[\"data\"]\n",
    "df = pd.DataFrame(datas)[[\"symbolCode\", \"date\", \"currencyCode\", \"basePrice\"]]\n",
    "df.head()"
   ]
  },
  {
   "cell_type": "markdown",
   "id": "5d03b1a9",
   "metadata": {},
   "source": []
  }
 ],
 "metadata": {
  "kernelspec": {
   "display_name": "Python 3",
   "language": "python",
   "name": "python3"
  },
  "language_info": {
   "codemirror_mode": {
    "name": "ipython",
    "version": 3
   },
   "file_extension": ".py",
   "mimetype": "text/x-python",
   "name": "python",
   "nbconvert_exporter": "python",
   "pygments_lexer": "ipython3",
   "version": "3.8.8"
  }
 },
 "nbformat": 4,
 "nbformat_minor": 5
}
