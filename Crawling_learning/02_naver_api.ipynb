{
 "cells": [
  {
   "cell_type": "markdown",
   "id": "7806c657",
   "metadata": {},
   "source": [
    "#### 크롤링 정책\n",
    "- robots.txt : 크롤링 정책을 설명한 페이지\n",
    "- 과도한 크롤링으로 서비스에 영향을 주었을 때 법적 문제가 있을 수 있음\n",
    "- 사람인, 잡코리아\n",
    "- 가장 좋은 방법은 api 사용 \n",
    "- robots.txt 정책에 맞게 크롤링 사용\n",
    "- 서비스에 피해가 가지 않는 선에서 수집\n",
    "- 서비스 피해\n",
    "    - 지적재산권\n",
    "    - 서비스 과부화\n",
    "    - 데이터 사용 표준"
   ]
  },
  {
   "cell_type": "markdown",
   "id": "4f1ded0c",
   "metadata": {},
   "source": [
    "### API 서비스를 이용한 데이터 수집\n",
    "- application 등록 : app key\n",
    "- document 확인 : url\n",
    "- request(url, app_key, data) -> response(json(str))\n",
    "- json(str) -> list, dict"
   ]
  },
  {
   "cell_type": "code",
   "execution_count": 1,
   "id": "5ea7ac09",
   "metadata": {},
   "outputs": [],
   "source": [
    "import json\n",
    "import requests\n",
    "import pandas as pd"
   ]
  },
  {
   "cell_type": "markdown",
   "id": "8c3f2e14",
   "metadata": {},
   "source": [
    "카카오 번역 api 사용"
   ]
  },
  {
   "cell_type": "markdown",
   "id": "6876d1d0",
   "metadata": {},
   "source": [
    "### 1. application 등록 : app key"
   ]
  },
  {
   "cell_type": "code",
   "execution_count": 2,
   "id": "e267983a",
   "metadata": {},
   "outputs": [],
   "source": [
    "APP_KEY='bb095e331ba7f57c55f6004355b5a97e'"
   ]
  },
  {
   "cell_type": "markdown",
   "id": "4470eb03",
   "metadata": {},
   "source": [
    "### 2. document 확인 : url\n",
    "#### post (url, params, headers)"
   ]
  },
  {
   "cell_type": "code",
   "execution_count": 4,
   "id": "c6269c40",
   "metadata": {},
   "outputs": [],
   "source": [
    "url = 'https://dapi.kakao.com/v2/translation/translate'\n",
    "params = {\n",
    "    'query':\"파이썬 웹 크롤링 수업입니다.\",\n",
    "    'src_lang' : \"kr\",\n",
    "    'target_lang' : \"en\",\n",
    "         }\n",
    "headers = {\"Authorization\": f\"KakaoAK {APP_KEY}\"}"
   ]
  },
  {
   "cell_type": "markdown",
   "id": "dd3c9c58",
   "metadata": {},
   "source": [
    "### 3. request(url, app_key, data) -> response(json(str))"
   ]
  },
  {
   "cell_type": "code",
   "execution_count": 5,
   "id": "65e08911",
   "metadata": {},
   "outputs": [
    {
     "data": {
      "text/plain": [
       "<Response [200]>"
      ]
     },
     "execution_count": 5,
     "metadata": {},
     "output_type": "execute_result"
    }
   ],
   "source": [
    "response = requests.post(url, params, headers=headers)\n",
    "response"
   ]
  },
  {
   "cell_type": "code",
   "execution_count": 6,
   "id": "4a8f88a8",
   "metadata": {},
   "outputs": [
    {
     "data": {
      "text/plain": [
       "'{\"translated_text\":[[\"Python Web crawling class.\"]]}'"
      ]
     },
     "execution_count": 6,
     "metadata": {},
     "output_type": "execute_result"
    }
   ],
   "source": [
    "response.text"
   ]
  },
  {
   "cell_type": "markdown",
   "id": "b7ec4ecc",
   "metadata": {},
   "source": [
    "### 4. json(str) -> list, dict"
   ]
  },
  {
   "cell_type": "code",
   "execution_count": 9,
   "id": "60060881",
   "metadata": {},
   "outputs": [
    {
     "data": {
      "text/plain": [
       "'Python Web crawling class.'"
      ]
     },
     "execution_count": 9,
     "metadata": {},
     "output_type": "execute_result"
    }
   ],
   "source": [
    "en_txt = response.json()[\"translated_text\"][0][0]\n",
    "en_txt"
   ]
  },
  {
   "cell_type": "code",
   "execution_count": 14,
   "id": "004e2162",
   "metadata": {},
   "outputs": [],
   "source": [
    "def translate(text, src = \"kr\", target=\"en\"):\n",
    "    APP_KEY='bb095e331ba7f57c55f6004355b5a97e'\n",
    "    url=\"https://dapi.kakao.com/v2/translation/translate\"\n",
    "    params = {\"query\":text, \"src_lang\":src, \"target_lang\":target}\n",
    "    headers = {\"Authorization\" : f\"KakaoAK {APP_KEY}\"}\n",
    "    response = requests.post(url, params, headers=headers)\n",
    "    return response.json()[\"translated_text\"][0][0]"
   ]
  },
  {
   "cell_type": "code",
   "execution_count": 15,
   "id": "cf920d91",
   "metadata": {},
   "outputs": [
    {
     "data": {
      "text/plain": [
       "'Python programming is fun.'"
      ]
     },
     "execution_count": 15,
     "metadata": {},
     "output_type": "execute_result"
    }
   ],
   "source": [
    "text = \"파이썬 프로그래밍은 재미있습니다.\"\n",
    "en_text = translate(text)\n",
    "en_text"
   ]
  },
  {
   "cell_type": "code",
   "execution_count": null,
   "id": "6f36ff56",
   "metadata": {},
   "outputs": [],
   "source": []
  }
 ],
 "metadata": {
  "kernelspec": {
   "display_name": "Python 3",
   "language": "python",
   "name": "python3"
  },
  "language_info": {
   "codemirror_mode": {
    "name": "ipython",
    "version": 3
   },
   "file_extension": ".py",
   "mimetype": "text/x-python",
   "name": "python",
   "nbconvert_exporter": "python",
   "pygments_lexer": "ipython3",
   "version": "3.8.8"
  }
 },
 "nbformat": 4,
 "nbformat_minor": 5
}
